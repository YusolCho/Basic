{
  "nbformat": 4,
  "nbformat_minor": 0,
  "metadata": {
    "colab": {
      "provenance": [],
      "authorship_tag": "ABX9TyNYVADgEQL/abMCCsyHJAGV",
      "include_colab_link": true
    },
    "kernelspec": {
      "name": "python3",
      "display_name": "Python 3"
    },
    "language_info": {
      "name": "python"
    }
  },
  "cells": [
    {
      "cell_type": "markdown",
      "metadata": {
        "id": "view-in-github",
        "colab_type": "text"
      },
      "source": [
        "<a href=\"https://colab.research.google.com/github/YusolCho/Basic/blob/main/basic_pd_np_plt_.ipynb\" target=\"_parent\"><img src=\"https://colab.research.google.com/assets/colab-badge.svg\" alt=\"Open In Colab\"/></a>"
      ]
    },
    {
      "cell_type": "markdown",
      "source": [
        "#### Pandas"
      ],
      "metadata": {
        "id": "M-42o3yYvNV8"
      }
    },
    {
      "cell_type": "code",
      "source": [
        "import pandas as pd"
      ],
      "metadata": {
        "id": "hz-mhCb1rFmq"
      },
      "execution_count": 2,
      "outputs": []
    },
    {
      "cell_type": "code",
      "source": [
        "# 1. 데이터프레임 만들기\n",
        "names = ['bob','jessica','mray','john','mel']\n",
        "births = [968, 155,77, 578, 973]\n",
        "custom =[1,5,25,13,23232]\n",
        "\n",
        "babydataset = list(zip(names,births))\n",
        "print(babydataset)\n",
        "\n",
        "df = pd.DataFrame(data = babydataset, columns = ['Names','Births'])"
      ],
      "metadata": {
        "colab": {
          "base_uri": "https://localhost:8080/"
        },
        "id": "GwmfqCccrJfG",
        "outputId": "7359bdef-80dc-41ac-9bc4-7cdf62089f1d"
      },
      "execution_count": 42,
      "outputs": [
        {
          "output_type": "stream",
          "name": "stdout",
          "text": [
            "[('bob', 968), ('jessica', 155), ('mray', 77), ('john', 578), ('mel', 973)]\n"
          ]
        }
      ]
    },
    {
      "cell_type": "code",
      "source": [
        "# zip 함수 확인 \n",
        "a= zip(names,births) \n",
        "print(a)"
      ],
      "metadata": {
        "colab": {
          "base_uri": "https://localhost:8080/"
        },
        "id": "4GZtwEShrbSw",
        "outputId": "2e0bc072-babe-4c67-9a68-0c8d67021fde"
      },
      "execution_count": 16,
      "outputs": [
        {
          "output_type": "stream",
          "name": "stdout",
          "text": [
            "<zip object at 0x7f6b51363680>\n"
          ]
        }
      ]
    },
    {
      "cell_type": "code",
      "source": [
        "# list(zip()) 결과 확인\n",
        "for i in babydataset:\n",
        "  print(i)"
      ],
      "metadata": {
        "colab": {
          "base_uri": "https://localhost:8080/"
        },
        "id": "kPLkGC4LsVv6",
        "outputId": "e4ddb7db-e734-4704-bfb8-5f04642c3274"
      },
      "execution_count": 13,
      "outputs": [
        {
          "output_type": "stream",
          "name": "stdout",
          "text": [
            "('bob', 968)\n",
            "('jessica', 155)\n",
            "('mray', 77)\n",
            "('john', 578)\n",
            "('mel', 973)\n"
          ]
        }
      ]
    },
    {
      "cell_type": "code",
      "source": [
        "# 2. 데이터프레임 기본정보 출력하기 \n",
        "print(df.head())\n",
        "print(df.dtypes)    # 열 타입 정보\n",
        "print(df.index)     # 인덱스 정보\n",
        "print(df.columns)   # 열의 형태 정보"
      ],
      "metadata": {
        "colab": {
          "base_uri": "https://localhost:8080/"
        },
        "id": "r43QE-smsa1l",
        "outputId": "98ae63e5-115c-42e9-adb6-a47e0c510867"
      },
      "execution_count": 22,
      "outputs": [
        {
          "output_type": "stream",
          "name": "stdout",
          "text": [
            "     Names  Briths\n",
            "0      bob     968\n",
            "1  jessica     155\n",
            "2     mray      77\n",
            "3     john     578\n",
            "4      mel     973\n",
            "Names     object\n",
            "Briths     int64\n",
            "dtype: object\n",
            "RangeIndex(start=0, stop=5, step=1)\n",
            "Index(['Names', 'Briths'], dtype='object')\n"
          ]
        }
      ]
    },
    {
      "cell_type": "code",
      "source": [
        "print(df['Names'])    # 데이터 프레임의 열 선택하기 - 시리즈 객체 출력 \n",
        "print(df[0:3])      # 데이터 프레임의 인덱스 선택하기(행번호 0-3번째, 모든 행번호 0부터시작) - 데이터프레임 출력\n",
        "print(df[df['Births']>100])     # 조건에 따른 필터링 : Biths 열이 100보다 큰 데이터를 선택\n",
        "print(df.mean())     # 평균값 계산 - 연산 가능한 열만 반환"
      ],
      "metadata": {
        "colab": {
          "base_uri": "https://localhost:8080/"
        },
        "id": "U9PrfdzqvSwX",
        "outputId": "e19e68c1-d0f2-4554-cd91-2b3be5f00062"
      },
      "execution_count": 27,
      "outputs": [
        {
          "output_type": "stream",
          "name": "stdout",
          "text": [
            "0        bob\n",
            "1    jessica\n",
            "2       mray\n",
            "3       john\n",
            "4        mel\n",
            "Name: Names, dtype: object\n",
            "     Names  Births\n",
            "0      bob     968\n",
            "1  jessica     155\n",
            "2     mray      77\n",
            "     Names  Births\n",
            "0      bob     968\n",
            "1  jessica     155\n",
            "3     john     578\n",
            "4      mel     973\n",
            "Births    550.2\n",
            "dtype: float64\n"
          ]
        },
        {
          "output_type": "stream",
          "name": "stderr",
          "text": [
            "<ipython-input-27-8d9d23d8ceb8>:4: FutureWarning: Dropping of nuisance columns in DataFrame reductions (with 'numeric_only=None') is deprecated; in a future version this will raise TypeError.  Select only valid columns before calling the reduction.\n",
            "  print(df.mean())     # 평균값 계산 - 연산 가능한 열만 반환\n"
          ]
        }
      ]
    },
    {
      "cell_type": "markdown",
      "source": [
        "#### Numpy"
      ],
      "metadata": {
        "id": "ZjC9g7zKvXNs"
      }
    },
    {
      "cell_type": "code",
      "source": [
        "import numpy as np"
      ],
      "metadata": {
        "id": "HtRjNVzBvYjM"
      },
      "execution_count": 37,
      "outputs": []
    },
    {
      "cell_type": "code",
      "source": [
        "# 배열 생성 \n",
        "arr1 = np.arange(15).reshape(3,5)"
      ],
      "metadata": {
        "id": "XejWchXsvmib"
      },
      "execution_count": 33,
      "outputs": []
    },
    {
      "cell_type": "code",
      "source": [
        "# 배열 정보 확인 \n",
        "print(arr1.shape)     # 배열 데이터 차원\n",
        "print(arr1.dtype)     # 배열 데이터 타입"
      ],
      "metadata": {
        "colab": {
          "base_uri": "https://localhost:8080/"
        },
        "id": "fdofvBtCvqve",
        "outputId": "7d07ab15-7acf-4305-d866-1fb473b66b11"
      },
      "execution_count": 34,
      "outputs": [
        {
          "output_type": "stream",
          "name": "stdout",
          "text": [
            "(3, 5)\n",
            "int64\n"
          ]
        }
      ]
    },
    {
      "cell_type": "code",
      "source": [
        "# zeros()함수로 배열 생성\n",
        "arr3 = np.zeros((3,4))\n",
        "print(arr3)"
      ],
      "metadata": {
        "colab": {
          "base_uri": "https://localhost:8080/"
        },
        "id": "kHX9nY_mw2wB",
        "outputId": "ac8f036f-260c-4d78-df88-d53233008a12"
      },
      "execution_count": 35,
      "outputs": [
        {
          "output_type": "stream",
          "name": "stdout",
          "text": [
            "[[0. 0. 0. 0.]\n",
            " [0. 0. 0. 0.]\n",
            " [0. 0. 0. 0.]]\n"
          ]
        }
      ]
    },
    {
      "cell_type": "code",
      "source": [
        "# 데이터 연산 (넘파이의 존재 이유..~)\n",
        "arr4 = np.array([\n",
        "    [1,2,3],\n",
        "    [4,5,6]\n",
        "], dtype = np.float64)\n",
        "\n",
        "arr5 = np.array([\n",
        "    [7,8,9],\n",
        "    [11,12,13]\n",
        "], dtype = np.float64)\n",
        "\n",
        "print(\"arr4 * arr5 =\")\n",
        "print(arr4*arr5, \"\\n\")"
      ],
      "metadata": {
        "colab": {
          "base_uri": "https://localhost:8080/"
        },
        "id": "Gr8kEMpVyZzi",
        "outputId": "71e45f82-ba1e-4598-e44f-4270b6fd71f7"
      },
      "execution_count": 38,
      "outputs": [
        {
          "output_type": "stream",
          "name": "stdout",
          "text": [
            "arr4 * arr5 =\n",
            "[[ 7. 16. 27.]\n",
            " [44. 60. 78.]] \n",
            "\n"
          ]
        }
      ]
    },
    {
      "cell_type": "markdown",
      "source": [
        "#### Matplotlib"
      ],
      "metadata": {
        "id": "81d7ljVsyfUo"
      }
    },
    {
      "cell_type": "code",
      "source": [
        "# 라이브러리 불러오기\n",
        "%matplotlib inline\n",
        "import matplotlib.pyplot as plt"
      ],
      "metadata": {
        "id": "Pgwe55tkyhST"
      },
      "execution_count": 39,
      "outputs": []
    },
    {
      "cell_type": "code",
      "source": [
        "# 막대 그래프 출력\n",
        "\n",
        "y = df['Births']\n",
        "x = df['Names']\n",
        "\n",
        "plt.bar(x,y)      # 막대그래프 객체 생성\n",
        "plt.xlabel('Names')     # x축 제목\n",
        "plt.ylabel('Briths')      # y축 제목\n",
        "plt.title('Bar plot')     # 그래프 제목\n",
        "plt.show()      # 그래프 출력 "
      ],
      "metadata": {
        "colab": {
          "base_uri": "https://localhost:8080/",
          "height": 295
        },
        "id": "_on3X-vpyrx7",
        "outputId": "e8684fc4-776d-4fba-a267-3da6efef82a1"
      },
      "execution_count": 44,
      "outputs": [
        {
          "output_type": "display_data",
          "data": {
            "text/plain": [
              "<Figure size 432x288 with 1 Axes>"
            ],
            "image/png": "[encoded data removed]"
          },
          "metadata": {
            "needs_background": "light"
          }
        }
      ]
    },
    {
      "cell_type": "code",
      "source": [
        "# 산점도 그래프 출력하기\n",
        "\n",
        "np.random.seed(183949)    # 랜덤 추출 시드를 고정 \n",
        "x = np.arange(0, 100, 5)\n",
        "y = (x * 1.5) + np.random.rand(20)*50     # 데이터 생성\n",
        "plt.scatter(x, y, c=\"b\", alpha = 0.5, label = \"scatter point\")      # 산점도 그래프 객체 생성 : 점색을 b, 점투명도를 alpha = 0.1\n",
        "plt.xlabel(\"X\")\n",
        "plt.ylabel(\"Y\")\n",
        "plt.legend(loc = 'upper left') # legend로 그래프에 데이터의 범례 표시\n",
        "plt.title('Scatter plot')\n",
        "plt.show()"
      ],
      "metadata": {
        "colab": {
          "base_uri": "https://localhost:8080/",
          "height": 295
        },
        "id": "SmbHTMRozpLi",
        "outputId": "34624afb-2473-40f6-928f-e65aba096560"
      },
      "execution_count": 53,
      "outputs": [
        {
          "output_type": "display_data",
          "data": {
            "text/plain": [
              "<Figure size 432x288 with 1 Axes>"
            ],
            "image/png": "[encoded data removed]"
          },
          "metadata": {
            "needs_background": "light"
          }
        }
      ]
    },
    {
      "cell_type": "markdown",
      "source": [
        "#### 그 외\n",
        "- 파이썬 zip 함수 : 지퍼처럼 두 그룹의 데이터를 엮어줌 list(zip()) 형태로 잘 쓰임 \n",
        "- 파이썬 random.seed : '예상되는', '고정된' 난수를 생성해줌 "
      ],
      "metadata": {
        "id": "dA6WjZj03TF4"
      }
    }
  ]
}