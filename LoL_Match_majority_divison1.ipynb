{
  "cells": [
    {
      "cell_type": "markdown",
      "metadata": {
        "id": "view-in-github",
        "colab_type": "text"
      },
      "source": [
        "<a href=\"https://colab.research.google.com/github/YusolCho/Basic/blob/main/LoL_Match_majority_divison1.ipynb\" target=\"_parent\"><img src=\"https://colab.research.google.com/assets/colab-badge.svg\" alt=\"Open In Colab\"/></a>"
      ]
    },
    {
      "cell_type": "markdown",
      "metadata": {
        "id": "6EefJODv-CvR"
      },
      "source": [
        "# **RANK = GOLD, TIER(DIVISION) = I 인 유저들의 매치 데이터셋 생성하기**\n",
        "## **(유저 20000명으로 확대)**\n",
        "\n",
        "* MIDDLE 로 포지션을 제한시켜버리면 1/8정도로 데이터가 확 감소하기 때문에, 초반에 많은 양의 데이터셋을 만들고자 함 \n",
        "\n",
        "##  ** << 만드는 순서 >> ** \n",
        "\n",
        "###  1. **SUMMONER ID, SUMMONER NAME 추출** (LEAGUE-EXP-V4: region 설정 'KR'로 해야함)\n",
        "    * 데이터 프레임 타입으로 추출 \n",
        "    * SUMMONER ID 만 따로 리스트로 추출하고 2번으로 \n",
        "\n",
        "###  2. **PUUID 추출** (SUMMONER-V4: region 설정 'KR'로 해야함)\n",
        "    * 원소가 문자열인 리스트 타입으로 추출\n",
        "\n",
        "###  3. **MATCH ID 추출** (MATCH-V5: region 설정 'asia'로 해야함)\n",
        "    * 하나의 PUUID 당 몇 개의 MATCH ID 를 추출한건지를 생각해야함. \n",
        "    * PUUID의 개수(SUMMONER NAME, SUMMONER ID 개수와 동일, len(puuid 리스트명)으로 확인)가 충분히 많다면 PUUID 하나당 MATCH ID 하나만 뽑아도 괜찮음 \n",
        "    * 이때, 반드시 PUUID와 그에 따른 MATCH ID 가 세트로 저장되게 해야함.\n",
        "      * ex1) PUUID 를 key값, 그에 따른  MATCH ID를 value값으로 하는 딕셔너리 타입으로 만들기\n",
        "      * ex2) PUUID와 그에 따른 MATCH ID를 동일한 행에 넣는 데이터 프레임 타입으로 만들기 \n",
        "    * 즉, 어떤 PUUID 로부터 각각의 MATCH-ID 가 추출되었는지가 결과에서 드러나도록 해야함 \n",
        "    * 그래야 4번 단계에서 문제가 안생김\n",
        "\n",
        "###  4. **MATCH DATA 추출** (MATCH-V5: region 설정 'asia'로 해야함)\n",
        "    * 이 단계에서 시간이 줜나 오래걸림\n",
        "    * 하나의 match id 에 대해서 match data를 뽑을 때, 그 match data 안에는 총 10명정도의 참여자에 대한 게임 활동 정보가 들어있음. \n",
        "    * 우리가 원하는 건 그 match id 를 뽑을 때 사용한 puuid에 해당되는 유저의 개임 활동 정보임.\n",
        "    * 따라서 그 puuid에 해당되는 participant 의 데이터만 뽑아줘야 함.\n",
        "    * 뽑아야하는 변수들(리스트꼴로 만든 뒤 데이터프레임의 각 열로 만들면 됨) \n",
        "     1. game_mode_list = [] 얘넨 나중에\n",
        "     2. game_type_list = []\n",
        "     3. assists_list = []\n",
        "     4. kills_list = []\n",
        "     5. deaths_list = []\n",
        "     6. champExp_list = [] #champ_experience_list\n",
        "     7. champName_list = [] #champion_name_list\n",
        "     8. indiPos_list = [] #individual_position_list\n",
        "     9. lane_list = []\n",
        "     10. role_list = []\n",
        "     11. gold_list = []   #gold_earned_list\n",
        "     12. teamPos_list = []\n",
        "     13. tDDealt_list = []  #total_damage_dealt_list\n",
        "     14. tDDealtChamp_list = [] #total_damage_dealt_to_champions_list\n",
        "     15. tDTaken_list = []  #total_damage_taken_list\n",
        "     16. tMKilled_list = []  #total_minions_killed_list\n",
        "     17. turKills_list = []  #turret_kills_list\n",
        "     18. win_list = []\n",
        "\n"
      ]
    },
    {
      "cell_type": "markdown",
      "metadata": {
        "id": "nFE6VtyUwSDL"
      },
      "source": [
        "### 환경설정"
      ]
    },
    {
      "cell_type": "code",
      "execution_count": 7,
      "metadata": {
        "id": "8THQ6gjfEEMC"
      },
      "outputs": [],
      "source": [
        "#API KEY 미리 지정하고 시작 \n",
        "api_key = 'RGAPI-b1697406-1a4c-4ed5-85b8-f2e043da9aec'\n",
        "# SET UP \n",
        "base_url = 'https://{region}.api.riotgames.com'"
      ]
    },
    {
      "cell_type": "code",
      "execution_count": 8,
      "metadata": {
        "id": "_I5X6hqGENRO"
      },
      "outputs": [],
      "source": [
        "# 필요한 패키지 불러오기 \n",
        "import requests\n",
        "import pandas as pd\n",
        "import time\n",
        "import json"
      ]
    },
    {
      "cell_type": "markdown",
      "metadata": {
        "id": "YnZn-0bf9vgr"
      },
      "source": [
        "# **1.GOLD, DIVISION I 에 해당되는 유저들의 SUMMONER ID, SUMMONER NAME 데이터프레임으로 뽑기**"
      ]
    },
    {
      "cell_type": "code",
      "execution_count": null,
      "metadata": {
        "id": "eaRU-oWSEAs9"
      },
      "outputs": [],
      "source": [
        "# SET UP \n",
        "base_url = 'https://{region}.api.riotgames.com'\n",
        "regions = ['kr']\n",
        "rank = 'GOLD'\n",
        "division = 'I'\n",
        "user_data_1 = []\n",
        "\n",
        "# Iterate over each region\n",
        "for region in regions:\n",
        "    # Iterate over each page of user data\n",
        "    for page in range(1, 99):\n",
        "        # Set up the League API endpoint URL\n",
        "        league_url = base_url.format(region=region) + '/lol/league-exp/v4/entries/RANKED_SOLO_5x5/{tier}/{division}?page={page}&api_key={api_key}'\n",
        "        # Set up the headers for the API requests\n",
        "        headers = {'X-Riot-Token': api_key}\n",
        "        \n",
        "        # Make a request\n",
        "        response = requests.get(league_url.format(tier=rank, division=division, page=page, api_key=api_key), headers=headers)\n",
        "        league_data = response.json()\n",
        "\n",
        "        # If there is no more data, break out\n",
        "        if not league_data:\n",
        "            break\n",
        "    \n",
        "        # Iterate over each user and collect their data\n",
        "        for user in league_data:\n",
        "            user_dict_1 = {\n",
        "                'summoner_id' : user['summonerId'],\n",
        "                'summoner_name': user['summonerName']\n",
        "            }\n",
        "            user_data_1.append(user_dict_1)\n",
        "        \n",
        "        # Delay for 2 seconds between API requests to avoid rate limit errors\n",
        "        time.sleep(1) ############ 2에서 1로 바꿈\n",
        "\n",
        "# List to DataFrame\n",
        "smmr_id_name_df = pd.DataFrame(user_data_1)\n",
        "\n",
        "# CHECK\n",
        "print(smmr_id_name_df)\n"
      ]
    },
    {
      "cell_type": "markdown",
      "metadata": {
        "id": "kKK4BLdbFPw_"
      },
      "source": [
        "#### 여기서 summoner_id 변수를 list 타입으로 따로 저장한다(summoner_id_list). \n",
        "\n"
      ]
    },
    {
      "cell_type": "code",
      "execution_count": null,
      "metadata": {
        "id": "Al1cmi82Favw"
      },
      "outputs": [],
      "source": [
        "summoner_id_list = smmr_id_name_df['summoner_id'].tolist()\n",
        "print(summoner_id_list)"
      ]
    },
    {
      "cell_type": "code",
      "execution_count": null,
      "metadata": {
        "id": "s1NtcRZfG96x"
      },
      "outputs": [],
      "source": [
        "# csv 파일로 저장\n",
        "import csv\n",
        "f = open('summoner_id_list_divisionI.csv', 'w')\n",
        "writer = csv.writer(f)\n",
        "writer.writerow(summoner_id_list)\n",
        "f.close()"
      ]
    },
    {
      "cell_type": "code",
      "execution_count": null,
      "metadata": {
        "id": "wK8Hy62FuwVv"
      },
      "outputs": [],
      "source": [
        "# csv 파일을 리스트로 불러오기 \n",
        "import csv \n",
        "summoner_id_list = []\n",
        "\n",
        "with open('/content/drive/MyDrive/LOL_ANALYSIS_0323/summoner_id_list_divisionI.csv','r',newline='') as f:\n",
        "    reader = csv.reader(f)\n",
        "    for row in reader:\n",
        "        summoner_id_list.append(row)\n",
        "\n",
        "print(summoner_id_list)"
      ]
    },
    {
      "cell_type": "code",
      "execution_count": null,
      "metadata": {
        "id": "nFF4btvcvrpP"
      },
      "outputs": [],
      "source": [
        "# 중복 괄호 제거용 코드\n",
        "a = []  \n",
        "a.extend(summoner_id_list[0])  \n",
        "summoner_id_list = a\n",
        "print(summoner_id_list)"
      ]
    },
    {
      "cell_type": "markdown",
      "metadata": {
        "id": "cdh9OM3PFbbq"
      },
      "source": [
        "# **2. PUUID 리스트 타입으로 추출**"
      ]
    },
    {
      "cell_type": "code",
      "execution_count": null,
      "metadata": {
        "colab": {
          "base_uri": "https://localhost:8080/"
        },
        "id": "uEyxNbfjFmX4",
        "outputId": "45c867d5-b49f-4299-aca1-280a301b33c1"
      },
      "outputs": [
        {
          "name": "stdout",
          "output_type": "stream",
          "text": [
            "Looking in indexes: https://pypi.org/simple, https://us-python.pkg.dev/colab-wheels/public/simple/\n",
            "Collecting retrying\n",
            "  Downloading retrying-1.3.4-py3-none-any.whl (11 kB)\n",
            "Requirement already satisfied: six>=1.7.0 in /usr/local/lib/python3.9/dist-packages (from retrying) (1.16.0)\n",
            "Installing collected packages: retrying\n",
            "Successfully installed retrying-1.3.4\n"
          ]
        }
      ],
      "source": [
        "pip install retrying  # 필요한 패키지 설치 "
      ]
    },
    {
      "cell_type": "code",
      "execution_count": null,
      "metadata": {
        "id": "vMic-tm-GUzc"
      },
      "outputs": [],
      "source": [
        "import retrying "
      ]
    },
    {
      "cell_type": "markdown",
      "metadata": {
        "id": "Z53nSDoX7p8A"
      },
      "source": [
        "# **너무 느린 관계로.. 코랩 창 10개 열고 나눠서 돌리기로 한다.**\n",
        "### **ID1**"
      ]
    },
    {
      "cell_type": "code",
      "execution_count": null,
      "metadata": {
        "id": "MwwL2pdeq4Nx"
      },
      "outputs": [],
      "source": [
        "smmrid_1 = summoner_id_list[0:200]\n",
        "smmrid_2 = summoner_id_list[200:400]\n",
        "smmrid_3 = summoner_id_list[400:600]\n",
        "smmrid_4 = summoner_id_list[600:800]\n",
        "smmrid_5 = summoner_id_list[800:1000]\n",
        "smmrid_6 = summoner_id_list[1000:1200]\n",
        "smmrid_7 = summoner_id_list[1200:1400]\n",
        "smmrid_8 = summoner_id_list[1400:1600]\n",
        "smmrid_9 = summoner_id_list[1600:1800]\n",
        "smmrid_10 = summoner_id_list[1800:2000]"
      ]
    },
    {
      "cell_type": "markdown",
      "metadata": {
        "id": "0toqpatnM2xl"
      },
      "source": []
    },
    {
      "cell_type": "code",
      "execution_count": null,
      "metadata": {
        "id": "nGY6CDHueZfp"
      },
      "outputs": [],
      "source": [
        "#ID1\n",
        "# Set up the regions \n",
        "regions = ['kr']\n",
        "\n",
        "# Set up an empty list to store the puuids\n",
        "puuid_list = []\n",
        "\n",
        "# Set up rate limit variables\n",
        "RATE_LIMIT_RETRIES = 5\n",
        "RATE_LIMIT_BACKOFF_FACTOR = 2\n",
        "\n",
        "# Set up retries variables\n",
        "RETRIES = 5\n",
        "BACKOFF_FACTOR = 2\n",
        "\n",
        "# Define a function to make a request to the Riot API with retries and rate limiting\n",
        "@retrying.retry(wait_exponential_multiplier=1000, wait_exponential_max=10000, stop_max_attempt_number=RETRIES)\n",
        "def request_riot_api(url, headers):\n",
        "    response = requests.get(url, headers=headers)\n",
        "    if response.status_code == 429:\n",
        "        retry_after = int(response.headers['Retry-After'])\n",
        "        time.sleep(retry_after + 0.1)\n",
        "        raise Exception('Rate limit exceeded, retrying...')\n",
        "    elif response.status_code != 200:\n",
        "        raise Exception(f'Request failed with status code {response.status_code}: {response.content.decode()}')\n",
        "    return response.json()\n",
        "\n",
        "# Iterate over each region\n",
        "for region in regions:\n",
        "    # Set up the Summoner API endpoint URL\n",
        "    summoner_url = base_url.format(region=region) + '/lol/summoner/v4/summoners/{encryptedSummonerId}'\n",
        "    \n",
        "    # Set up the headers for the API requests\n",
        "    headers = {'X-Riot-Token': api_key}\n",
        "    \n",
        "    # Iterate over each summoner ID in the list\n",
        "    for summoner_id in smmrid_1:########################\n",
        "        # Make a request to the Summoner API for the corresponding puuid\n",
        "        for i in range(RATE_LIMIT_RETRIES):\n",
        "            try:\n",
        "                summoner_data = request_riot_api(summoner_url.format(encryptedSummonerId=summoner_id), headers)\n",
        "                break\n",
        "            except Exception as e:\n",
        "                print(e)\n",
        "                print(f'Retrying in {BACKOFF_FACTOR ** i} seconds...')\n",
        "                time.sleep(BACKOFF_FACTOR ** i)\n",
        "\n",
        "        # Append the puuid to the list\n",
        "        puuid_list.append(summoner_data['puuid'])\n",
        "\n",
        "# Print the resulting puuid list\n",
        "print(puuid_list)"
      ]
    },
    {
      "cell_type": "code",
      "execution_count": null,
      "metadata": {
        "id": "hwIxMS12kTWW"
      },
      "outputs": [],
      "source": [
        "f = open('PUUID1(0326).csv', 'w')\n",
        "writer = csv.writer(f)\n",
        "writer.writerow(puuid_list)\n",
        "f.close()"
      ]
    },
    {
      "cell_type": "markdown",
      "metadata": {
        "id": "XQfvYAoEpV2A"
      },
      "source": [
        "# **PUUID 를 하나의 리스트로 합치기**\n"
      ]
    },
    {
      "cell_type": "code",
      "execution_count": null,
      "metadata": {
        "id": "gMiDcXuZpj4d"
      },
      "outputs": [],
      "source": [
        "# csv 파일을 리스트로 불러오기 \n",
        "import csv \n",
        "\n",
        "puuid_list_1 = []\n",
        "\n",
        "with open('/content/drive/MyDrive/LOL_ANALYSIS_0323/PUUID1(0326).csv','r',newline='') as f:\n",
        "    reader = csv.reader(f)\n",
        "    for row in reader:\n",
        "        puuid_list_1.append(row)\n",
        "\n",
        "print(puuid_list_1)\n",
        "\n",
        "\n",
        "# 중복 괄호 제거용 코드\n",
        "a1 = []  \n",
        "a1.extend(puuid_list_1[0])  \n",
        "puuid_list_1 = a1\n",
        "print(puuid_list_1)"
      ]
    },
    {
      "cell_type": "code",
      "execution_count": null,
      "metadata": {
        "id": "01jwn-fJqUmd"
      },
      "outputs": [],
      "source": [
        "# csv 파일을 리스트로 불러오기 \n",
        "import csv \n",
        "\n",
        "puuid_list_2 = []\n",
        "\n",
        "with open('/content/drive/MyDrive/LOL_ANALYSIS_0323/PUUID2(0326).csv','r',newline='') as f:\n",
        "    reader = csv.reader(f)\n",
        "    for row in reader:\n",
        "        puuid_list_2.append(row)\n",
        "\n",
        "print(puuid_list_2\n",
        "\n",
        "\n",
        "# 중복 괄호 제거용 코드\n",
        "a2 = []\n",
        "a2.extend(puuid_list_2[0])  \n",
        "puuid_list_2 = a2\n",
        "print(puuid_list_2)"
      ]
    },
    {
      "cell_type": "code",
      "execution_count": null,
      "metadata": {
        "id": "VryDGGTRqky5"
      },
      "outputs": [],
      "source": [
        "# csv 파일을 리스트로 불러오기 \n",
        "import csv \n",
        "\n",
        "puuid_list_3 = []\n",
        "\n",
        "with open('/content/drive/MyDrive/LOL_ANALYSIS_0323/PUUID3(0326).csv','r',newline='') as f:\n",
        "    reader = csv.reader(f)\n",
        "    for row in reader:\n",
        "        puuid_list_3.append(row)\n",
        "\n",
        "print(puuid_list_3)\n",
        "\n",
        "\n",
        "# 중복 괄호 제거용 코드\n",
        "a3 = [] \n",
        "a3.extend(puuid_list_3[0])  \n",
        "puuid_list_3 = a3\n",
        "print(puuid_list_3)"
      ]
    },
    {
      "cell_type": "code",
      "execution_count": null,
      "metadata": {
        "id": "HA-Zfr04qsPc"
      },
      "outputs": [],
      "source": [
        "# csv 파일을 리스트로 불러오기 \n",
        "import csv \n",
        "\n",
        "puuid_list_4 = []\n",
        "\n",
        "with open('/content/drive/MyDrive/LOL_ANALYSIS_0323/PUUID4(0326).csv','r',newline='') as f:\n",
        "    reader = csv.reader(f)\n",
        "    for row in reader:\n",
        "        puuid_list_4.append(row)\n",
        "\n",
        "print(puuid_list_4)\n",
        "\n",
        "\n",
        "# 중복 괄호 제거용 코드\n",
        "a4 = []  \n",
        "a4.extend(puuid_list_4[0])  \n",
        "puuid_list_4 = a4\n",
        "print(puuid_list_4)"
      ]
    },
    {
      "cell_type": "code",
      "execution_count": null,
      "metadata": {
        "id": "MMrw3g8Gqzk2"
      },
      "outputs": [],
      "source": [
        "# csv 파일을 리스트로 불러오기 \n",
        "import csv \n",
        "\n",
        "puuid_list_5 = []\n",
        "\n",
        "with open('/content/drive/MyDrive/LOL_ANALYSIS_0323/PUUID5(0326).csv','r',newline='') as f:\n",
        "    reader = csv.reader(f)\n",
        "    for row in reader:\n",
        "        puuid_list_5.append(row)\n",
        "\n",
        "print(puuid_list_5)\n",
        "\n",
        "\n",
        "# 중복 괄호 제거용 코드\n",
        "a5 = []  \n",
        "a5.extend(puuid_list_5[0])  \n",
        "puuid_list_5 = a5\n",
        "print(puuid_list_5)"
      ]
    },
    {
      "cell_type": "code",
      "execution_count": null,
      "metadata": {
        "id": "AqBaxyVaq7JG"
      },
      "outputs": [],
      "source": [
        "# csv 파일을 리스트로 불러오기 \n",
        "import csv \n",
        "puuid_list_6 = []\n",
        "with open('/content/drive/MyDrive/LOL_ANALYSIS_0323/PUUID6(0326).csv','r',newline='') as f:\n",
        "    reader = csv.reader(f)\n",
        "    for row in reader:\n",
        "        puuid_list_6.append(row0\n",
        "print(puuid_list_6)\n",
        "# 중복 괄호 제거용 코드\n",
        "a6 = []   \n",
        "a6.extend(puuid_list_6[0])   \n",
        "puuid_list_6 = a6 \n",
        "print(puuid_list_6)"
      ]
    },
    {
      "cell_type": "code",
      "execution_count": null,
      "metadata": {
        "id": "vTbvN6U6rEM_"
      },
      "outputs": [],
      "source": [
        "# csv 파일을 리스트로 불러오기 \n",
        "import csv \n",
        "puuid_list_7 = []\n",
        "with open('/content/drive/MyDrive/LOL_ANALYSIS_0323/PUUID7(0326).csv','r',newline='') as f:\n",
        "    reader = csv.reader(f)\n",
        "    for row in reader:\n",
        "        puuid_list_7.append(row)\n",
        "print(puuid_list_7)\n",
        "# 중복 괄호 제거용 코드\n",
        "a7 = []  \n",
        "a7.extend(puuid_list_7[0])  \n",
        "puuid_list_7 = a7\n",
        "print(puuid_list_7)"
      ]
    },
    {
      "cell_type": "code",
      "execution_count": null,
      "metadata": {
        "id": "usPO64ayrJ9A"
      },
      "outputs": [],
      "source": [
        "# csv 파일을 리스트로 불러오기 \n",
        "import csv \n",
        "puuid_list_8 = []\n",
        "with open('/content/drive/MyDrive/LOL_ANALYSIS_0323/PUUID8(0326).csv','r',newline='') as f:\n",
        "    reader = csv.reader(f)\n",
        "    for row in reader:\n",
        "        puuid_list_8.append(row)\n",
        "print(puuid_list_8)\n",
        "# 중복 괄호 제거용 코드\n",
        "a8 = []  \n",
        "a8.extend(puuid_list_8[0])  \n",
        "puuid_list_8 = a8\n",
        "print(puuid_list_80"
      ]
    },
    {
      "cell_type": "code",
      "execution_count": null,
      "metadata": {
        "id": "gdM2Dzd8rRg9"
      },
      "outputs": [],
      "source": [
        "# csv 파일을 리스트로 불러오기 \n",
        "import csv \n",
        "puuid_list_9 = []\n",
        "with open('/content/drive/MyDrive/LOL_ANALYSIS_0323/PUUID9(0326).csv','r',newline='') as f:\n",
        "    reader = csv.reader(f)\n",
        "    for row in reader:\n",
        "        puuid_list_9.append(row)\n",
        "print(puuid_list_9)\n",
        "# 중복 괄호 제거용 코드\n",
        "a9 = []  \n",
        "a9.extend(puuid_list_9[0])  \n",
        "puuid_list_9 = a9\n",
        "print(puuid_list_9)"
      ]
    },
    {
      "cell_type": "code",
      "execution_count": null,
      "metadata": {
        "id": "HSv4Sxn0rRX7"
      },
      "outputs": [],
      "source": [
        "# csv 파일을 리스트로 불러오기 \n",
        "import csv \n",
        "puuid_list_10 = []\n",
        "with open('/content/drive/MyDrive/LOL_ANALYSIS_0323/PUUID10(0326).csv','r',newline='') as f:\n",
        "    reader = csv.reader(f)\n",
        "    for row in reader:\n",
        "        puuid_list_10.append(row)\n",
        "print(puuid_list_10)\n",
        "# 중복 괄호 제거용 코드\n",
        "a10 = []  \n",
        "a10.extend(puuid_list_10[0])  \n",
        "puuid_list_10 = a10\n",
        "print(puuid_list_10)"
      ]
    },
    {
      "cell_type": "code",
      "execution_count": null,
      "metadata": {
        "colab": {
          "base_uri": "https://localhost:8080/"
        },
        "id": "67JXY_ygse3Z",
        "outputId": "587cc052-f8e3-4284-a3c3-56a3c4010e42"
      },
      "outputs": [
        {
          "name": "stdout",
          "output_type": "stream",
          "text": [
            "2000\n"
          ]
        }
      ],
      "source": [
        "puuid_list =  puuid_list_1+ puuid_list_2 + puuid_list_3 + puuid_list_4 + puuid_list_5 + puuid_list_6 + puuid_list_7 + puuid_list_8 + puuid_list_9 + puuid_list_10  \n",
        "print(len(puuid_list))"
      ]
    },
    {
      "cell_type": "code",
      "execution_count": null,
      "metadata": {
        "id": "SGqCrcAT0Z5p"
      },
      "outputs": [],
      "source": [
        "# puuid list 를 csv 파일로 저장하기\n",
        "import csv\n",
        "f = open('puuid(0326).csv', 'w')\n",
        "writer = csv.writer(f)\n",
        "writer.writerow(puuid_list)\n",
        "f.close()"
      ]
    },
    {
      "cell_type": "code",
      "execution_count": null,
      "metadata": {
        "id": "9tc4-44BGiZA"
      },
      "outputs": [],
      "source": [
        "# csv 파일을 리스트로 불러오기 \n",
        "import csv \n",
        "puuid_list = []\n",
        "\n",
        "with open('/content/drive/MyDrive/LOL_ANALYSIS_0323/puuid(0326).csv','r',newline='') as f:\n",
        "    reader = csv.reader(f)\n",
        "    for row in reader:\n",
        "        puuid_list.append(row)\n",
        "\n",
        "print(puuid_list)\n",
        "\n",
        "\n",
        "# 중복 괄호 제거용 코드\n",
        "a = []  \n",
        "a.extend(puuid_list[0])  \n",
        "puuid_list = a\n",
        "print(puuid_list)\n",
        "print(len(puuid_list))"
      ]
    },
    {
      "cell_type": "markdown",
      "metadata": {
        "id": "MELeY2U2CI24"
      },
      "source": [
        "# **3. MATCH ID 얻기**"
      ]
    },
    {
      "cell_type": "code",
      "execution_count": null,
      "metadata": {
        "id": "Nqld9h6z2IS5"
      },
      "outputs": [],
      "source": [
        "puuid_list_1 = puuid_list[0:200]\n",
        "puuid_list_2 = puuid_list[200:400]\n",
        "puuid_list_3 = puuid_list[400:600]\n",
        "puuid_list_4 = puuid_list[600:800]\n",
        "puuid_list_5 = puuid_list[800:1000]\n",
        "puuid_list_6 = puuid_list[1000:1200]\n",
        "puuid_list_7 = puuid_list[1200:1400]\n",
        "puuid_list_8 = puuid_list[1400:1600]\n",
        "puuid_list_9 = puuid_list[1600:1800]\n",
        "puuid_list_10 = puuid_list[1800:2000]\n",
        "puuid_list_mini = puuid_list[0:10]"
      ]
    },
    {
      "cell_type": "markdown",
      "metadata": {
        "id": "fXsuIyLgCeRb"
      },
      "source": [
        "### **match list 1 뽑고 저장**"
      ]
    },
    {
      "cell_type": "code",
      "execution_count": null,
      "metadata": {
        "id": "Am-Y-M8C7Fxm"
      },
      "outputs": [],
      "source": [
        "# 그냥 puuid_list 에 대해 적용\n",
        "\n",
        "match_id_list_1 = []\n",
        "\n",
        "# Define the maximum number of requests per second and the time to wait between each batch of requests\n",
        "MAX_REQUESTS_PER_SECOND = 5\n",
        "WAIT_TIME_BETWEEN_BATCHES = 1 / MAX_REQUESTS_PER_SECOND\n",
        "\n",
        "# Loop through each puuid in the list\n",
        "for puuid in puuid_list_1:\n",
        "    # Get the match list for the current user\n",
        "    response = requests.get(f'https://asia.api.riotgames.com/lol/match/v5/matches/by-puuid/{puuid}/ids?start=0&count=10',\n",
        "                            headers={'X-Riot-Token': api_key})\n",
        "    \n",
        "    # Check if the response was successful\n",
        "    if response.status_code != 200:\n",
        "        print(f'Error getting match list for puuid {puuid}: {response.text}')\n",
        "        continue\n",
        "    \n",
        "    # Extract up to 10 match IDs for the current user\n",
        "    match_ids_1 = response.json()\n",
        "    \n",
        "    # Add the match IDs to the final list\n",
        "    match_id_list_1.extend(match_ids_1)\n",
        "    \n",
        "    # Sleep for a short time to avoid hitting the rate limit\n",
        "    time.sleep(2)\n",
        "\n",
        "print(match_id_list_1)\n"
      ]
    },
    {
      "cell_type": "code",
      "execution_count": null,
      "metadata": {
        "id": "bFA-LEUACrYQ"
      },
      "outputs": [],
      "source": [
        "# csv 파일로 저장\n",
        "import csv\n",
        "f = open('matchid_1(0326).csv', 'w')\n",
        "writer = csv.writer(f)\n",
        "writer.writerow(match_id_list_1)\n",
        "f.close()"
      ]
    },
    {
      "cell_type": "markdown",
      "metadata": {
        "id": "BhRVMV9XCcdp"
      },
      "source": [
        "### **match list 2 뽑고 저장**"
      ]
    },
    {
      "cell_type": "code",
      "execution_count": null,
      "metadata": {
        "id": "gLCXXB0fB_Ct"
      },
      "outputs": [],
      "source": [
        "# Match id list 2\n",
        "\n",
        "match_id_list_2 = []\n",
        "\n",
        "# Define the maximum number of requests per second and the time to wait between each batch of requests\n",
        "MAX_REQUESTS_PER_SECOND = 5\n",
        "WAIT_TIME_BETWEEN_BATCHES = 1 / MAX_REQUESTS_PER_SECOND\n",
        "\n",
        "# Loop through each puuid in the list\n",
        "for puuid in puuid_list_2:\n",
        "    # Get the match list for the current user\n",
        "    response = requests.get(f'https://asia.api.riotgames.com/lol/match/v5/matches/by-puuid/{puuid}/ids?start=0&count=10',\n",
        "                            headers={'X-Riot-Token': api_key})\n",
        "    \n",
        "    # Check if the response was successful\n",
        "    if response.status_code != 200:\n",
        "        print(f'Error getting match list for puuid {puuid}: {response.text}')\n",
        "        continue\n",
        "    \n",
        "    # Extract up to 10 match IDs for the current user\n",
        "    match_ids_2 = response.json()\n",
        "    \n",
        "    # Add the match IDs to the final list\n",
        "    match_id_list_2.extend(match_ids_2)\n",
        "    \n",
        "    # Sleep for a short time to avoid hitting the rate limit\n",
        "    time.sleep(2)\n",
        "\n",
        "print(match_id_list_2)"
      ]
    },
    {
      "cell_type": "code",
      "execution_count": null,
      "metadata": {
        "id": "jTxtSm6lDBBi"
      },
      "outputs": [],
      "source": [
        "# csv 파일로 저장\n",
        "import csv\n",
        "f = open('matchid_2(0326).csv', 'w')\n",
        "writer = csv.writer(f)\n",
        "writer.writerow(match_id_list_2)\n",
        "f.close()"
      ]
    },
    {
      "cell_type": "markdown",
      "metadata": {
        "id": "12iAI5H3D3rv"
      },
      "source": [
        "### **match list 3 뽑고 저장**"
      ]
    },
    {
      "cell_type": "code",
      "execution_count": null,
      "metadata": {
        "id": "sAZu8XUVD50c"
      },
      "outputs": [],
      "source": [
        "# 그냥 puuid_list 에 대해 적용\n",
        "match_id_list_3 = []\n",
        "\n",
        "# Define the maximum number of requests per second and the time to wait between each batch of requests\n",
        "MAX_REQUESTS_PER_SECOND = 5\n",
        "WAIT_TIME_BETWEEN_BATCHES = 1 / MAX_REQUESTS_PER_SECOND\n",
        "\n",
        "# Loop through each puuid in the list\n",
        "for puuid in puuid_list_3:\n",
        "    # Get the match list for the current user\n",
        "    response = requests.get(f'https://asia.api.riotgames.com/lol/match/v5/matches/by-puuid/{puuid}/ids?start=0&count=10',\n",
        "                            headers={'X-Riot-Token': api_key})\n",
        "    \n",
        "    # Check if the response was successful\n",
        "    if response.status_code != 200:\n",
        "        print(f'Error getting match list for puuid {puuid}: {response.text}')\n",
        "        continue\n",
        "    \n",
        "    # Extract up to 10 match IDs for the current user\n",
        "    match_ids_3 = response.json()\n",
        "    \n",
        "    # Add the match IDs to the final list\n",
        "    match_id_list_3.extend(match_ids_3)\n",
        "    \n",
        "    # Sleep for a short time to avoid hitting the rate limit\n",
        "    time.sleep(2)\n",
        "\n",
        "print(match_id_list_3)"
      ]
    },
    {
      "cell_type": "code",
      "execution_count": null,
      "metadata": {
        "id": "5iQGkgxCD7Mm"
      },
      "outputs": [],
      "source": [
        "# csv 파일로 저장\n",
        "import csv\n",
        "f = open('matchid_3(0326).csv', 'w')\n",
        "writer = csv.writer(f)\n",
        "writer.writerow(match_id_list_3)\n",
        "f.close()"
      ]
    },
    {
      "cell_type": "markdown",
      "metadata": {
        "id": "WIi08HM0EIbF"
      },
      "source": [
        "### **match list 4 뽑고 저장**"
      ]
    },
    {
      "cell_type": "code",
      "execution_count": null,
      "metadata": {
        "id": "IHGSX8COLA5b"
      },
      "outputs": [],
      "source": [
        "import retrying "
      ]
    },
    {
      "cell_type": "code",
      "execution_count": null,
      "metadata": {
        "id": "WNLyus0CEK1d"
      },
      "outputs": [],
      "source": [
        "# 그냥 puuid_list 에 대해 적용\n",
        "match_id_list_4 = []\n",
        "\n",
        "# Define the maximum number of requests per second and the time to wait between each batch of requests\n",
        "MAX_REQUESTS_PER_SECOND = 5\n",
        "WAIT_TIME_BETWEEN_BATCHES = 1 / MAX_REQUESTS_PER_SECOND\n",
        "\n",
        "# Loop through each puuid in the list\n",
        "for puuid in puuid_list_4:\n",
        "    # Get the match list for the current user\n",
        "    response = requests.get(f'https://asia.api.riotgames.com/lol/match/v5/matches/by-puuid/{puuid}/ids?start=0&count=10',\n",
        "                            headers={'X-Riot-Token': api_key})\n",
        "    \n",
        "    # Check if the response was successful\n",
        "    if response.status_code != 200:\n",
        "        print(f'Error getting match list for puuid {puuid}: {response.text}')\n",
        "        continue\n",
        "    \n",
        "    # Extract up to 10 match IDs for the current user\n",
        "    match_ids_4 = response.json()\n",
        "    \n",
        "    # Add the match IDs to the final list\n",
        "    match_id_list_4.extend(match_ids_4)\n",
        "    \n",
        "    # Sleep for a short time to avoid hitting the rate limit\n",
        "    time.sleep(2)\n",
        "\n",
        "print(match_id_list_4)"
      ]
    },
    {
      "cell_type": "code",
      "execution_count": null,
      "metadata": {
        "id": "31TNe937EMK9"
      },
      "outputs": [],
      "source": [
        "# csv 파일로 저장\n",
        "import csv\n",
        "f = open('matchid_4(0326).csv', 'w')\n",
        "writer = csv.writer(f)\n",
        "writer.writerow(match_id_list_4)\n",
        "f.close()"
      ]
    },
    {
      "cell_type": "markdown",
      "metadata": {
        "id": "MPmZZwNCLuVD"
      },
      "source": [
        "### **match id 5 뽑고 저장**"
      ]
    },
    {
      "cell_type": "code",
      "execution_count": null,
      "metadata": {
        "id": "u42qtcPjLz8-"
      },
      "outputs": [],
      "source": [
        "# 그냥 puuid_list 에 대해 적용\n",
        "match_id_list_5 = []\n",
        "\n",
        "# Define the maximum number of requests per second and the time to wait between each batch of requests\n",
        "MAX_REQUESTS_PER_SECOND = 5\n",
        "WAIT_TIME_BETWEEN_BATCHES = 1 / MAX_REQUESTS_PER_SECOND\n",
        "\n",
        "# Loop through each puuid in the list\n",
        "for puuid in puuid_list_5:\n",
        "    # Get the match list for the current user\n",
        "    response = requests.get(f'https://asia.api.riotgames.com/lol/match/v5/matches/by-puuid/{puuid}/ids?start=0&count=10',\n",
        "                            headers={'X-Riot-Token': api_key})\n",
        "    \n",
        "    # Check if the response was successful\n",
        "    if response.status_code != 200:\n",
        "        print(f'Error getting match list for puuid {puuid}: {response.text}')\n",
        "        continue\n",
        "    \n",
        "    # Extract up to 10 match IDs for the current user\n",
        "    match_ids_5 = response.json()\n",
        "    \n",
        "    # Add the match IDs to the final list\n",
        "    match_id_list_5.extend(match_ids_5)\n",
        "    \n",
        "    # Sleep for a short time to avoid hitting the rate limit\n",
        "    time.sleep(2)\n",
        "\n",
        "print(match_id_list_5)"
      ]
    },
    {
      "cell_type": "code",
      "execution_count": null,
      "metadata": {
        "id": "GEzqTqBULtng"
      },
      "outputs": [],
      "source": [
        "# csv 파일로 저장\n",
        "import csv\n",
        "f = open('matchid_5(0326).csv', 'w')\n",
        "writer = csv.writer(f)\n",
        "writer.writerow(match_id_list_5)\n",
        "f.close()"
      ]
    },
    {
      "cell_type": "markdown",
      "metadata": {
        "id": "5yUTHKRtLx5t"
      },
      "source": [
        "### **match id 6 뽑고 저장**"
      ]
    },
    {
      "cell_type": "code",
      "execution_count": null,
      "metadata": {
        "id": "P5Y5OhvxMByR"
      },
      "outputs": [],
      "source": [
        "# 그냥 puuid_list 에 대해 적용\n",
        "match_id_list_6 = []\n",
        "\n",
        "# Define the maximum number of requests per second and the time to wait between each batch of requests\n",
        "MAX_REQUESTS_PER_SECOND = 5\n",
        "WAIT_TIME_BETWEEN_BATCHES = 1 / MAX_REQUESTS_PER_SECOND\n",
        "\n",
        "# Loop through each puuid in the list\n",
        "for puuid in puuid_list_6:\n",
        "    # Get the match list for the current user\n",
        "    response = requests.get(f'https://asia.api.riotgames.com/lol/match/v5/matches/by-puuid/{puuid}/ids?start=0&count=10',\n",
        "                            headers={'X-Riot-Token': api_key})\n",
        "    \n",
        "    # Check if the response was successful\n",
        "    if response.status_code != 200:\n",
        "        print(f'Error getting match list for puuid {puuid}: {response.text}')\n",
        "        continue\n",
        "    \n",
        "    # Extract up to 10 match IDs for the current user\n",
        "    match_ids_6 = response.json()\n",
        "    \n",
        "    # Add the match IDs to the final list\n",
        "    match_id_list_6.extend(match_ids_6)\n",
        "    \n",
        "    # Sleep for a short time to avoid hitting the rate limit\n",
        "    time.sleep(2)\n",
        "\n",
        "print(match_id_list_6)"
      ]
    },
    {
      "cell_type": "code",
      "execution_count": null,
      "metadata": {
        "id": "b-LASaF1MHwW"
      },
      "outputs": [],
      "source": [
        "# csv 파일로 저장\n",
        "import csv\n",
        "f = open('matchid_6(0326).csv', 'w')\n",
        "writer = csv.writer(f)\n",
        "writer.writerow(match_id_list_6)\n",
        "f.close()"
      ]
    },
    {
      "cell_type": "markdown",
      "metadata": {
        "id": "9ZZma4ONMTep"
      },
      "source": [
        "### **match id 7 뽑고 저장**"
      ]
    },
    {
      "cell_type": "code",
      "execution_count": null,
      "metadata": {
        "id": "y48ac_dmMWqn"
      },
      "outputs": [],
      "source": [
        "# 그냥 puuid_list 에 대해 적용\n",
        "match_id_list_7 = []\n",
        "\n",
        "# Define the maximum number of requests per second and the time to wait between each batch of requests\n",
        "MAX_REQUESTS_PER_SECOND = 5\n",
        "WAIT_TIME_BETWEEN_BATCHES = 1 / MAX_REQUESTS_PER_SECOND\n",
        "\n",
        "# Loop through each puuid in the list\n",
        "for puuid in puuid_list_7:\n",
        "    # Get the match list for the current user\n",
        "    response = requests.get(f'https://asia.api.riotgames.com/lol/match/v5/matches/by-puuid/{puuid}/ids?start=0&count=10',\n",
        "                            headers={'X-Riot-Token': api_key})\n",
        "    \n",
        "    # Check if the response was successful\n",
        "    if response.status_code != 200:\n",
        "        print(f'Error getting match list for puuid {puuid}: {response.text}')\n",
        "        continue\n",
        "    \n",
        "    # Extract up to 10 match IDs for the current user\n",
        "    match_ids_7 = response.json()\n",
        "    \n",
        "    # Add the match IDs to the final list\n",
        "    match_id_list_7.extend(match_ids_7)\n",
        "    \n",
        "    # Sleep for a short time to avoid hitting the rate limit\n",
        "    time.sleep(2)\n",
        "\n",
        "print(match_id_list_7)"
      ]
    },
    {
      "cell_type": "code",
      "execution_count": null,
      "metadata": {
        "id": "21VOZrMOMYJU"
      },
      "outputs": [],
      "source": [
        "# csv 파일로 저장\n",
        "import csv\n",
        "f = open('matchid_7(0326).csv', 'w')\n",
        "writer = csv.writer(f)\n",
        "writer.writerow(match_id_list_7)\n",
        "f.close()"
      ]
    },
    {
      "cell_type": "markdown",
      "metadata": {
        "id": "jIfFnh5jMdd0"
      },
      "source": [
        "### **match id 8 뽑고 저장**"
      ]
    },
    {
      "cell_type": "code",
      "execution_count": null,
      "metadata": {
        "id": "yaEqFydYMdDU"
      },
      "outputs": [],
      "source": [
        "# 그냥 puuid_list 에 대해 적용\n",
        "match_id_list_8 = []\n",
        "\n",
        "# Define the maximum number of requests per second and the time to wait between each batch of requests\n",
        "MAX_REQUESTS_PER_SECOND = 5\n",
        "WAIT_TIME_BETWEEN_BATCHES = 1 / MAX_REQUESTS_PER_SECOND\n",
        "\n",
        "# Loop through each puuid in the list\n",
        "for puuid in puuid_list_8:\n",
        "    # Get the match list for the current user\n",
        "    response = requests.get(f'https://asia.api.riotgames.com/lol/match/v5/matches/by-puuid/{puuid}/ids?start=0&count=10',\n",
        "                            headers={'X-Riot-Token': api_key})\n",
        "    \n",
        "    # Check if the response was successful\n",
        "    if response.status_code != 200:\n",
        "        print(f'Error getting match list for puuid {puuid}: {response.text}')\n",
        "        continue\n",
        "    \n",
        "    # Extract up to 10 match IDs for the current user\n",
        "    match_ids_8 = response.json()\n",
        "    \n",
        "    # Add the match IDs to the final list\n",
        "    match_id_list_8.extend(match_ids_8)\n",
        "    \n",
        "    # Sleep for a short time to avoid hitting the rate limit\n",
        "    time.sleep(2)\n",
        "\n",
        "print(match_id_list_8)"
      ]
    },
    {
      "cell_type": "code",
      "execution_count": null,
      "metadata": {
        "id": "17dDzrbOMjP1"
      },
      "outputs": [],
      "source": [
        "# csv 파일로 저장\n",
        "import csv\n",
        "f = open('matchid_8(0326).csv', 'w')\n",
        "writer = csv.writer(f)\n",
        "writer.writerow(match_id_list_8)\n",
        "f.close()"
      ]
    },
    {
      "cell_type": "markdown",
      "metadata": {
        "id": "xIdP66euMh08"
      },
      "source": [
        "### **match id 9 뽑고 저장** "
      ]
    },
    {
      "cell_type": "code",
      "execution_count": null,
      "metadata": {
        "id": "FACI6pgdMy3o"
      },
      "outputs": [],
      "source": [
        "# 그냥 puuid_list 에 대해 적용\n",
        "match_id_list_9 = []\n",
        "\n",
        "# Define the maximum number of requests per second and the time to wait between each batch of requests\n",
        "MAX_REQUESTS_PER_SECOND = 5\n",
        "WAIT_TIME_BETWEEN_BATCHES = 1 / MAX_REQUESTS_PER_SECOND\n",
        "\n",
        "# Loop through each puuid in the list\n",
        "for puuid in puuid_list_9:\n",
        "    # Get the match list for the current user\n",
        "    response = requests.get(f'https://asia.api.riotgames.com/lol/match/v5/matches/by-puuid/{puuid}/ids?start=0&count=10',\n",
        "                            headers={'X-Riot-Token': api_key})\n",
        "    \n",
        "    # Check if the response was successful\n",
        "    if response.status_code != 200:\n",
        "        print(f'Error getting match list for puuid {puuid}: {response.text}')\n",
        "        continue\n",
        "    \n",
        "    # Extract up to 10 match IDs for the current user\n",
        "    match_ids_9 = response.json()\n",
        "    \n",
        "    # Add the match IDs to the final list\n",
        "    match_id_list_9.extend(match_ids_9)\n",
        "    \n",
        "    # Sleep for a short time to avoid hitting the rate limit\n",
        "    time.sleep(2)\n",
        "\n",
        "print(match_id_list_9)"
      ]
    },
    {
      "cell_type": "code",
      "execution_count": null,
      "metadata": {
        "id": "_PIkW-rcM0ii"
      },
      "outputs": [],
      "source": [
        "# csv 파일로 저장\n",
        "import csv\n",
        "f = open('matchid_9(0326).csv', 'w')\n",
        "writer = csv.writer(f)\n",
        "writer.writerow(match_id_list_9)\n",
        "f.close()"
      ]
    },
    {
      "cell_type": "markdown",
      "metadata": {
        "id": "1_FBgzOeM52V"
      },
      "source": [
        "### **match id 10 뽑고 저장** "
      ]
    },
    {
      "cell_type": "code",
      "execution_count": null,
      "metadata": {
        "id": "1xPy-juaM0Z3"
      },
      "outputs": [],
      "source": [
        "# 그냥 puuid_list 에 대해 적용\n",
        "match_id_list_10 = []\n",
        "\n",
        "# Define the maximum number of requests per second and the time to wait between each batch of requests\n",
        "MAX_REQUESTS_PER_SECOND = 5\n",
        "WAIT_TIME_BETWEEN_BATCHES = 1 / MAX_REQUESTS_PER_SECOND\n",
        "\n",
        "# Loop through each puuid in the list\n",
        "for puuid in puuid_list_10:\n",
        "    # Get the match list for the current user\n",
        "    response = requests.get(f'https://asia.api.riotgames.com/lol/match/v5/matches/by-puuid/{puuid}/ids?start=0&count=10',\n",
        "                            headers={'X-Riot-Token': api_key})\n",
        "    \n",
        "    # Check if the response was successful\n",
        "    if response.status_code != 200:\n",
        "        print(f'Error getting match list for puuid {puuid}: {response.text}')\n",
        "        continue\n",
        "    \n",
        "    # Extract up to 10 match IDs for the current user\n",
        "    match_ids_10 = response.json()\n",
        "    \n",
        "    # Add the match IDs to the final list\n",
        "    match_id_list_10.extend(match_ids_10)\n",
        "    \n",
        "    # Sleep for a short time to avoid hitting the rate limit\n",
        "    time.sleep(2)\n",
        "\n",
        "print(match_id_list_10)"
      ]
    },
    {
      "cell_type": "code",
      "execution_count": null,
      "metadata": {
        "id": "eDB3xnYvM9co"
      },
      "outputs": [],
      "source": [
        "# csv 파일로 저장\n",
        "import csv\n",
        "f = open('matchid_10(0326).csv', 'w')\n",
        "writer = csv.writer(f)\n",
        "writer.writerow(match_id_list_10)\n",
        "f.close()"
      ]
    },
    {
      "cell_type": "markdown",
      "metadata": {
        "id": "Z26DtC26e08F"
      },
      "source": [
        "**만들어진 모든 match id를 순서대로 합친다.** "
      ]
    },
    {
      "cell_type": "code",
      "execution_count": null,
      "metadata": {
        "id": "dMY6aWsze9Xe"
      },
      "outputs": [],
      "source": [
        "match_id_list = match_id_list_1 + match_id_list_2 + match_id_list_3 + match_id_list_4 + match_id_list_5 + match_id_list_6 + match_id_list_7 + match_id_list_8 + match_id_list_9 + match_id_list_10  "
      ]
    },
    {
      "cell_type": "code",
      "execution_count": null,
      "metadata": {
        "colab": {
          "base_uri": "https://localhost:8080/"
        },
        "id": "EYoCWHIzhcEP",
        "outputId": "e71e540a-3ec1-4251-d61d-ced438cc2169"
      },
      "outputs": [
        {
          "data": {
            "text/plain": [
              "20000"
            ]
          },
          "execution_count": 159,
          "metadata": {},
          "output_type": "execute_result"
        }
      ],
      "source": [
        "len(match_id_list)"
      ]
    },
    {
      "cell_type": "code",
      "execution_count": null,
      "metadata": {
        "colab": {
          "base_uri": "https://localhost:8080/"
        },
        "id": "tlkd9m6ghiog",
        "outputId": "b25e3a00-0ee5-4809-a36e-92336b195685"
      },
      "outputs": [
        {
          "name": "stdout",
          "output_type": "stream",
          "text": [
            "2000\n",
            "2000\n",
            "2000\n",
            "2000\n",
            "2000\n",
            "2000\n",
            "2000\n",
            "2000\n",
            "2000\n",
            "2000\n"
          ]
        }
      ],
      "source": [
        "for i in range(1, 11):\n",
        "    list_name = f'match_id_list_{i}'\n",
        "    sublist = globals()[list_name]\n",
        "    print(len(sublist))"
      ]
    },
    {
      "cell_type": "markdown",
      "metadata": {
        "id": "DHZCiuT7oUQ4"
      },
      "source": [
        "### **총 match id 리스트를 csv 형태로 저장한다.**"
      ]
    },
    {
      "cell_type": "code",
      "execution_count": null,
      "metadata": {
        "id": "Rk8yxrzfocOz"
      },
      "outputs": [],
      "source": [
        "# csv 파일로 저장\n",
        "import csv\n",
        "f = open('matchid(0326).csv', 'w')\n",
        "writer = csv.writer(f)\n",
        "writer.writerow(match_id_list)\n",
        "f.close()"
      ]
    },
    {
      "cell_type": "code",
      "source": [
        "# csv 파일을 리스트로 불러오기 \n",
        "import csv \n",
        "match_id_list = []\n",
        "\n",
        "with open('/content/drive/MyDrive/LOL_ANALYSIS_0323/matchid(0326).csv','r',newline='') as f:\n",
        "    reader = csv.reader(f)\n",
        "    for row in reader:\n",
        "        match_id_list.append(row)\n",
        "\n",
        "print(match_id_list)"
      ],
      "metadata": {
        "id": "vK0DwhjEYbFw"
      },
      "execution_count": null,
      "outputs": []
    },
    {
      "cell_type": "code",
      "source": [
        "# 중복 괄호 제거용 코드\n",
        "a = []  \n",
        "a.extend(match_id_list[0])  \n",
        "match_id_list = a\n",
        "print(match_id_list)"
      ],
      "metadata": {
        "id": "rY53o1RnYuR4"
      },
      "execution_count": null,
      "outputs": []
    },
    {
      "cell_type": "markdown",
      "metadata": {
        "id": "XUYwsRfBp50T"
      },
      "source": [
        "### **Match id 리스트와 puuid를 하나로 합친 데이터프레임 만들기**\n",
        "* 이 때, puuid 하나당 match id 10개 이므로, puuid_list 의 각 원소가 10번씩 반복되도록 하는 리스트를 새로 생성해준다. "
      ]
    },
    {
      "cell_type": "code",
      "execution_count": null,
      "metadata": {
        "id": "MTdZ78z9qHzd"
      },
      "outputs": [],
      "source": [
        "from itertools import chain, repeat\n",
        "\n",
        "puuid_list_10times = list(chain.from_iterable((repeat(number, 10) for number in puuid_list))) # 각 puuid 10번 반복한 리스트 \n",
        "print(puuid_list_10times)   # check \n",
        "print(len(puuid_list_10times))"
      ]
    },
    {
      "cell_type": "markdown",
      "metadata": {
        "id": "a7uo3_iOqUal"
      },
      "source": [
        "* puuid 와 match id 를 각 열로 하는 데이터프레임을 만든다"
      ]
    },
    {
      "cell_type": "code",
      "execution_count": 57,
      "metadata": {
        "colab": {
          "base_uri": "https://localhost:8080/"
        },
        "id": "MYcXyuzkqSHG",
        "outputId": "b57c2f06-9d1f-4777-9a14-3a1e11429568"
      },
      "outputs": [
        {
          "output_type": "stream",
          "name": "stdout",
          "text": [
            "                                                puuid       match_id\n",
            "0   ev9cR3_z9HIDe-BbdMP8KcSQb1micGugw_ogBcCWUdUI4c...  KR_6417459659\n",
            "1   ev9cR3_z9HIDe-BbdMP8KcSQb1micGugw_ogBcCWUdUI4c...  KR_6417367261\n",
            "2   ev9cR3_z9HIDe-BbdMP8KcSQb1micGugw_ogBcCWUdUI4c...  KR_6417315320\n",
            "3   ev9cR3_z9HIDe-BbdMP8KcSQb1micGugw_ogBcCWUdUI4c...  KR_6415496326\n",
            "4   ev9cR3_z9HIDe-BbdMP8KcSQb1micGugw_ogBcCWUdUI4c...  KR_6415488148\n",
            "5   ev9cR3_z9HIDe-BbdMP8KcSQb1micGugw_ogBcCWUdUI4c...  KR_6414254440\n",
            "6   ev9cR3_z9HIDe-BbdMP8KcSQb1micGugw_ogBcCWUdUI4c...  KR_6414200709\n",
            "7   ev9cR3_z9HIDe-BbdMP8KcSQb1micGugw_ogBcCWUdUI4c...  KR_6413832314\n",
            "8   ev9cR3_z9HIDe-BbdMP8KcSQb1micGugw_ogBcCWUdUI4c...  KR_6413781744\n",
            "9   ev9cR3_z9HIDe-BbdMP8KcSQb1micGugw_ogBcCWUdUI4c...  KR_6413732650\n",
            "10  7dGrIHqteZzlicQ9pgm80swBRNzmV16qYFeVnmRZBYrkot...  KR_6412274821\n",
            "11  7dGrIHqteZzlicQ9pgm80swBRNzmV16qYFeVnmRZBYrkot...  KR_6412135329\n",
            "12  7dGrIHqteZzlicQ9pgm80swBRNzmV16qYFeVnmRZBYrkot...  KR_6410507032\n",
            "13  7dGrIHqteZzlicQ9pgm80swBRNzmV16qYFeVnmRZBYrkot...  KR_6410441864\n",
            "14  7dGrIHqteZzlicQ9pgm80swBRNzmV16qYFeVnmRZBYrkot...  KR_6407723530\n",
            "15  7dGrIHqteZzlicQ9pgm80swBRNzmV16qYFeVnmRZBYrkot...  KR_6402698966\n",
            "16  7dGrIHqteZzlicQ9pgm80swBRNzmV16qYFeVnmRZBYrkot...  KR_6395087432\n",
            "17  7dGrIHqteZzlicQ9pgm80swBRNzmV16qYFeVnmRZBYrkot...  KR_6393221364\n",
            "18  7dGrIHqteZzlicQ9pgm80swBRNzmV16qYFeVnmRZBYrkot...  KR_6390907958\n",
            "19  7dGrIHqteZzlicQ9pgm80swBRNzmV16qYFeVnmRZBYrkot...  KR_6386904332\n"
          ]
        }
      ],
      "source": [
        "import pandas as pd\n",
        "# create a DataFrame with puuid and match_id as column\n",
        "match_id_df = pd.DataFrame()\n",
        "match_id_df['puuid'] = puuid_list_10times\n",
        "match_id_df['match_id'] = match_id_list\n",
        "print(match_id_df.head(20))"
      ]
    },
    {
      "cell_type": "markdown",
      "metadata": {
        "id": "l-x5MHTprIIB"
      },
      "source": [
        "* puuid - match id 데이터프레임 csv 로 저장하기 "
      ]
    },
    {
      "cell_type": "code",
      "execution_count": 9,
      "metadata": {
        "id": "ARNA88ygrseF"
      },
      "outputs": [],
      "source": [
        "match_id_df.to_csv('puuidXmatchid_df(0326).csv', header=True, index=False)"
      ]
    },
    {
      "cell_type": "code",
      "source": [
        "# 데이터프레임 불러오기 \n",
        "match_id_df = pd.read_csv('/content/drive/MyDrive/LOL_ANALYSIS_0323/puuidXmatchid_df(0326).csv')\n",
        "match_id_df.info()"
      ],
      "metadata": {
        "colab": {
          "base_uri": "https://localhost:8080/"
        },
        "id": "2U3y4qEXgix5",
        "outputId": "92850f21-27cf-40c3-d9f1-d16bf8fecae9"
      },
      "execution_count": 9,
      "outputs": [
        {
          "output_type": "stream",
          "name": "stdout",
          "text": [
            "<class 'pandas.core.frame.DataFrame'>\n",
            "RangeIndex: 20000 entries, 0 to 19999\n",
            "Data columns (total 2 columns):\n",
            " #   Column    Non-Null Count  Dtype \n",
            "---  ------    --------------  ----- \n",
            " 0   puuid     20000 non-null  object\n",
            " 1   match_id  20000 non-null  object\n",
            "dtypes: object(2)\n",
            "memory usage: 312.6+ KB\n"
          ]
        }
      ]
    },
    {
      "cell_type": "markdown",
      "metadata": {
        "id": "Fxl5_zJhqnVM"
      },
      "source": [
        "# **Match Data 뽑기**"
      ]
    },
    {
      "cell_type": "markdown",
      "metadata": {
        "id": "rJ6eZEfDtXvE"
      },
      "source": [
        "### 데이터 양이 엄청 많다. 한번에 다 하려면 시간이 너무 오래걸려서 중간에 끊길 위험이 있으므로 여러번 나눠서 저장한다. "
      ]
    },
    {
      "cell_type": "markdown",
      "metadata": {
        "id": "V95tMiyMtjFU"
      },
      "source": [
        "* 데이터프레임을 다음과 같이 10덩어리로 나눈다. "
      ]
    },
    {
      "cell_type": "code",
      "execution_count": 10,
      "metadata": {
        "id": "7dmYrL7jtsQW"
      },
      "outputs": [],
      "source": [
        "match_id_df_1 = match_id_df.iloc[0:2000,:]\n",
        "match_id_df_2 = match_id_df.iloc[2000:4000,:]\n",
        "match_id_df_3 = match_id_df.iloc[4000:6000,:]\n",
        "match_id_df_4 = match_id_df.iloc[6000:8000,:]\n",
        "match_id_df_5 = match_id_df.iloc[8000:10000,:]\n",
        "match_id_df_6 = match_id_df.iloc[10000:12000,:]\n",
        "match_id_df_7 = match_id_df.iloc[12000:14000,:]\n",
        "match_id_df_8 = match_id_df.iloc[14000:16000,:]\n",
        "match_id_df_9 = match_id_df.iloc[16000:18000,:]\n",
        "match_id_df_10 = match_id_df.iloc[18000:20000,:]\n",
        "#작동 잘되는지 테스트용 데이터셋\n",
        "match_id_df_mini = match_id_df.iloc[0:10,:]"
      ]
    },
    {
      "cell_type": "markdown",
      "source": [
        "### 위에서 만들어둔 미니 데이터셋 match_id_df_mini 를 사용해서 테스트해본다(잘 잘동하는지)"
      ],
      "metadata": {
        "id": "H1FqGvIyZUxY"
      }
    },
    {
      "cell_type": "code",
      "source": [
        "for i in range(0,10): #########길이 수정 요망########\n",
        "    pair = match_id_df_mini.iloc[i,:].to_list()\n",
        "    puuid = pair[0]\n",
        "    match_id = pair[1]\n",
        "    url = f'https://asia.api.riotgames.com/lol/match/v5/matches/{match_id}?api_key={api_key}'\n",
        "\n",
        "    # Make the Riot API call\n",
        "    response = requests.get(url)\n",
        "    response_json = response.json()\n",
        "\n",
        "    assists = None  # set a default value for assists\n",
        "    for participant in response_json['info']['participants']:\n",
        "      if participant['puuid'] == puuid and participant['teamPosition'] == 'MIDDLE':\n",
        "        print(participant['puuid'])\n",
        "        print(participant['kills'])"
      ],
      "metadata": {
        "colab": {
          "base_uri": "https://localhost:8080/"
        },
        "id": "0q1A7LfricHC",
        "outputId": "dbdf216c-0c27-42a6-92a0-e261c35e2a3a"
      },
      "execution_count": 90,
      "outputs": [
        {
          "output_type": "stream",
          "name": "stdout",
          "text": [
            "ev9cR3_z9HIDe-BbdMP8KcSQb1micGugw_ogBcCWUdUI4cyrrV6Np3ozKtFexJIkJ0gc47CCsl6AUg\n",
            "11\n",
            "ev9cR3_z9HIDe-BbdMP8KcSQb1micGugw_ogBcCWUdUI4cyrrV6Np3ozKtFexJIkJ0gc47CCsl6AUg\n",
            "9\n",
            "ev9cR3_z9HIDe-BbdMP8KcSQb1micGugw_ogBcCWUdUI4cyrrV6Np3ozKtFexJIkJ0gc47CCsl6AUg\n",
            "2\n",
            "ev9cR3_z9HIDe-BbdMP8KcSQb1micGugw_ogBcCWUdUI4cyrrV6Np3ozKtFexJIkJ0gc47CCsl6AUg\n",
            "8\n",
            "ev9cR3_z9HIDe-BbdMP8KcSQb1micGugw_ogBcCWUdUI4cyrrV6Np3ozKtFexJIkJ0gc47CCsl6AUg\n",
            "6\n"
          ]
        }
      ]
    },
    {
      "cell_type": "code",
      "execution_count": 91,
      "metadata": {
        "id": "vgCdXqEIr74P"
      },
      "outputs": [],
      "source": [
        "region = 'asia'\n",
        "# Empty lists to store the collected data\n",
        "# game_mode_list = [] 얘넨 나중에\n",
        "# game_type_list = []\n",
        "assists_list = []\n",
        "kills_list = []\n",
        "deaths_list = []\n",
        "champExp_list = [] #champ_experience_list\n",
        "champName_list = [] #champion_name_list\n",
        "indiPos_list = [] #individual_position_list\n",
        "lane_list = []\n",
        "role_list = []\n",
        "gold_list = []   #gold_earned_list\n",
        "teamPos_list = []\n",
        "tDDealt_list = []  #total_damage_dealt_list\n",
        "tDDealtChamp_list = [] #total_damage_dealt_to_champions_list\n",
        "tDTaken_list = []  #total_damage_taken_list\n",
        "tMKilled_list = []  #total_minions_killed_list\n",
        "turKills_list = []  #turret_kills_list\n",
        "win_list = []\n",
        "\n",
        "\n",
        "for i in range(0,10): #########길이 수정 요망########\n",
        "    pair = match_id_df_mini.iloc[i,:].to_list()\n",
        "    puuid = pair[0]\n",
        "    match_id = pair[1]\n",
        "    url = f'https://asia.api.riotgames.com/lol/match/v5/matches/{match_id}?api_key={api_key}'\n",
        "\n",
        "    # Make the Riot API call\n",
        "    response = requests.get(url)\n",
        "    response_json = response.json()\n",
        "\n",
        "    \n",
        "    kills = None \n",
        "    assists = None  # set a default value\n",
        "    deaths = None \n",
        "    champExp = None \n",
        "    champName = None \n",
        "    indiPos = None \n",
        "    teamPos = None \n",
        "    lane = None \n",
        "    role = None \n",
        "    gold = None \n",
        "    tDDealt = None \n",
        "    tDDealtChamp = None \n",
        "    tDTaken = None \n",
        "    tMKilled = None\n",
        "    turKills = None\n",
        "    win = None\n",
        "    for participant in response_json['info']['participants']:\n",
        "      if participant['puuid'] == puuid and participant['teamPosition'] == 'MIDDLE': #게임에 참여한 참가자들 중 위에서 우리가 구한 puuid와 puuid 가 일치하고 individualPosition이 MIDDLE인 participants에 대해서만 정보 추출 \n",
        "        kills = participant['kills']\n",
        "        assists = participant['assists']\n",
        "        deaths = participant[\"deaths\"]\n",
        "        champExp = participant[\"champExperience\"]\n",
        "        champName = participant[\"championName\"]\n",
        "        indiPos = participant[\"individualPosition\"]\n",
        "        teamPos = participant[\"teamPosition\"]\n",
        "        lane = participant[\"lane\"]\n",
        "        role = participant[\"role\"]\n",
        "        gold = participant[\"goldEarned\"]\n",
        "        tDDealt = participant[\"totalDamageDealt\"]\n",
        "        tDDealtChamp = participant[\"totalDamageDealtToChampions\"]\n",
        "        tDTaken = participant[\"totalDamageTaken\"]\n",
        "        tMKilled = participant[\"totalMinionsKilled\"]\n",
        "        turKills = participant[\"turretKills\"]\n",
        "        win = participant[\"win\"]\n",
        "        break\n",
        "    assists_list.append(assists)  # append assists only if it was set to a non-default value : 근데 이렇게 하면 결측치는 그냥 삭제되어버림. 고쳐야 할듯?\n",
        "    kills_list.append(kills)\n",
        "    deaths_list.append(deaths)\n",
        "    champExp_list.append(champExp)\n",
        "    champName_list.append(champName)\n",
        "    indiPos_list.append(indiPos)\n",
        "    teamPos_list.append(teamPos)\n",
        "    lane_list.append(lane)\n",
        "    role_list.append(role)\n",
        "    gold_list.append(gold)\n",
        "    tDDealt_list.append(tDDealt)\n",
        "    tDDealtChamp_list.append(tDDealtChamp)\n",
        "    tDTaken_list.append(tDTaken)\n",
        "    tMKilled_list.append(tMKilled)\n",
        "    turKills_list.append(turKills)\n",
        "    win_list.append(win)\n",
        "\n",
        "    time.sleep(1)"
      ]
    },
    {
      "cell_type": "code",
      "execution_count": 92,
      "metadata": {
        "colab": {
          "base_uri": "https://localhost:8080/"
        },
        "id": "D8AEjRjiu4In",
        "outputId": "42ac1cd6-8418-437f-b912-68a959918bf9"
      },
      "outputs": [
        {
          "output_type": "stream",
          "name": "stdout",
          "text": [
            "10\n",
            "10\n",
            "10\n",
            "10\n",
            "10\n",
            "10\n",
            "10\n",
            "10\n",
            "10\n",
            "10\n",
            "10\n",
            "10\n",
            "10\n",
            "10\n",
            "10\n",
            "10\n"
          ]
        }
      ],
      "source": [
        "# 잘 추출되었는지 확인\n",
        "print(len(assists_list))\n",
        "print(len(kills_list))\n",
        "print(len(deaths_list))\n",
        "print(len(champExp_list))\n",
        "print(len(champName_list))\n",
        "print(len(indiPos_list))\n",
        "print(len(teamPos_list))\n",
        "print(len(lane_list))\n",
        "print(len(role_list))\n",
        "print(len(gold_list))\n",
        "print(len(tDDealt_list))\n",
        "print(len(tDDealtChamp_list))\n",
        "print(len(tDTaken_list))\n",
        "print(len(tMKilled_list))\n",
        "print(len(turKills_list))\n",
        "print(len(win_list))"
      ]
    },
    {
      "cell_type": "code",
      "execution_count": 93,
      "metadata": {
        "colab": {
          "base_uri": "https://localhost:8080/"
        },
        "id": "1TaTuNpUyCLu",
        "outputId": "9feacb5c-8f5e-4ed8-9807-40b271ef34e8"
      },
      "outputs": [
        {
          "output_type": "stream",
          "name": "stdout",
          "text": [
            "[None, None, None, None, None, 10, 2, 0, 5, 2]\n",
            "[None, None, None, None, None, 11, 9, 2, 8, 6]\n",
            "[None, None, None, None, None, 2, 0, 3, 2, 3]\n",
            "[None, None, None, None, None, 13110, 8716, 7995, 12688, 21625]\n",
            "[None, None, None, None, None, 'Sett', 'Sett', 'Garen', 'Garen', 'Sett']\n",
            "[None, None, None, None, None, 'MIDDLE', 'MIDDLE', 'MIDDLE', 'MIDDLE', 'MIDDLE']\n",
            "[None, None, None, None, None, 'MIDDLE', 'MIDDLE', 'MIDDLE', 'MIDDLE', 'MIDDLE']\n",
            "[None, None, None, None, None, 'MIDDLE', 'NONE', 'NONE', 'MIDDLE', 'MIDDLE']\n",
            "[None, None, None, None, None, 'SOLO', 'SUPPORT', 'SUPPORT', 'SOLO', 'DUO']\n",
            "[None, None, None, None, None, 13096, 10750, 5659, 11262, 15372]\n",
            "[None, None, None, None, None, 129264, 99882, 58604, 99840, 240132]\n",
            "[None, None, None, None, None, 28486, 10026, 5056, 18053, 15784]\n",
            "[None, None, None, None, None, 30670, 11422, 9121, 20400, 40154]\n",
            "[None, None, None, None, None, 152, 132, 114, 147, 278]\n",
            "[None, None, None, None, None, 2, 3, 0, 3, 3]\n",
            "[None, None, None, None, None, True, True, False, True, True]\n"
          ]
        }
      ],
      "source": [
        "# 잘 추출되었는지 확인\n",
        "print(assists_list)\n",
        "print(kills_list)\n",
        "print(deaths_list)\n",
        "print(champExp_list)\n",
        "print(champName_list)\n",
        "print(indiPos_list)\n",
        "print(teamPos_list)\n",
        "print(lane_list)\n",
        "print(role_list)\n",
        "print(gold_list)\n",
        "print(tDDealt_list)\n",
        "print(tDDealtChamp_list)\n",
        "print(tDTaken_list)\n",
        "print(tMKilled_list)\n",
        "print(turKills_list)\n",
        "print(win_list)"
      ]
    },
    {
      "cell_type": "code",
      "execution_count": 94,
      "metadata": {
        "id": "IKOlo0Zdu6gi"
      },
      "outputs": [],
      "source": [
        "# 리스트를 column으로 해서 데이터프레임 만들기\n",
        "mini_df = pd.DataFrame()\n",
        "mini_df['assists'] = assists_list\n",
        "mini_df['kills'] = kills_list\n",
        "mini_df['deaths'] = deaths_list\n",
        "mini_df['champExp'] = champExp_list #champ_experience_list\n",
        "mini_df['champName'] = champName_list #champion_name_list\n",
        "mini_df['indiPos'] = indiPos_list #individual_position_list\n",
        "mini_df['lane'] = lane_list\n",
        "mini_df['role'] = role_list \n",
        "mini_df['gold'] = gold_list    #gold_earned_list\n",
        "mini_df['teamPos'] = teamPos_list \n",
        "mini_df['tDDealt'] = tDDealt_list  #total_damage_dealt_list\n",
        "mini_df['tDDealtChamp'] = tDDealtChamp_list #total_damage_dealt_to_champions_list\n",
        "mini_df['tDTaken'] = tDTaken_list  #total_damage_taken_list\n",
        "mini_df['tMKilled'] = tMKilled_list   #total_minions_killed_list\n",
        "mini_df['turKills'] = turKills_list   #turret_kills_list\n",
        "mini_df['win'] = win_list "
      ]
    },
    {
      "cell_type": "code",
      "execution_count": 95,
      "metadata": {
        "colab": {
          "base_uri": "https://localhost:8080/",
          "height": 0
        },
        "id": "2lU7fMhHzdmf",
        "outputId": "24f544ed-e484-4078-fc2e-d8b9bf65f43a"
      },
      "outputs": [
        {
          "output_type": "execute_result",
          "data": {
            "text/plain": [
              "   assists  kills  deaths  champExp champName indiPos    lane     role  \\\n",
              "0      NaN    NaN     NaN       NaN      None    None    None     None   \n",
              "1      NaN    NaN     NaN       NaN      None    None    None     None   \n",
              "2      NaN    NaN     NaN       NaN      None    None    None     None   \n",
              "3      NaN    NaN     NaN       NaN      None    None    None     None   \n",
              "4      NaN    NaN     NaN       NaN      None    None    None     None   \n",
              "5     10.0   11.0     2.0   13110.0      Sett  MIDDLE  MIDDLE     SOLO   \n",
              "6      2.0    9.0     0.0    8716.0      Sett  MIDDLE    NONE  SUPPORT   \n",
              "7      0.0    2.0     3.0    7995.0     Garen  MIDDLE    NONE  SUPPORT   \n",
              "8      5.0    8.0     2.0   12688.0     Garen  MIDDLE  MIDDLE     SOLO   \n",
              "9      2.0    6.0     3.0   21625.0      Sett  MIDDLE  MIDDLE      DUO   \n",
              "\n",
              "      gold teamPos   tDDealt  tDDealtChamp  tDTaken  tMKilled  turKills    win  \n",
              "0      NaN    None       NaN           NaN      NaN       NaN       NaN   None  \n",
              "1      NaN    None       NaN           NaN      NaN       NaN       NaN   None  \n",
              "2      NaN    None       NaN           NaN      NaN       NaN       NaN   None  \n",
              "3      NaN    None       NaN           NaN      NaN       NaN       NaN   None  \n",
              "4      NaN    None       NaN           NaN      NaN       NaN       NaN   None  \n",
              "5  13096.0  MIDDLE  129264.0       28486.0  30670.0     152.0       2.0   True  \n",
              "6  10750.0  MIDDLE   99882.0       10026.0  11422.0     132.0       3.0   True  \n",
              "7   5659.0  MIDDLE   58604.0        5056.0   9121.0     114.0       0.0  False  \n",
              "8  11262.0  MIDDLE   99840.0       18053.0  20400.0     147.0       3.0   True  \n",
              "9  15372.0  MIDDLE  240132.0       15784.0  40154.0     278.0       3.0   True  "
            ],
            "text/html": [
              "\n",
              "  <div id=\"df-62843c8e-7c47-4b81-8ba2-5255dbdb1ebd\">\n",
              "    <div class=\"colab-df-container\">\n",
              "      <div>\n",
              "<style scoped>\n",
              "    .dataframe tbody tr th:only-of-type {\n",
              "        vertical-align: middle;\n",
              "    }\n",
              "\n",
              "    .dataframe tbody tr th {\n",
              "        vertical-align: top;\n",
              "    }\n",
              "\n",
              "    .dataframe thead th {\n",
              "        text-align: right;\n",
              "    }\n",
              "</style>\n",
              "<table border=\"1\" class=\"dataframe\">\n",
              "  <thead>\n",
              "    <tr style=\"text-align: right;\">\n",
              "      <th></th>\n",
              "      <th>assists</th>\n",
              "      <th>kills</th>\n",
              "      <th>deaths</th>\n",
              "      <th>champExp</th>\n",
              "      <th>champName</th>\n",
              "      <th>indiPos</th>\n",
              "      <th>lane</th>\n",
              "      <th>role</th>\n",
              "      <th>gold</th>\n",
              "      <th>teamPos</th>\n",
              "      <th>tDDealt</th>\n",
              "      <th>tDDealtChamp</th>\n",
              "      <th>tDTaken</th>\n",
              "      <th>tMKilled</th>\n",
              "      <th>turKills</th>\n",
              "      <th>win</th>\n",
              "    </tr>\n",
              "  </thead>\n",
              "  <tbody>\n",
              "    <tr>\n",
              "      <th>0</th>\n",
              "      <td>NaN</td>\n",
              "      <td>NaN</td>\n",
              "      <td>NaN</td>\n",
              "      <td>NaN</td>\n",
              "      <td>None</td>\n",
              "      <td>None</td>\n",
              "      <td>None</td>\n",
              "      <td>None</td>\n",
              "      <td>NaN</td>\n",
              "      <td>None</td>\n",
              "      <td>NaN</td>\n",
              "      <td>NaN</td>\n",
              "      <td>NaN</td>\n",
              "      <td>NaN</td>\n",
              "      <td>NaN</td>\n",
              "      <td>None</td>\n",
              "    </tr>\n",
              "    <tr>\n",
              "      <th>1</th>\n",
              "      <td>NaN</td>\n",
              "      <td>NaN</td>\n",
              "      <td>NaN</td>\n",
              "      <td>NaN</td>\n",
              "      <td>None</td>\n",
              "      <td>None</td>\n",
              "      <td>None</td>\n",
              "      <td>None</td>\n",
              "      <td>NaN</td>\n",
              "      <td>None</td>\n",
              "      <td>NaN</td>\n",
              "      <td>NaN</td>\n",
              "      <td>NaN</td>\n",
              "      <td>NaN</td>\n",
              "      <td>NaN</td>\n",
              "      <td>None</td>\n",
              "    </tr>\n",
              "    <tr>\n",
              "      <th>2</th>\n",
              "      <td>NaN</td>\n",
              "      <td>NaN</td>\n",
              "      <td>NaN</td>\n",
              "      <td>NaN</td>\n",
              "      <td>None</td>\n",
              "      <td>None</td>\n",
              "      <td>None</td>\n",
              "      <td>None</td>\n",
              "      <td>NaN</td>\n",
              "      <td>None</td>\n",
              "      <td>NaN</td>\n",
              "      <td>NaN</td>\n",
              "      <td>NaN</td>\n",
              "      <td>NaN</td>\n",
              "      <td>NaN</td>\n",
              "      <td>None</td>\n",
              "    </tr>\n",
              "    <tr>\n",
              "      <th>3</th>\n",
              "      <td>NaN</td>\n",
              "      <td>NaN</td>\n",
              "      <td>NaN</td>\n",
              "      <td>NaN</td>\n",
              "      <td>None</td>\n",
              "      <td>None</td>\n",
              "      <td>None</td>\n",
              "      <td>None</td>\n",
              "      <td>NaN</td>\n",
              "      <td>None</td>\n",
              "      <td>NaN</td>\n",
              "      <td>NaN</td>\n",
              "      <td>NaN</td>\n",
              "      <td>NaN</td>\n",
              "      <td>NaN</td>\n",
              "      <td>None</td>\n",
              "    </tr>\n",
              "    <tr>\n",
              "      <th>4</th>\n",
              "      <td>NaN</td>\n",
              "      <td>NaN</td>\n",
              "      <td>NaN</td>\n",
              "      <td>NaN</td>\n",
              "      <td>None</td>\n",
              "      <td>None</td>\n",
              "      <td>None</td>\n",
              "      <td>None</td>\n",
              "      <td>NaN</td>\n",
              "      <td>None</td>\n",
              "      <td>NaN</td>\n",
              "      <td>NaN</td>\n",
              "      <td>NaN</td>\n",
              "      <td>NaN</td>\n",
              "      <td>NaN</td>\n",
              "      <td>None</td>\n",
              "    </tr>\n",
              "    <tr>\n",
              "      <th>5</th>\n",
              "      <td>10.0</td>\n",
              "      <td>11.0</td>\n",
              "      <td>2.0</td>\n",
              "      <td>13110.0</td>\n",
              "      <td>Sett</td>\n",
              "      <td>MIDDLE</td>\n",
              "      <td>MIDDLE</td>\n",
              "      <td>SOLO</td>\n",
              "      <td>13096.0</td>\n",
              "      <td>MIDDLE</td>\n",
              "      <td>129264.0</td>\n",
              "      <td>28486.0</td>\n",
              "      <td>30670.0</td>\n",
              "      <td>152.0</td>\n",
              "      <td>2.0</td>\n",
              "      <td>True</td>\n",
              "    </tr>\n",
              "    <tr>\n",
              "      <th>6</th>\n",
              "      <td>2.0</td>\n",
              "      <td>9.0</td>\n",
              "      <td>0.0</td>\n",
              "      <td>8716.0</td>\n",
              "      <td>Sett</td>\n",
              "      <td>MIDDLE</td>\n",
              "      <td>NONE</td>\n",
              "      <td>SUPPORT</td>\n",
              "      <td>10750.0</td>\n",
              "      <td>MIDDLE</td>\n",
              "      <td>99882.0</td>\n",
              "      <td>10026.0</td>\n",
              "      <td>11422.0</td>\n",
              "      <td>132.0</td>\n",
              "      <td>3.0</td>\n",
              "      <td>True</td>\n",
              "    </tr>\n",
              "    <tr>\n",
              "      <th>7</th>\n",
              "      <td>0.0</td>\n",
              "      <td>2.0</td>\n",
              "      <td>3.0</td>\n",
              "      <td>7995.0</td>\n",
              "      <td>Garen</td>\n",
              "      <td>MIDDLE</td>\n",
              "      <td>NONE</td>\n",
              "      <td>SUPPORT</td>\n",
              "      <td>5659.0</td>\n",
              "      <td>MIDDLE</td>\n",
              "      <td>58604.0</td>\n",
              "      <td>5056.0</td>\n",
              "      <td>9121.0</td>\n",
              "      <td>114.0</td>\n",
              "      <td>0.0</td>\n",
              "      <td>False</td>\n",
              "    </tr>\n",
              "    <tr>\n",
              "      <th>8</th>\n",
              "      <td>5.0</td>\n",
              "      <td>8.0</td>\n",
              "      <td>2.0</td>\n",
              "      <td>12688.0</td>\n",
              "      <td>Garen</td>\n",
              "      <td>MIDDLE</td>\n",
              "      <td>MIDDLE</td>\n",
              "      <td>SOLO</td>\n",
              "      <td>11262.0</td>\n",
              "      <td>MIDDLE</td>\n",
              "      <td>99840.0</td>\n",
              "      <td>18053.0</td>\n",
              "      <td>20400.0</td>\n",
              "      <td>147.0</td>\n",
              "      <td>3.0</td>\n",
              "      <td>True</td>\n",
              "    </tr>\n",
              "    <tr>\n",
              "      <th>9</th>\n",
              "      <td>2.0</td>\n",
              "      <td>6.0</td>\n",
              "      <td>3.0</td>\n",
              "      <td>21625.0</td>\n",
              "      <td>Sett</td>\n",
              "      <td>MIDDLE</td>\n",
              "      <td>MIDDLE</td>\n",
              "      <td>DUO</td>\n",
              "      <td>15372.0</td>\n",
              "      <td>MIDDLE</td>\n",
              "      <td>240132.0</td>\n",
              "      <td>15784.0</td>\n",
              "      <td>40154.0</td>\n",
              "      <td>278.0</td>\n",
              "      <td>3.0</td>\n",
              "      <td>True</td>\n",
              "    </tr>\n",
              "  </tbody>\n",
              "</table>\n",
              "</div>\n",
              "      <button class=\"colab-df-convert\" onclick=\"convertToInteractive('df-62843c8e-7c47-4b81-8ba2-5255dbdb1ebd')\"\n",
              "              title=\"Convert this dataframe to an interactive table.\"\n",
              "              style=\"display:none;\">\n",
              "        \n",
              "  <svg xmlns=\"http://www.w3.org/2000/svg\" height=\"24px\"viewBox=\"0 0 24 24\"\n",
              "       width=\"24px\">\n",
              "    <path d=\"M0 0h24v24H0V0z\" fill=\"none\"/>\n",
              "    <path d=\"M18.56 5.44l.94 2.06.94-2.06 2.06-.94-2.06-.94-.94-2.06-.94 2.06-2.06.94zm-11 1L8.5 8.5l.94-2.06 2.06-.94-2.06-.94L8.5 2.5l-.94 2.06-2.06.94zm10 10l.94 2.06.94-2.06 2.06-.94-2.06-.94-.94-2.06-.94 2.06-2.06.94z\"/><path d=\"M17.41 7.96l-1.37-1.37c-.4-.4-.92-.59-1.43-.59-.52 0-1.04.2-1.43.59L10.3 9.45l-7.72 7.72c-.78.78-.78 2.05 0 2.83L4 21.41c.39.39.9.59 1.41.59.51 0 1.02-.2 1.41-.59l7.78-7.78 2.81-2.81c.8-.78.8-2.07 0-2.86zM5.41 20L4 18.59l7.72-7.72 1.47 1.35L5.41 20z\"/>\n",
              "  </svg>\n",
              "      </button>\n",
              "      \n",
              "  <style>\n",
              "    .colab-df-container {\n",
              "      display:flex;\n",
              "      flex-wrap:wrap;\n",
              "      gap: 12px;\n",
              "    }\n",
              "\n",
              "    .colab-df-convert {\n",
              "      background-color: #E8F0FE;\n",
              "      border: none;\n",
              "      border-radius: 50%;\n",
              "      cursor: pointer;\n",
              "      display: none;\n",
              "      fill: #1967D2;\n",
              "      height: 32px;\n",
              "      padding: 0 0 0 0;\n",
              "      width: 32px;\n",
              "    }\n",
              "\n",
              "    .colab-df-convert:hover {\n",
              "      background-color: #E2EBFA;\n",
              "      box-shadow: 0px 1px 2px rgba(60, 64, 67, 0.3), 0px 1px 3px 1px rgba(60, 64, 67, 0.15);\n",
              "      fill: #174EA6;\n",
              "    }\n",
              "\n",
              "    [theme=dark] .colab-df-convert {\n",
              "      background-color: #3B4455;\n",
              "      fill: #D2E3FC;\n",
              "    }\n",
              "\n",
              "    [theme=dark] .colab-df-convert:hover {\n",
              "      background-color: #434B5C;\n",
              "      box-shadow: 0px 1px 3px 1px rgba(0, 0, 0, 0.15);\n",
              "      filter: drop-shadow(0px 1px 2px rgba(0, 0, 0, 0.3));\n",
              "      fill: #FFFFFF;\n",
              "    }\n",
              "  </style>\n",
              "\n",
              "      <script>\n",
              "        const buttonEl =\n",
              "          document.querySelector('#df-62843c8e-7c47-4b81-8ba2-5255dbdb1ebd button.colab-df-convert');\n",
              "        buttonEl.style.display =\n",
              "          google.colab.kernel.accessAllowed ? 'block' : 'none';\n",
              "\n",
              "        async function convertToInteractive(key) {\n",
              "          const element = document.querySelector('#df-62843c8e-7c47-4b81-8ba2-5255dbdb1ebd');\n",
              "          const dataTable =\n",
              "            await google.colab.kernel.invokeFunction('convertToInteractive',\n",
              "                                                     [key], {});\n",
              "          if (!dataTable) return;\n",
              "\n",
              "          const docLinkHtml = 'Like what you see? Visit the ' +\n",
              "            '<a target=\"_blank\" href=https://colab.research.google.com/notebooks/data_table.ipynb>data table notebook</a>'\n",
              "            + ' to learn more about interactive tables.';\n",
              "          element.innerHTML = '';\n",
              "          dataTable['output_type'] = 'display_data';\n",
              "          await google.colab.output.renderOutput(dataTable, element);\n",
              "          const docLink = document.createElement('div');\n",
              "          docLink.innerHTML = docLinkHtml;\n",
              "          element.appendChild(docLink);\n",
              "        }\n",
              "      </script>\n",
              "    </div>\n",
              "  </div>\n",
              "  "
            ]
          },
          "metadata": {},
          "execution_count": 95
        }
      ],
      "source": [
        "mini_df"
      ]
    },
    {
      "cell_type": "markdown",
      "metadata": {
        "id": "fgdsjQIFqsHi"
      },
      "source": []
    },
    {
      "cell_type": "markdown",
      "metadata": {
        "id": "zsPCdjU62NRV"
      },
      "source": [
        "# **테스트 결과 잘 나옴 >> match_id_df_1 부터 match_id_df_10까지 노가다 시작**"
      ]
    },
    {
      "cell_type": "markdown",
      "metadata": {
        "id": "LhsRseFK2NIy"
      },
      "source": [
        "### **MATCH 1**"
      ]
    },
    {
      "cell_type": "code",
      "execution_count": 96,
      "metadata": {
        "id": "ofymtZaRkuTn"
      },
      "outputs": [],
      "source": [
        "region = 'asia'\n",
        "# Empty lists to store the collected data\n",
        "# game_mode_list = [] 얘넨 나중에\n",
        "# game_type_list = []\n",
        "assists_list = []\n",
        "kills_list = []\n",
        "deaths_list = []\n",
        "champExp_list = [] #champ_experience_list\n",
        "champName_list = [] #champion_name_list\n",
        "indiPos_list = [] #individual_position_list\n",
        "lane_list = []\n",
        "role_list = []\n",
        "gold_list = []   #gold_earned_list\n",
        "teamPos_list = []\n",
        "tDDealt_list = []  #total_damage_dealt_list\n",
        "tDDealtChamp_list = [] #total_damage_dealt_to_champions_list\n",
        "tDTaken_list = []  #total_damage_taken_list\n",
        "tMKilled_list = []  #total_minions_killed_list\n",
        "turKills_list = []  #turret_kills_list\n",
        "win_list = []\n",
        "\n",
        "\n",
        "for i in range(0,2000): #########길이 수정 요망########\n",
        "    pair = match_id_df_1.iloc[i,:].to_list()\n",
        "    puuid = pair[0]\n",
        "    match_id = pair[1]\n",
        "    url = f'https://asia.api.riotgames.com/lol/match/v5/matches/{match_id}?api_key={api_key}'\n",
        "\n",
        "    # Make the Riot API call\n",
        "    response = requests.get(url)\n",
        "    response_json = response.json()\n",
        "\n",
        "    \n",
        "    kills = None \n",
        "    assists = None  # set a default value\n",
        "    deaths = None \n",
        "    champExp = None \n",
        "    champName = None \n",
        "    indiPos = None \n",
        "    teamPos = None \n",
        "    lane = None \n",
        "    role = None \n",
        "    gold = None \n",
        "    tDDealt = None \n",
        "    tDDealtChamp = None \n",
        "    tDTaken = None \n",
        "    tMKilled = None\n",
        "    turKills = None\n",
        "    win = None\n",
        "    for participant in response_json['info']['participants']:\n",
        "      if participant['puuid'] == puuid and participant['teamPosition'] == 'MIDDLE': #게임에 참여한 참가자들 중 위에서 우리가 구한 puuid와 puuid 가 일치하고 individualPosition이 MIDDLE인 participants에 대해서만 정보 추출 \n",
        "        kills = participant['kills']\n",
        "        assists = participant['assists']\n",
        "        deaths = participant[\"deaths\"]\n",
        "        champExp = participant[\"champExperience\"]\n",
        "        champName = participant[\"championName\"]\n",
        "        indiPos = participant[\"individualPosition\"]\n",
        "        teamPos = participant[\"teamPosition\"]\n",
        "        lane = participant[\"lane\"]\n",
        "        role = participant[\"role\"]\n",
        "        gold = participant[\"goldEarned\"]\n",
        "        tDDealt = participant[\"totalDamageDealt\"]\n",
        "        tDDealtChamp = participant[\"totalDamageDealtToChampions\"]\n",
        "        tDTaken = participant[\"totalDamageTaken\"]\n",
        "        tMKilled = participant[\"totalMinionsKilled\"]\n",
        "        turKills = participant[\"turretKills\"]\n",
        "        win = participant[\"win\"]\n",
        "        break\n",
        "    assists_list.append(assists)  # append assists only if it was set to a non-default value : 근데 이렇게 하면 결측치는 그냥 삭제되어버림. 고쳐야 할듯?\n",
        "    kills_list.append(kills)\n",
        "    deaths_list.append(deaths)\n",
        "    champExp_list.append(champExp)\n",
        "    champName_list.append(champName)\n",
        "    indiPos_list.append(indiPos)\n",
        "    teamPos_list.append(teamPos)\n",
        "    lane_list.append(lane)\n",
        "    role_list.append(role)\n",
        "    gold_list.append(gold)\n",
        "    tDDealt_list.append(tDDealt)\n",
        "    tDDealtChamp_list.append(tDDealtChamp)\n",
        "    tDTaken_list.append(tDTaken)\n",
        "    tMKilled_list.append(tMKilled)\n",
        "    turKills_list.append(turKills)\n",
        "    win_list.append(win)\n",
        "\n",
        "    time.sleep(1)"
      ]
    },
    {
      "cell_type": "code",
      "source": [
        "#길이\n",
        "print(len(assists_list))\n",
        "print(len(kills_list))\n",
        "print(len(deaths_list))\n",
        "print(len(champExp_list))\n",
        "print(len(champName_list))\n",
        "print(len(indiPos_list))\n",
        "print(len(teamPos_list))\n",
        "print(len(lane_list))\n",
        "print(len(role_list))\n",
        "print(len(gold_list))\n",
        "print(len(tDDealt_list))\n",
        "print(len(tDDealtChamp_list))\n",
        "print(len(tDTaken_list))\n",
        "print(len(tMKilled_list))\n",
        "print(len(turKills_list))\n",
        "print(len(win_list))\n",
        "\n",
        "#내용\n",
        "print(assists_list)\n",
        "print(kills_list)\n",
        "print(deaths_list)\n",
        "print(champExp_list)\n",
        "print(champName_list)\n",
        "print(indiPos_list)\n",
        "print(teamPos_list)\n",
        "print(lane_list)\n",
        "print(role_list)\n",
        "print(gold_list)\n",
        "print(tDDealt_list)\n",
        "print(tDDealtChamp_list)\n",
        "print(tDTaken_list)\n",
        "print(tMKilled_list)\n",
        "print(turKills_list)\n",
        "print(win_list)"
      ],
      "metadata": {
        "id": "7l1O7zSIk3Qk"
      },
      "execution_count": null,
      "outputs": []
    },
    {
      "cell_type": "code",
      "source": [
        "matchdata_1 = pd.DataFrame()\n",
        "matchdata_1['assists'] = assists_list\n",
        "matchdata_1['kills'] = kills_list\n",
        "matchdata_1['deaths'] = deaths_list\n",
        "matchdata_1['champExp'] = champExp_list #champ_experience_list\n",
        "matchdata_1['champName'] = champName_list #champion_name_list\n",
        "matchdata_1['indiPos'] = indiPos_list #individual_position_list\n",
        "matchdata_1['lane'] = lane_list\n",
        "matchdata_1['role'] = role_list \n",
        "matchdata_1['gold'] = gold_list    #gold_earned_list\n",
        "matchdata_1['teamPos'] = teamPos_list \n",
        "matchdata_1['tDDealt'] = tDDealt_list  #total_damage_dealt_list\n",
        "matchdata_1['tDDealtChamp'] = tDDealtChamp_list #total_damage_dealt_to_champions_list\n",
        "matchdata_1['tDTaken'] = tDTaken_list  #total_damage_taken_list\n",
        "matchdata_1['tMKilled'] = tMKilled_list   #total_minions_killed_list\n",
        "matchdata_1['turKills'] = turKills_list   #turret_kills_list\n",
        "matchdata_1['win'] = win_list "
      ],
      "metadata": {
        "id": "ZEVCpK8z-M-a"
      },
      "execution_count": 100,
      "outputs": []
    },
    {
      "cell_type": "code",
      "source": [
        "matchdata_1.info()"
      ],
      "metadata": {
        "id": "6xwsflDw-b3H"
      },
      "execution_count": null,
      "outputs": []
    },
    {
      "cell_type": "code",
      "source": [
        "matchdata_1.head(10)"
      ],
      "metadata": {
        "id": "_9H4bxmT-gg_"
      },
      "execution_count": null,
      "outputs": []
    },
    {
      "cell_type": "code",
      "source": [
        "matchdata_1.to_csv('matchdata_1(0326).csv', header=True, index=False)"
      ],
      "metadata": {
        "id": "zWEf0H_j-tVj"
      },
      "execution_count": 106,
      "outputs": []
    },
    {
      "cell_type": "markdown",
      "source": [
        "### **MATCH 2**"
      ],
      "metadata": {
        "id": "4JskTNQs-5Ak"
      }
    },
    {
      "cell_type": "code",
      "execution_count": 107,
      "metadata": {
        "id": "d4m_aaLt_n8v"
      },
      "outputs": [],
      "source": [
        "region = 'asia'\n",
        "# Empty lists to store the collected data\n",
        "# game_mode_list = [] 얘넨 나중에\n",
        "# game_type_list = []\n",
        "\n",
        "assists_list = []\n",
        "kills_list = []\n",
        "deaths_list = []\n",
        "champExp_list = [] #champ_experience_list\n",
        "champName_list = [] #champion_name_list\n",
        "indiPos_list = [] #individual_position_list\n",
        "lane_list = []\n",
        "role_list = []\n",
        "gold_list = []   #gold_earned_list\n",
        "teamPos_list = []\n",
        "tDDealt_list = []  #total_damage_dealt_list\n",
        "tDDealtChamp_list = [] #total_damage_dealt_to_champions_list\n",
        "tDTaken_list = []  #total_damage_taken_list\n",
        "tMKilled_list = []  #total_minions_killed_list\n",
        "turKills_list = []  #turret_kills_list\n",
        "win_list = []\n",
        "\n",
        "\n",
        "for i in range(0,2000): #########길이 수정 요망########\n",
        "    pair = match_id_df_2.iloc[i,:].to_list()\n",
        "    puuid = pair[0]\n",
        "    match_id = pair[1]\n",
        "    url = f'https://asia.api.riotgames.com/lol/match/v5/matches/{match_id}?api_key={api_key}'\n",
        "\n",
        "    # Make the Riot API call\n",
        "    response = requests.get(url)\n",
        "    response_json = response.json()\n",
        "\n",
        "    \n",
        "    kills = None \n",
        "    assists = None  # set a default value\n",
        "    deaths = None \n",
        "    champExp = None \n",
        "    champName = None \n",
        "    indiPos = None \n",
        "    teamPos = None \n",
        "    lane = None \n",
        "    role = None \n",
        "    gold = None \n",
        "    tDDealt = None \n",
        "    tDDealtChamp = None \n",
        "    tDTaken = None \n",
        "    tMKilled = None\n",
        "    turKills = None\n",
        "    win = None\n",
        "    for participant in response_json['info']['participants']:\n",
        "      if participant['puuid'] == puuid and participant['teamPosition'] == 'MIDDLE': #게임에 참여한 참가자들 중 위에서 우리가 구한 puuid와 puuid 가 일치하고 individualPosition이 MIDDLE인 participants에 대해서만 정보 추출 \n",
        "        kills = participant['kills']\n",
        "        assists = participant['assists']\n",
        "        deaths = participant[\"deaths\"]\n",
        "        champExp = participant[\"champExperience\"]\n",
        "        champName = participant[\"championName\"]\n",
        "        indiPos = participant[\"individualPosition\"]\n",
        "        teamPos = participant[\"teamPosition\"]\n",
        "        lane = participant[\"lane\"]\n",
        "        role = participant[\"role\"]\n",
        "        gold = participant[\"goldEarned\"]\n",
        "        tDDealt = participant[\"totalDamageDealt\"]\n",
        "        tDDealtChamp = participant[\"totalDamageDealtToChampions\"]\n",
        "        tDTaken = participant[\"totalDamageTaken\"]\n",
        "        tMKilled = participant[\"totalMinionsKilled\"]\n",
        "        turKills = participant[\"turretKills\"]\n",
        "        win = participant[\"win\"]\n",
        "        break\n",
        "    assists_list.append(assists)  # append assists only if it was set to a non-default value : 근데 이렇게 하면 결측치는 그냥 삭제되어버림. 고쳐야 할듯?\n",
        "    kills_list.append(kills)\n",
        "    deaths_list.append(deaths)\n",
        "    champExp_list.append(champExp)\n",
        "    champName_list.append(champName)\n",
        "    indiPos_list.append(indiPos)\n",
        "    teamPos_list.append(teamPos)\n",
        "    lane_list.append(lane)\n",
        "    role_list.append(role)\n",
        "    gold_list.append(gold)\n",
        "    tDDealt_list.append(tDDealt)\n",
        "    tDDealtChamp_list.append(tDDealtChamp)\n",
        "    tDTaken_list.append(tDTaken)\n",
        "    tMKilled_list.append(tMKilled)\n",
        "    turKills_list.append(turKills)\n",
        "    win_list.append(win)\n",
        "\n",
        "    time.sleep(1)"
      ]
    },
    {
      "cell_type": "code",
      "source": [
        "#길이\n",
        "print(len(assists_list))\n",
        "print(len(kills_list))\n",
        "print(len(deaths_list))\n",
        "print(len(champExp_list))\n",
        "print(len(champName_list))\n",
        "print(len(indiPos_list))\n",
        "print(len(teamPos_list))\n",
        "print(len(lane_list))\n",
        "print(len(role_list))\n",
        "print(len(gold_list))\n",
        "print(len(tDDealt_list))\n",
        "print(len(tDDealtChamp_list))\n",
        "print(len(tDTaken_list))\n",
        "print(len(tMKilled_list))\n",
        "print(len(turKills_list))\n",
        "print(len(win_list))\n",
        "\n",
        "#내용\n",
        "print(assists_list)\n",
        "print(kills_list)\n",
        "print(deaths_list)\n",
        "print(champExp_list)\n",
        "print(champName_list)\n",
        "print(indiPos_list)\n",
        "print(teamPos_list)\n",
        "print(lane_list)\n",
        "print(role_list)\n",
        "print(gold_list)\n",
        "print(tDDealt_list)\n",
        "print(tDDealtChamp_list)\n",
        "print(tDTaken_list)\n",
        "print(tMKilled_list)\n",
        "print(turKills_list)\n",
        "print(win_list)"
      ],
      "metadata": {
        "id": "6GeDW-0G_r7_"
      },
      "execution_count": null,
      "outputs": []
    },
    {
      "cell_type": "code",
      "source": [
        "matchdata_2 = pd.DataFrame()\n",
        "matchdata_2['assists'] = assists_list\n",
        "matchdata_2['kills'] = kills_list\n",
        "matchdata_2['deaths'] = deaths_list\n",
        "matchdata_2['champExp'] = champExp_list #champ_experience_list\n",
        "matchdata_2['champName'] = champName_list #champion_name_list\n",
        "matchdata_2['indiPos'] = indiPos_list #individual_position_list\n",
        "matchdata_2['lane'] = lane_list\n",
        "matchdata_2['role'] = role_list \n",
        "matchdata_2['gold'] = gold_list    #gold_earned_list\n",
        "matchdata_2['teamPos'] = teamPos_list \n",
        "matchdata_2['tDDealt'] = tDDealt_list  #total_damage_dealt_list\n",
        "matchdata_2['tDDealtChamp'] = tDDealtChamp_list #total_damage_dealt_to_champions_list\n",
        "matchdata_2['tDTaken'] = tDTaken_list  #total_damage_taken_list\n",
        "matchdata_2['tMKilled'] = tMKilled_list   #total_minions_killed_list\n",
        "matchdata_2['turKills'] = turKills_list   #turret_kills_list\n",
        "matchdata_2['win'] = win_list "
      ],
      "metadata": {
        "id": "QQyWx88R_t-Z"
      },
      "execution_count": 112,
      "outputs": []
    },
    {
      "cell_type": "code",
      "source": [
        "matchdata_2.info()"
      ],
      "metadata": {
        "id": "GBsOeawA_3Di"
      },
      "execution_count": null,
      "outputs": []
    },
    {
      "cell_type": "code",
      "source": [
        "matchdata_2.head(30)"
      ],
      "metadata": {
        "id": "Qn_5S2a2_6Rk"
      },
      "execution_count": null,
      "outputs": []
    },
    {
      "cell_type": "code",
      "source": [
        "matchdata_2.to_csv('matchdata_2(0326).csv', header=True, index=False)"
      ],
      "metadata": {
        "id": "-HenEYwK__1x"
      },
      "execution_count": 117,
      "outputs": []
    },
    {
      "cell_type": "markdown",
      "source": [
        "### **MATCH 3**"
      ],
      "metadata": {
        "id": "Flu2QbrUfYL6"
      }
    },
    {
      "cell_type": "code",
      "source": [
        "\n",
        "\n",
        "\n",
        "region = 'asia'\n",
        "# Empty lists to store the collected data\n",
        "# game_mode_list = [] 얘넨 나중에\n",
        "# game_type_list = []\n",
        "\n",
        "assists_list = []\n",
        "kills_list = []\n",
        "deaths_list = []\n",
        "champExp_list = [] #champ_experience_list\n",
        "champName_list = [] #champion_name_list\n",
        "indiPos_list = [] #individual_position_list\n",
        "lane_list = []\n",
        "role_list = []\n",
        "gold_list = []   #gold_earned_list\n",
        "teamPos_list = []\n",
        "tDDealt_list = []  #total_damage_dealt_list\n",
        "tDDealtChamp_list = [] #total_damage_dealt_to_champions_list\n",
        "tDTaken_list = []  #total_damage_taken_list\n",
        "tMKilled_list = []  #total_minions_killed_list\n",
        "turKills_list = []  #turret_kills_list\n",
        "win_list = []\n",
        "\n",
        "\n",
        "for i in range(0,2000):\n",
        "    pair = match_id_df_3.iloc[i,:].to_list()#-'-'-'-'-'-'-'--'-'-'-'\n",
        "    puuid = pair[0]\n",
        "    match_id = pair[1]\n",
        "    url = f'https://asia.api.riotgames.com/lol/match/v5/matches/{match_id}?api_key={api_key}'\n",
        "\n",
        "    # Make the Riot API call\n",
        "    response = requests.get(url)\n",
        "    response_json = response.json()\n",
        "\n",
        "    \n",
        "    kills = None \n",
        "    assists = None  # set a default value\n",
        "    deaths = None \n",
        "    champExp = None \n",
        "    champName = None \n",
        "    indiPos = None \n",
        "    teamPos = None \n",
        "    lane = None \n",
        "    role = None \n",
        "    gold = None \n",
        "    tDDealt = None \n",
        "    tDDealtChamp = None \n",
        "    tDTaken = None \n",
        "    tMKilled = None\n",
        "    turKills = None\n",
        "    win = None\n",
        "    for participant in response_json['info']['participants']:\n",
        "      if participant['puuid'] == puuid and participant['teamPosition'] == 'MIDDLE': #게임에 참여한 참가자들 중 위에서 우리가 구한 puuid와 puuid 가 일치하고 individualPosition이 MIDDLE인 participants에 대해서만 정보 추출 \n",
        "        kills = participant['kills']\n",
        "        assists = participant['assists']\n",
        "        deaths = participant[\"deaths\"]\n",
        "        champExp = participant[\"champExperience\"]\n",
        "        champName = participant[\"championName\"]\n",
        "        indiPos = participant[\"individualPosition\"]\n",
        "        teamPos = participant[\"teamPosition\"]\n",
        "        lane = participant[\"lane\"]\n",
        "        role = participant[\"role\"]\n",
        "        gold = participant[\"goldEarned\"]\n",
        "        tDDealt = participant[\"totalDamageDealt\"]\n",
        "        tDDealtChamp = participant[\"totalDamageDealtToChampions\"]\n",
        "        tDTaken = participant[\"totalDamageTaken\"]\n",
        "        tMKilled = participant[\"totalMinionsKilled\"]\n",
        "        turKills = participant[\"turretKills\"]\n",
        "        win = participant[\"win\"]\n",
        "        break\n",
        "    assists_list.append(assists)  # append assists only if it was set to a non-default value : 근데 이렇게 하면 결측치는 그냥 삭제되어버림. 고쳐야 할듯?\n",
        "    kills_list.append(kills)\n",
        "    deaths_list.append(deaths)\n",
        "    champExp_list.append(champExp)\n",
        "    champName_list.append(champName)\n",
        "    indiPos_list.append(indiPos)\n",
        "    teamPos_list.append(teamPos)\n",
        "    lane_list.append(lane)\n",
        "    role_list.append(role)\n",
        "    gold_list.append(gold)\n",
        "    tDDealt_list.append(tDDealt)\n",
        "    tDDealtChamp_list.append(tDDealtChamp)\n",
        "    tDTaken_list.append(tDTaken)\n",
        "    tMKilled_list.append(tMKilled)\n",
        "    turKills_list.append(turKills)\n",
        "    win_list.append(win)\n",
        "\n",
        "    time.sleep(1)"
      ],
      "metadata": {
        "id": "agyXSzC1f6hB"
      },
      "execution_count": 8,
      "outputs": []
    },
    {
      "cell_type": "code",
      "source": [
        "#길이\n",
        "print(len(assists_list))\n",
        "print(len(kills_list))\n",
        "print(len(deaths_list))\n",
        "print(len(champExp_list))\n",
        "print(len(champName_list))\n",
        "print(len(indiPos_list))\n",
        "print(len(teamPos_list))\n",
        "print(len(lane_list))\n",
        "print(len(role_list))\n",
        "print(len(gold_list))\n",
        "print(len(tDDealt_list))\n",
        "print(len(tDDealtChamp_list))\n",
        "print(len(tDTaken_list))\n",
        "print(len(tMKilled_list))\n",
        "print(len(turKills_list))\n",
        "print(len(win_list))\n",
        "\n",
        "#내용\n",
        "print(assists_list)\n",
        "print(kills_list)\n",
        "print(deaths_list)\n",
        "print(champExp_list)\n",
        "print(champName_list)\n",
        "print(indiPos_list)\n",
        "print(teamPos_list)\n",
        "print(lane_list)\n",
        "print(role_list)\n",
        "print(gold_list)\n",
        "print(tDDealt_list)\n",
        "print(tDDealtChamp_list)\n",
        "print(tDTaken_list)\n",
        "print(tMKilled_list)\n",
        "print(turKills_list)\n",
        "print(win_list)\n"
      ],
      "metadata": {
        "id": "nl3so2nGhGdD"
      },
      "execution_count": null,
      "outputs": []
    },
    {
      "cell_type": "code",
      "source": [
        "matchdata_3 = pd.DataFrame()\n",
        "matchdata_3['assists'] = assists_list\n",
        "matchdata_3['kills'] = kills_list\n",
        "matchdata_3['deaths'] = deaths_list\n",
        "matchdata_3['champExp'] = champExp_list #champ_experience_list\n",
        "matchdata_3['champName'] = champName_list #champion_name_list\n",
        "matchdata_3['indiPos'] = indiPos_list #individual_position_list\n",
        "matchdata_3['lane'] = lane_list\n",
        "matchdata_3['role'] = role_list \n",
        "matchdata_3['gold'] = gold_list    #gold_earned_list\n",
        "matchdata_3['teamPos'] = teamPos_list \n",
        "matchdata_3['tDDealt'] = tDDealt_list  #total_damage_dealt_list\n",
        "matchdata_3['tDDealtChamp'] = tDDealtChamp_list #total_damage_dealt_to_champions_list\n",
        "matchdata_3['tDTaken'] = tDTaken_list  #total_damage_taken_list\n",
        "matchdata_3['tMKilled'] = tMKilled_list   #total_minions_killed_list\n",
        "matchdata_3['turKills'] = turKills_list   #turret_kills_list\n",
        "matchdata_3['win'] = win_list "
      ],
      "metadata": {
        "id": "D3OFCz9lhI3p"
      },
      "execution_count": 10,
      "outputs": []
    },
    {
      "cell_type": "code",
      "source": [
        "print(matchdata_3.info())\n",
        "\n",
        "print(matchdata_3.head(20))"
      ],
      "metadata": {
        "id": "Yth1owbahRgt"
      },
      "execution_count": null,
      "outputs": []
    },
    {
      "cell_type": "code",
      "source": [
        "matchdata_3.to_csv('matchdata_3(0326).csv', header=True, index=False)\n"
      ],
      "metadata": {
        "id": "ndZC6voFhTFn"
      },
      "execution_count": 12,
      "outputs": []
    },
    {
      "cell_type": "markdown",
      "source": [
        "### **MATCH 4**"
      ],
      "metadata": {
        "id": "Xn1_4-uorhVR"
      }
    },
    {
      "cell_type": "code",
      "source": [
        "region = 'asia'\n",
        "# Empty lists to store the collected data\n",
        "# game_mode_list = [] 얘넨 나중에\n",
        "# game_type_list = []\n",
        "\n",
        "assists_list = []\n",
        "kills_list = []\n",
        "deaths_list = []\n",
        "champExp_list = [] #champ_experience_list\n",
        "champName_list = [] #champion_name_list\n",
        "indiPos_list = [] #individual_position_list\n",
        "lane_list = []\n",
        "role_list = []\n",
        "gold_list = []   #gold_earned_list\n",
        "teamPos_list = []\n",
        "tDDealt_list = []  #total_damage_dealt_list\n",
        "tDDealtChamp_list = [] #total_damage_dealt_to_champions_list\n",
        "tDTaken_list = []  #total_damage_taken_list\n",
        "tMKilled_list = []  #total_minions_killed_list\n",
        "turKills_list = []  #turret_kills_list\n",
        "win_list = []\n",
        "\n",
        "\n",
        "for i in range(0,2000): #########길이 수정 요망########\n",
        "    pair = match_id_df_4.iloc[i,:].to_list()\n",
        "    puuid = pair[0]\n",
        "    match_id = pair[1]\n",
        "    url = f'https://asia.api.riotgames.com/lol/match/v5/matches/{match_id}?api_key={api_key}'\n",
        "\n",
        "    # Make the Riot API call\n",
        "    response = requests.get(url)\n",
        "    response_json = response.json()\n",
        "\n",
        "    \n",
        "    kills = None \n",
        "    assists = None  # set a default value\n",
        "    deaths = None \n",
        "    champExp = None \n",
        "    champName = None \n",
        "    indiPos = None \n",
        "    teamPos = None \n",
        "    lane = None \n",
        "    role = None \n",
        "    gold = None \n",
        "    tDDealt = None \n",
        "    tDDealtChamp = None \n",
        "    tDTaken = None \n",
        "    tMKilled = None\n",
        "    turKills = None\n",
        "    win = None\n",
        "    for participant in response_json['info']['participants']:\n",
        "      if participant['puuid'] == puuid and participant['teamPosition'] == 'MIDDLE': #게임에 참여한 참가자들 중 위에서 우리가 구한 puuid와 puuid 가 일치하고 individualPosition이 MIDDLE인 participants에 대해서만 정보 추출 \n",
        "        kills = participant['kills']\n",
        "        assists = participant['assists']\n",
        "        deaths = participant[\"deaths\"]\n",
        "        champExp = participant[\"champExperience\"]\n",
        "        champName = participant[\"championName\"]\n",
        "        indiPos = participant[\"individualPosition\"]\n",
        "        teamPos = participant[\"teamPosition\"]\n",
        "        lane = participant[\"lane\"]\n",
        "        role = participant[\"role\"]\n",
        "        gold = participant[\"goldEarned\"]\n",
        "        tDDealt = participant[\"totalDamageDealt\"]\n",
        "        tDDealtChamp = participant[\"totalDamageDealtToChampions\"]\n",
        "        tDTaken = participant[\"totalDamageTaken\"]\n",
        "        tMKilled = participant[\"totalMinionsKilled\"]\n",
        "        turKills = participant[\"turretKills\"]\n",
        "        win = participant[\"win\"]\n",
        "        break\n",
        "    assists_list.append(assists)  # append assists only if it was set to a non-default value : 근데 이렇게 하면 결측치는 그냥 삭제되어버림. 고쳐야 할듯?\n",
        "    kills_list.append(kills)\n",
        "    deaths_list.append(deaths)\n",
        "    champExp_list.append(champExp)\n",
        "    champName_list.append(champName)\n",
        "    indiPos_list.append(indiPos)\n",
        "    teamPos_list.append(teamPos)\n",
        "    lane_list.append(lane)\n",
        "    role_list.append(role)\n",
        "    gold_list.append(gold)\n",
        "    tDDealt_list.append(tDDealt)\n",
        "    tDDealtChamp_list.append(tDDealtChamp)\n",
        "    tDTaken_list.append(tDTaken)\n",
        "    tMKilled_list.append(tMKilled)\n",
        "    turKills_list.append(turKills)\n",
        "    win_list.append(win)\n",
        "\n",
        "    time.sleep(1)\n"
      ],
      "metadata": {
        "id": "W33bMn37rm0M"
      },
      "execution_count": 13,
      "outputs": []
    },
    {
      "cell_type": "code",
      "source": [
        "#길이\n",
        "print(len(assists_list))\n",
        "print(len(kills_list))\n",
        "print(len(deaths_list))\n",
        "print(len(champExp_list))\n",
        "print(len(champName_list))\n",
        "print(len(indiPos_list))\n",
        "print(len(teamPos_list))\n",
        "print(len(lane_list))\n",
        "print(len(role_list))\n",
        "print(len(gold_list))\n",
        "print(len(tDDealt_list))\n",
        "print(len(tDDealtChamp_list))\n",
        "print(len(tDTaken_list))\n",
        "print(len(tMKilled_list))\n",
        "print(len(turKills_list))\n",
        "print(len(win_list))\n",
        "\n",
        "#내용\n",
        "print(assists_list)\n",
        "print(kills_list)\n",
        "print(deaths_list)\n",
        "print(champExp_list)\n",
        "print(champName_list)\n",
        "print(indiPos_list)\n",
        "print(teamPos_list)\n",
        "print(lane_list)\n",
        "print(role_list)\n",
        "print(gold_list)\n",
        "print(tDDealt_list)\n",
        "print(tDDealtChamp_list)\n",
        "print(tDTaken_list)\n",
        "print(tMKilled_list)\n",
        "print(turKills_list)\n",
        "print(win_list)"
      ],
      "metadata": {
        "id": "q2fVzQRHrqeB"
      },
      "execution_count": null,
      "outputs": []
    },
    {
      "cell_type": "code",
      "source": [
        "matchdata_4 = pd.DataFrame()\n",
        "matchdata_4['assists'] = assists_list\n",
        "matchdata_4['kills'] = kills_list\n",
        "matchdata_4['deaths'] = deaths_list\n",
        "matchdata_4['champExp'] = champExp_list #champ_experience_list\n",
        "matchdata_4['champName'] = champName_list #champion_name_list\n",
        "matchdata_4['indiPos'] = indiPos_list #individual_position_list\n",
        "matchdata_4['lane'] = lane_list\n",
        "matchdata_4['role'] = role_list \n",
        "matchdata_4['gold'] = gold_list    #gold_earned_list\n",
        "matchdata_4['teamPos'] = teamPos_list \n",
        "matchdata_4['tDDealt'] = tDDealt_list  #total_damage_dealt_list\n",
        "matchdata_4['tDDealtChamp'] = tDDealtChamp_list #total_damage_dealt_to_champions_list\n",
        "matchdata_4['tDTaken'] = tDTaken_list  #total_damage_taken_list\n",
        "matchdata_4['tMKilled'] = tMKilled_list   #total_minions_killed_list\n",
        "matchdata_4['turKills'] = turKills_list   #turret_kills_list\n",
        "matchdata_4['win'] = win_list \n",
        "\n",
        "print(matchdata_4.info())\n",
        "\n",
        "print(matchdata_4.head(20))\n"
      ],
      "metadata": {
        "id": "b3vZevODrs4N"
      },
      "execution_count": null,
      "outputs": []
    },
    {
      "cell_type": "code",
      "source": [
        "matchdata_4.to_csv('matchdata_4(0326).csv', header=True, index=False)"
      ],
      "metadata": {
        "id": "0aOpQjYpr3jb"
      },
      "execution_count": 16,
      "outputs": []
    },
    {
      "cell_type": "markdown",
      "source": [
        "### **MATCH 5**"
      ],
      "metadata": {
        "id": "_MdQqSUetduL"
      }
    },
    {
      "cell_type": "code",
      "source": [
        "region = 'asia'\n",
        "# Empty lists to store the collected data\n",
        "# game_mode_list = [] 얘넨 나중에\n",
        "# game_type_list = []\n",
        "\n",
        "assists_list = []\n",
        "kills_list = []\n",
        "deaths_list = []\n",
        "champExp_list = [] #champ_experience_list\n",
        "champName_list = [] #champion_name_list\n",
        "indiPos_list = [] #individual_position_list\n",
        "lane_list = []\n",
        "role_list = []\n",
        "gold_list = []   #gold_earned_list\n",
        "teamPos_list = []\n",
        "tDDealt_list = []  #total_damage_dealt_list\n",
        "tDDealtChamp_list = [] #total_damage_dealt_to_champions_list\n",
        "tDTaken_list = []  #total_damage_taken_list\n",
        "tMKilled_list = []  #total_minions_killed_list\n",
        "turKills_list = []  #turret_kills_list\n",
        "win_list = []\n",
        "\n",
        "\n",
        "for i in range(0,2000): \n",
        "    pair = match_id_df_5.iloc[i,:].to_list()#='='='='='='='='='='='='='='='==='=='='='='\n",
        "    puuid = pair[0]\n",
        "    match_id = pair[1]\n",
        "    url = f'https://asia.api.riotgames.com/lol/match/v5/matches/{match_id}?api_key={api_key}'\n",
        "\n",
        "    # Make the Riot API call\n",
        "    response = requests.get(url)\n",
        "    response_json = response.json()\n",
        "\n",
        "    \n",
        "    kills = None \n",
        "    assists = None  # set a default value\n",
        "    deaths = None \n",
        "    champExp = None \n",
        "    champName = None \n",
        "    indiPos = None \n",
        "    teamPos = None \n",
        "    lane = None \n",
        "    role = None \n",
        "    gold = None \n",
        "    tDDealt = None \n",
        "    tDDealtChamp = None \n",
        "    tDTaken = None \n",
        "    tMKilled = None\n",
        "    turKills = None\n",
        "    win = None\n",
        "    for participant in response_json['info']['participants']:\n",
        "      if participant['puuid'] == puuid and participant['teamPosition'] == 'MIDDLE': #게임에 참여한 참가자들 중 위에서 우리가 구한 puuid와 puuid 가 일치하고 individualPosition이 MIDDLE인 participants에 대해서만 정보 추출 \n",
        "        kills = participant['kills']\n",
        "        assists = participant['assists']\n",
        "        deaths = participant[\"deaths\"]\n",
        "        champExp = participant[\"champExperience\"]\n",
        "        champName = participant[\"championName\"]\n",
        "        indiPos = participant[\"individualPosition\"]\n",
        "        teamPos = participant[\"teamPosition\"]\n",
        "        lane = participant[\"lane\"]\n",
        "        role = participant[\"role\"]\n",
        "        gold = participant[\"goldEarned\"]\n",
        "        tDDealt = participant[\"totalDamageDealt\"]\n",
        "        tDDealtChamp = participant[\"totalDamageDealtToChampions\"]\n",
        "        tDTaken = participant[\"totalDamageTaken\"]\n",
        "        tMKilled = participant[\"totalMinionsKilled\"]\n",
        "        turKills = participant[\"turretKills\"]\n",
        "        win = participant[\"win\"]\n",
        "        break\n",
        "    assists_list.append(assists)  # append assists only if it was set to a non-default value : 근데 이렇게 하면 결측치는 그냥 삭제되어버림. 고쳐야 할듯?\n",
        "    kills_list.append(kills)\n",
        "    deaths_list.append(deaths)\n",
        "    champExp_list.append(champExp)\n",
        "    champName_list.append(champName)\n",
        "    indiPos_list.append(indiPos)\n",
        "    teamPos_list.append(teamPos)\n",
        "    lane_list.append(lane)\n",
        "    role_list.append(role)\n",
        "    gold_list.append(gold)\n",
        "    tDDealt_list.append(tDDealt)\n",
        "    tDDealtChamp_list.append(tDDealtChamp)\n",
        "    tDTaken_list.append(tDTaken)\n",
        "    tMKilled_list.append(tMKilled)\n",
        "    turKills_list.append(turKills)\n",
        "    win_list.append(win)\n",
        "\n",
        "    time.sleep(1)\n"
      ],
      "metadata": {
        "id": "gH0Zz4fkti32"
      },
      "execution_count": 28,
      "outputs": []
    },
    {
      "cell_type": "code",
      "source": [
        "#길이\n",
        "print(len(assists_list))\n",
        "print(len(kills_list))\n",
        "print(len(deaths_list))\n",
        "print(len(champExp_list))\n",
        "print(len(champName_list))\n",
        "print(len(indiPos_list))\n",
        "print(len(teamPos_list))\n",
        "print(len(lane_list))\n",
        "print(len(role_list))\n",
        "print(len(gold_list))\n",
        "print(len(tDDealt_list))\n",
        "print(len(tDDealtChamp_list))\n",
        "print(len(tDTaken_list))\n",
        "print(len(tMKilled_list))\n",
        "print(len(turKills_list))\n",
        "print(len(win_list))\n",
        "\n",
        "#내용\n",
        "print(assists_list)\n",
        "print(kills_list)\n",
        "print(deaths_list)\n",
        "print(champExp_list)\n",
        "print(champName_list)\n",
        "print(indiPos_list)\n",
        "print(teamPos_list)\n",
        "print(lane_list)\n",
        "print(role_list)\n",
        "print(gold_list)\n",
        "print(tDDealt_list)\n",
        "print(tDDealtChamp_list)\n",
        "print(tDTaken_list)\n",
        "print(tMKilled_list)\n",
        "print(turKills_list)\n",
        "print(win_list)"
      ],
      "metadata": {
        "id": "nDl-iVVitk9E"
      },
      "execution_count": null,
      "outputs": []
    },
    {
      "cell_type": "code",
      "source": [
        "matchdata_5 = pd.DataFrame()\n",
        "matchdata_5['assists'] = assists_list\n",
        "matchdata_5['kills'] = kills_list\n",
        "matchdata_5['deaths'] = deaths_list\n",
        "matchdata_5['champExp'] = champExp_list #champ_experience_list\n",
        "matchdata_5['champName'] = champName_list #champion_name_list\n",
        "matchdata_5['indiPos'] = indiPos_list #individual_position_list\n",
        "matchdata_5['lane'] = lane_list\n",
        "matchdata_5['role'] = role_list \n",
        "matchdata_5['gold'] = gold_list    #gold_earned_list\n",
        "matchdata_5['teamPos'] = teamPos_list \n",
        "matchdata_5['tDDealt'] = tDDealt_list  #total_damage_dealt_list\n",
        "matchdata_5['tDDealtChamp'] = tDDealtChamp_list #total_damage_dealt_to_champions_list\n",
        "matchdata_5['tDTaken'] = tDTaken_list  #total_damage_taken_list\n",
        "matchdata_5['tMKilled'] = tMKilled_list   #total_minions_killed_list\n",
        "matchdata_5['turKills'] = turKills_list   #turret_kills_list\n",
        "matchdata_5['win'] = win_list \n",
        "\n",
        "print(matchdata_5.info())\n",
        "\n",
        "print(matchdata_5.head(20))"
      ],
      "metadata": {
        "id": "5voJiCKBtnZI"
      },
      "execution_count": null,
      "outputs": []
    },
    {
      "cell_type": "code",
      "source": [
        "matchdata_5.to_csv('matchdata_5(0326).csv', header=True, index=False)"
      ],
      "metadata": {
        "id": "syRerVdStpQb"
      },
      "execution_count": 33,
      "outputs": []
    },
    {
      "cell_type": "markdown",
      "source": [
        "### **MATCH 6**"
      ],
      "metadata": {
        "id": "47eoIA1juhYl"
      }
    },
    {
      "cell_type": "code",
      "source": [
        "region = 'asia'\n",
        "# Empty lists to store the collected data\n",
        "# game_mode_list = [] 얘넨 나중에\n",
        "# game_type_list = []\n",
        "\n",
        "assists_list = []\n",
        "kills_list = []\n",
        "deaths_list = []\n",
        "champExp_list = [] #champ_experience_list\n",
        "champName_list = [] #champion_name_list\n",
        "indiPos_list = [] #individual_position_list\n",
        "lane_list = []\n",
        "role_list = []\n",
        "gold_list = []   #gold_earned_list\n",
        "teamPos_list = []\n",
        "tDDealt_list = []  #total_damage_dealt_list\n",
        "tDDealtChamp_list = [] #total_damage_dealt_to_champions_list\n",
        "tDTaken_list = []  #total_damage_taken_list\n",
        "tMKilled_list = []  #total_minions_killed_list\n",
        "turKills_list = []  #turret_kills_list\n",
        "win_list = []\n",
        "\n",
        "\n",
        "for i in range(0,2000): \n",
        "    pair = match_id_df_6.iloc[i,:].to_list()#='='='='='='='='='='='='='='='==='=='='='='\n",
        "    puuid = pair[0]\n",
        "    match_id = pair[1]\n",
        "    url = f'https://asia.api.riotgames.com/lol/match/v5/matches/{match_id}?api_key={api_key}'\n",
        "\n",
        "    # Make the Riot API call\n",
        "    response = requests.get(url)\n",
        "    response_json = response.json()\n",
        "\n",
        "    \n",
        "    kills = None \n",
        "    assists = None  # set a default value\n",
        "    deaths = None \n",
        "    champExp = None \n",
        "    champName = None \n",
        "    indiPos = None \n",
        "    teamPos = None \n",
        "    lane = None \n",
        "    role = None \n",
        "    gold = None \n",
        "    tDDealt = None \n",
        "    tDDealtChamp = None \n",
        "    tDTaken = None \n",
        "    tMKilled = None\n",
        "    turKills = None\n",
        "    win = None\n",
        "    for participant in response_json['info']['participants']:\n",
        "      if participant['puuid'] == puuid and participant['teamPosition'] == 'MIDDLE': #게임에 참여한 참가자들 중 위에서 우리가 구한 puuid와 puuid 가 일치하고 individualPosition이 MIDDLE인 participants에 대해서만 정보 추출 \n",
        "        kills = participant['kills']\n",
        "        assists = participant['assists']\n",
        "        deaths = participant[\"deaths\"]\n",
        "        champExp = participant[\"champExperience\"]\n",
        "        champName = participant[\"championName\"]\n",
        "        indiPos = participant[\"individualPosition\"]\n",
        "        teamPos = participant[\"teamPosition\"]\n",
        "        lane = participant[\"lane\"]\n",
        "        role = participant[\"role\"]\n",
        "        gold = participant[\"goldEarned\"]\n",
        "        tDDealt = participant[\"totalDamageDealt\"]\n",
        "        tDDealtChamp = participant[\"totalDamageDealtToChampions\"]\n",
        "        tDTaken = participant[\"totalDamageTaken\"]\n",
        "        tMKilled = participant[\"totalMinionsKilled\"]\n",
        "        turKills = participant[\"turretKills\"]\n",
        "        win = participant[\"win\"]\n",
        "        break\n",
        "    assists_list.append(assists)  # append assists only if it was set to a non-default value : 근데 이렇게 하면 결측치는 그냥 삭제되어버림. 고쳐야 할듯?\n",
        "    kills_list.append(kills)\n",
        "    deaths_list.append(deaths)\n",
        "    champExp_list.append(champExp)\n",
        "    champName_list.append(champName)\n",
        "    indiPos_list.append(indiPos)\n",
        "    teamPos_list.append(teamPos)\n",
        "    lane_list.append(lane)\n",
        "    role_list.append(role)\n",
        "    gold_list.append(gold)\n",
        "    tDDealt_list.append(tDDealt)\n",
        "    tDDealtChamp_list.append(tDDealtChamp)\n",
        "    tDTaken_list.append(tDTaken)\n",
        "    tMKilled_list.append(tMKilled)\n",
        "    turKills_list.append(turKills)\n",
        "    win_list.append(win)\n",
        "\n",
        "    time.sleep(1)\n"
      ],
      "metadata": {
        "id": "W-baQc1MW0R7"
      },
      "execution_count": 47,
      "outputs": []
    },
    {
      "cell_type": "code",
      "source": [
        "#길이\n",
        "print(len(assists_list))\n",
        "print(len(kills_list))\n",
        "print(len(deaths_list))\n",
        "print(len(champExp_list))\n",
        "print(len(champName_list))\n",
        "print(len(indiPos_list))\n",
        "print(len(teamPos_list))\n",
        "print(len(lane_list))\n",
        "print(len(role_list))\n",
        "print(len(gold_list))\n",
        "print(len(tDDealt_list))\n",
        "print(len(tDDealtChamp_list))\n",
        "print(len(tDTaken_list))\n",
        "print(len(tMKilled_list))\n",
        "print(len(turKills_list))\n",
        "print(len(win_list))\n",
        "\n",
        "#내용\n",
        "print(assists_list)\n",
        "print(kills_list)\n",
        "print(deaths_list)\n",
        "print(champExp_list)\n",
        "print(champName_list)\n",
        "print(indiPos_list)\n",
        "print(teamPos_list)\n",
        "print(lane_list)\n",
        "print(role_list)\n",
        "print(gold_list)\n",
        "print(tDDealt_list)\n",
        "print(tDDealtChamp_list)\n",
        "print(tDTaken_list)\n",
        "print(tMKilled_list)\n",
        "print(turKills_list)\n",
        "print(win_list)"
      ],
      "metadata": {
        "id": "oaOArCG2unO1"
      },
      "execution_count": null,
      "outputs": []
    },
    {
      "cell_type": "code",
      "source": [
        "matchdata_6 = pd.DataFrame()\n",
        "matchdata_6['assists'] = assists_list\n",
        "matchdata_6['kills'] = kills_list\n",
        "matchdata_6['deaths'] = deaths_list\n",
        "matchdata_6['champExp'] = champExp_list #champ_experience_list\n",
        "matchdata_6['champName'] = champName_list #champion_name_list\n",
        "matchdata_6['indiPos'] = indiPos_list #individual_position_list\n",
        "matchdata_6['lane'] = lane_list\n",
        "matchdata_6['role'] = role_list \n",
        "matchdata_6['gold'] = gold_list    #gold_earned_list\n",
        "matchdata_6['teamPos'] = teamPos_list \n",
        "matchdata_6['tDDealt'] = tDDealt_list  #total_damage_dealt_list\n",
        "matchdata_6['tDDealtChamp'] = tDDealtChamp_list #total_damage_dealt_to_champions_list\n",
        "matchdata_6['tDTaken'] = tDTaken_list  #total_damage_taken_list\n",
        "matchdata_6['tMKilled'] = tMKilled_list   #total_minions_killed_list\n",
        "matchdata_6['turKills'] = turKills_list   #turret_kills_list\n",
        "matchdata_6['win'] = win_list \n",
        "\n",
        "print(matchdata_6.info())\n",
        "print(matchdata_6.head(20))"
      ],
      "metadata": {
        "id": "33nVJjslupVe"
      },
      "execution_count": null,
      "outputs": []
    },
    {
      "cell_type": "code",
      "source": [
        "matchdata_6.to_csv('matchdata_6(0326).csv', header=True, index=False)"
      ],
      "metadata": {
        "id": "WVZqsBcGwrtK"
      },
      "execution_count": 50,
      "outputs": []
    },
    {
      "cell_type": "markdown",
      "source": [
        "### **MATCH 7**"
      ],
      "metadata": {
        "id": "TEKXUyRDwvhG"
      }
    },
    {
      "cell_type": "code",
      "source": [
        "region = 'asia'\n",
        "# Empty lists to store the collected data\n",
        "# game_mode_list = [] 얘넨 나중에\n",
        "# game_type_list = []\n",
        "\n",
        "assists_list = []\n",
        "kills_list = []\n",
        "deaths_list = []\n",
        "champExp_list = [] #champ_experience_list\n",
        "champName_list = [] #champion_name_list\n",
        "indiPos_list = [] #individual_position_list\n",
        "lane_list = []\n",
        "role_list = []\n",
        "gold_list = []   #gold_earned_list\n",
        "teamPos_list = []\n",
        "tDDealt_list = []  #total_damage_dealt_list\n",
        "tDDealtChamp_list = [] #total_damage_dealt_to_champions_list\n",
        "tDTaken_list = []  #total_damage_taken_list\n",
        "tMKilled_list = []  #total_minions_killed_list\n",
        "turKills_list = []  #turret_kills_list\n",
        "win_list = []\n",
        "\n",
        "\n",
        "for i in range(0,2000): #########길이 수정 요망########\n",
        "    pair = match_id_df_7.iloc[i,:].to_list() #='='='='='='='='='='='='='='='==='=='='='='\n",
        "    puuid = pair[0]\n",
        "    match_id = pair[1]\n",
        "    url = f'https://asia.api.riotgames.com/lol/match/v5/matches/{match_id}?api_key={api_key}'\n",
        "\n",
        "    # Make the Riot API call\n",
        "    response = requests.get(url)\n",
        "    response_json = response.json()\n",
        "\n",
        "    \n",
        "    kills = None \n",
        "    assists = None  # set a default value\n",
        "    deaths = None \n",
        "    champExp = None \n",
        "    champName = None \n",
        "    indiPos = None \n",
        "    teamPos = None \n",
        "    lane = None \n",
        "    role = None \n",
        "    gold = None \n",
        "    tDDealt = None \n",
        "    tDDealtChamp = None \n",
        "    tDTaken = None \n",
        "    tMKilled = None\n",
        "    turKills = None\n",
        "    win = None\n",
        "    for participant in response_json['info']['participants']:\n",
        "      if participant['puuid'] == puuid and participant['teamPosition'] == 'MIDDLE': #게임에 참여한 참가자들 중 위에서 우리가 구한 puuid와 puuid 가 일치하고 individualPosition이 MIDDLE인 participants에 대해서만 정보 추출 \n",
        "        kills = participant['kills']\n",
        "        assists = participant['assists']\n",
        "        deaths = participant[\"deaths\"]\n",
        "        champExp = participant[\"champExperience\"]\n",
        "        champName = participant[\"championName\"]\n",
        "        indiPos = participant[\"individualPosition\"]\n",
        "        teamPos = participant[\"teamPosition\"]\n",
        "        lane = participant[\"lane\"]\n",
        "        role = participant[\"role\"]\n",
        "        gold = participant[\"goldEarned\"]\n",
        "        tDDealt = participant[\"totalDamageDealt\"]\n",
        "        tDDealtChamp = participant[\"totalDamageDealtToChampions\"]\n",
        "        tDTaken = participant[\"totalDamageTaken\"]\n",
        "        tMKilled = participant[\"totalMinionsKilled\"]\n",
        "        turKills = participant[\"turretKills\"]\n",
        "        win = participant[\"win\"]\n",
        "        break\n",
        "    assists_list.append(assists)  # append assists only if it was set to a non-default value : 근데 이렇게 하면 결측치는 그냥 삭제되어버림. 고쳐야 할듯?\n",
        "    kills_list.append(kills)\n",
        "    deaths_list.append(deaths)\n",
        "    champExp_list.append(champExp)\n",
        "    champName_list.append(champName)\n",
        "    indiPos_list.append(indiPos)\n",
        "    teamPos_list.append(teamPos)\n",
        "    lane_list.append(lane)\n",
        "    role_list.append(role)\n",
        "    gold_list.append(gold)\n",
        "    tDDealt_list.append(tDDealt)\n",
        "    tDDealtChamp_list.append(tDDealtChamp)\n",
        "    tDTaken_list.append(tDTaken)\n",
        "    tMKilled_list.append(tMKilled)\n",
        "    turKills_list.append(turKills)\n",
        "    win_list.append(win)\n",
        "\n",
        "    time.sleep(1)"
      ],
      "metadata": {
        "id": "ItvhDVnfw7_O"
      },
      "execution_count": 5,
      "outputs": []
    },
    {
      "cell_type": "code",
      "source": [
        "#길이\n",
        "print(len(assists_list))\n",
        "print(len(kills_list))\n",
        "print(len(deaths_list))\n",
        "print(len(champExp_list))\n",
        "print(len(champName_list))\n",
        "print(len(indiPos_list))\n",
        "print(len(teamPos_list))\n",
        "print(len(lane_list))\n",
        "print(len(role_list))\n",
        "print(len(gold_list))\n",
        "print(len(tDDealt_list))\n",
        "print(len(tDDealtChamp_list))\n",
        "print(len(tDTaken_list))\n",
        "print(len(tMKilled_list))\n",
        "print(len(turKills_list))\n",
        "print(len(win_list))\n",
        "\n",
        "#내용\n",
        "print(assists_list)\n",
        "print(kills_list)\n",
        "print(deaths_list)\n",
        "print(champExp_list)\n",
        "print(champName_list)\n",
        "print(indiPos_list)\n",
        "print(teamPos_list)\n",
        "print(lane_list)\n",
        "print(role_list)\n",
        "print(gold_list)\n",
        "print(tDDealt_list)\n",
        "print(tDDealtChamp_list)\n",
        "print(tDTaken_list)\n",
        "print(tMKilled_list)\n",
        "print(turKills_list)\n",
        "print(win_list)"
      ],
      "metadata": {
        "id": "rlxhZbK1w-QA"
      },
      "execution_count": null,
      "outputs": []
    },
    {
      "cell_type": "code",
      "source": [
        "matchdata_7 = pd.DataFrame()\n",
        "matchdata_7['assists'] = assists_list\n",
        "matchdata_7['kills'] = kills_list\n",
        "matchdata_7['deaths'] = deaths_list\n",
        "matchdata_7['champExp'] = champExp_list #champ_experience_list\n",
        "matchdata_7['champName'] = champName_list #champion_name_list\n",
        "matchdata_7['indiPos'] = indiPos_list #individual_position_list\n",
        "matchdata_7['lane'] = lane_list\n",
        "matchdata_7['role'] = role_list \n",
        "matchdata_7['gold'] = gold_list    #gold_earned_list\n",
        "matchdata_7['teamPos'] = teamPos_list \n",
        "matchdata_7['tDDealt'] = tDDealt_list  #total_damage_dealt_list\n",
        "matchdata_7['tDDealtChamp'] = tDDealtChamp_list #total_damage_dealt_to_champions_list\n",
        "matchdata_7['tDTaken'] = tDTaken_list  #total_damage_taken_list\n",
        "matchdata_7['tMKilled'] = tMKilled_list   #total_minions_killed_list\n",
        "matchdata_7['turKills'] = turKills_list   #turret_kills_list\n",
        "matchdata_7['win'] = win_list \n",
        "\n",
        "print(matchdata_7.info())\n",
        "print(matchdata_7.head(20))"
      ],
      "metadata": {
        "id": "GdMIBfdjxAVd"
      },
      "execution_count": null,
      "outputs": []
    },
    {
      "cell_type": "code",
      "source": [
        "matchdata_7.to_csv('matchdata_7(0326).csv', header=True, index=False)"
      ],
      "metadata": {
        "id": "MOVyzhDfxMue"
      },
      "execution_count": 8,
      "outputs": []
    },
    {
      "cell_type": "markdown",
      "source": [],
      "metadata": {
        "id": "n6X9s4F6xR0j"
      }
    },
    {
      "cell_type": "markdown",
      "source": [
        "### **MATCH 8**"
      ],
      "metadata": {
        "id": "RM46hSWtxTpl"
      }
    },
    {
      "cell_type": "code",
      "source": [
        "region = 'asia'\n",
        "# Empty lists to store the collected data\n",
        "# game_mode_list = [] 얘넨 나중에\n",
        "# game_type_list = []\n",
        "\n",
        "assists_list = []\n",
        "kills_list = []\n",
        "deaths_list = []\n",
        "champExp_list = [] #champ_experience_list\n",
        "champName_list = [] #champion_name_list\n",
        "indiPos_list = [] #individual_position_list\n",
        "lane_list = []\n",
        "role_list = []\n",
        "gold_list = []   #gold_earned_list\n",
        "teamPos_list = []\n",
        "tDDealt_list = []  #total_damage_dealt_list\n",
        "tDDealtChamp_list = [] #total_damage_dealt_to_champions_list\n",
        "tDTaken_list = []  #total_damage_taken_list\n",
        "tMKilled_list = []  #total_minions_killed_list\n",
        "turKills_list = []  #turret_kills_list\n",
        "win_list = []\n",
        "\n",
        "\n",
        "for i in range(0,2000): #########길이 수정 요망########\n",
        "    pair = match_id_df_8.iloc[i,:].to_list() #='='='='='='='='='='='='='='='==='=='='='='\n",
        "    puuid = pair[0]\n",
        "    match_id = pair[1]\n",
        "    url = f'https://asia.api.riotgames.com/lol/match/v5/matches/{match_id}?api_key={api_key}'\n",
        "\n",
        "    # Make the Riot API call\n",
        "    response = requests.get(url)\n",
        "    response_json = response.json()\n",
        "\n",
        "    \n",
        "    kills = None \n",
        "    assists = None  # set a default value\n",
        "    deaths = None \n",
        "    champExp = None \n",
        "    champName = None \n",
        "    indiPos = None \n",
        "    teamPos = None \n",
        "    lane = None \n",
        "    role = None \n",
        "    gold = None \n",
        "    tDDealt = None \n",
        "    tDDealtChamp = None \n",
        "    tDTaken = None \n",
        "    tMKilled = None\n",
        "    turKills = None\n",
        "    win = None\n",
        "    for participant in response_json['info']['participants']:\n",
        "      if participant['puuid'] == puuid and participant['teamPosition'] == 'MIDDLE': #게임에 참여한 참가자들 중 위에서 우리가 구한 puuid와 puuid 가 일치하고 individualPosition이 MIDDLE인 participants에 대해서만 정보 추출 \n",
        "        kills = participant['kills']\n",
        "        assists = participant['assists']\n",
        "        deaths = participant[\"deaths\"]\n",
        "        champExp = participant[\"champExperience\"]\n",
        "        champName = participant[\"championName\"]\n",
        "        indiPos = participant[\"individualPosition\"]\n",
        "        teamPos = participant[\"teamPosition\"]\n",
        "        lane = participant[\"lane\"]\n",
        "        role = participant[\"role\"]\n",
        "        gold = participant[\"goldEarned\"]\n",
        "        tDDealt = participant[\"totalDamageDealt\"]\n",
        "        tDDealtChamp = participant[\"totalDamageDealtToChampions\"]\n",
        "        tDTaken = participant[\"totalDamageTaken\"]\n",
        "        tMKilled = participant[\"totalMinionsKilled\"]\n",
        "        turKills = participant[\"turretKills\"]\n",
        "        win = participant[\"win\"]\n",
        "        break\n",
        "    assists_list.append(assists)  # append assists only if it was set to a non-default value : 근데 이렇게 하면 결측치는 그냥 삭제되어버림. 고쳐야 할듯?\n",
        "    kills_list.append(kills)\n",
        "    deaths_list.append(deaths)\n",
        "    champExp_list.append(champExp)\n",
        "    champName_list.append(champName)\n",
        "    indiPos_list.append(indiPos)\n",
        "    teamPos_list.append(teamPos)\n",
        "    lane_list.append(lane)\n",
        "    role_list.append(role)\n",
        "    gold_list.append(gold)\n",
        "    tDDealt_list.append(tDDealt)\n",
        "    tDDealtChamp_list.append(tDDealtChamp)\n",
        "    tDTaken_list.append(tDTaken)\n",
        "    tMKilled_list.append(tMKilled)\n",
        "    turKills_list.append(turKills)\n",
        "    win_list.append(win)\n",
        "\n",
        "    time.sleep(1)"
      ],
      "metadata": {
        "id": "_DV_s4gWxZ-D"
      },
      "execution_count": 6,
      "outputs": []
    },
    {
      "cell_type": "code",
      "source": [
        "#길이\n",
        "print(len(assists_list))\n",
        "print(len(kills_list))\n",
        "print(len(deaths_list))\n",
        "print(len(champExp_list))\n",
        "print(len(champName_list))\n",
        "print(len(indiPos_list))\n",
        "print(len(teamPos_list))\n",
        "print(len(lane_list))\n",
        "print(len(role_list))\n",
        "print(len(gold_list))\n",
        "print(len(tDDealt_list))\n",
        "print(len(tDDealtChamp_list))\n",
        "print(len(tDTaken_list))\n",
        "print(len(tMKilled_list))\n",
        "print(len(turKills_list))\n",
        "print(len(win_list))\n",
        "\n",
        "#내용\n",
        "print(assists_list)\n",
        "print(kills_list)\n",
        "print(deaths_list)\n",
        "print(champExp_list)\n",
        "print(champName_list)\n",
        "print(indiPos_list)\n",
        "print(teamPos_list)\n",
        "print(lane_list)\n",
        "print(role_list)\n",
        "print(gold_list)\n",
        "print(tDDealt_list)\n",
        "print(tDDealtChamp_list)\n",
        "print(tDTaken_list)\n",
        "print(tMKilled_list)\n",
        "print(turKills_list)\n",
        "print(win_list)"
      ],
      "metadata": {
        "id": "dIi0BNuRxfDD"
      },
      "execution_count": null,
      "outputs": []
    },
    {
      "cell_type": "code",
      "source": [
        "matchdata_8= pd.DataFrame()\n",
        "matchdata_8['assists'] = assists_list\n",
        "matchdata_8['kills'] = kills_list\n",
        "matchdata_8['deaths'] = deaths_list\n",
        "matchdata_8['champExp'] = champExp_list #champ_experience_list\n",
        "matchdata_8['champName'] = champName_list #champion_name_list\n",
        "matchdata_8['indiPos'] = indiPos_list #individual_position_list\n",
        "matchdata_8['lane'] = lane_list\n",
        "matchdata_8['role'] = role_list \n",
        "matchdata_8['gold'] = gold_list    #gold_earned_list\n",
        "matchdata_8['teamPos'] = teamPos_list \n",
        "matchdata_8['tDDealt'] = tDDealt_list  #total_damage_dealt_list\n",
        "matchdata_8['tDDealtChamp'] = tDDealtChamp_list #total_damage_dealt_to_champions_list\n",
        "matchdata_8['tDTaken'] = tDTaken_list  #total_damage_taken_list\n",
        "matchdata_8['tMKilled'] = tMKilled_list   #total_minions_killed_list\n",
        "matchdata_8['turKills'] = turKills_list   #turret_kills_list\n",
        "matchdata_8['win'] = win_list \n",
        "\n",
        "print(matchdata_8.info())\n",
        "print(matchdata_8.head(20))"
      ],
      "metadata": {
        "id": "O58kWgYzxu5F"
      },
      "execution_count": null,
      "outputs": []
    },
    {
      "cell_type": "code",
      "source": [
        "matchdata_8.to_csv('matchdata_8(0326).csv', header=True, index=False)"
      ],
      "metadata": {
        "id": "4ZEw2SKRxvY7"
      },
      "execution_count": 10,
      "outputs": []
    },
    {
      "cell_type": "markdown",
      "source": [
        "### **MATCH 9**"
      ],
      "metadata": {
        "id": "NnvpxCGfyV6u"
      }
    },
    {
      "cell_type": "code",
      "source": [
        "region = 'asia'\n",
        "# Empty lists to store the collected data\n",
        "# game_mode_list = [] 얘넨 나중에\n",
        "# game_type_list = []\n",
        "\n",
        "assists_list = []\n",
        "kills_list = []\n",
        "deaths_list = []\n",
        "champExp_list = [] #champ_experience_list\n",
        "champName_list = [] #champion_name_list\n",
        "indiPos_list = [] #individual_position_list\n",
        "lane_list = []\n",
        "role_list = []\n",
        "gold_list = []   #gold_earned_list\n",
        "teamPos_list = []\n",
        "tDDealt_list = []  #total_damage_dealt_list\n",
        "tDDealtChamp_list = [] #total_damage_dealt_to_champions_list\n",
        "tDTaken_list = []  #total_damage_taken_list\n",
        "tMKilled_list = []  #total_minions_killed_list\n",
        "turKills_list = []  #turret_kills_list\n",
        "win_list = []\n",
        "\n",
        "\n",
        "for i in range(0,2000): #########길이 수정 요망########\n",
        "    pair = match_id_df_9.iloc[i,:].to_list() #='='='='='='='='='='='='='='='==='=='='='='\n",
        "    puuid = pair[0]\n",
        "    match_id = pair[1]\n",
        "    url = f'https://asia.api.riotgames.com/lol/match/v5/matches/{match_id}?api_key={api_key}'\n",
        "\n",
        "    # Make the Riot API call\n",
        "    response = requests.get(url)\n",
        "    response_json = response.json()\n",
        "\n",
        "    \n",
        "    kills = None \n",
        "    assists = None  # set a default value\n",
        "    deaths = None \n",
        "    champExp = None \n",
        "    champName = None \n",
        "    indiPos = None \n",
        "    teamPos = None \n",
        "    lane = None \n",
        "    role = None \n",
        "    gold = None \n",
        "    tDDealt = None \n",
        "    tDDealtChamp = None \n",
        "    tDTaken = None \n",
        "    tMKilled = None\n",
        "    turKills = None\n",
        "    win = None\n",
        "    for participant in response_json['info']['participants']:\n",
        "      if participant['puuid'] == puuid and participant['teamPosition'] == 'MIDDLE': #게임에 참여한 참가자들 중 위에서 우리가 구한 puuid와 puuid 가 일치하고 individualPosition이 MIDDLE인 participants에 대해서만 정보 추출 \n",
        "        kills = participant['kills']\n",
        "        assists = participant['assists']\n",
        "        deaths = participant[\"deaths\"]\n",
        "        champExp = participant[\"champExperience\"]\n",
        "        champName = participant[\"championName\"]\n",
        "        indiPos = participant[\"individualPosition\"]\n",
        "        teamPos = participant[\"teamPosition\"]\n",
        "        lane = participant[\"lane\"]\n",
        "        role = participant[\"role\"]\n",
        "        gold = participant[\"goldEarned\"]\n",
        "        tDDealt = participant[\"totalDamageDealt\"]\n",
        "        tDDealtChamp = participant[\"totalDamageDealtToChampions\"]\n",
        "        tDTaken = participant[\"totalDamageTaken\"]\n",
        "        tMKilled = participant[\"totalMinionsKilled\"]\n",
        "        turKills = participant[\"turretKills\"]\n",
        "        win = participant[\"win\"]\n",
        "        break\n",
        "    assists_list.append(assists)  # append assists only if it was set to a non-default value : 근데 이렇게 하면 결측치는 그냥 삭제되어버림. 고쳐야 할듯?\n",
        "    kills_list.append(kills)\n",
        "    deaths_list.append(deaths)\n",
        "    champExp_list.append(champExp)\n",
        "    champName_list.append(champName)\n",
        "    indiPos_list.append(indiPos)\n",
        "    teamPos_list.append(teamPos)\n",
        "    lane_list.append(lane)\n",
        "    role_list.append(role)\n",
        "    gold_list.append(gold)\n",
        "    tDDealt_list.append(tDDealt)\n",
        "    tDDealtChamp_list.append(tDDealtChamp)\n",
        "    tDTaken_list.append(tDTaken)\n",
        "    tMKilled_list.append(tMKilled)\n",
        "    turKills_list.append(turKills)\n",
        "    win_list.append(win)\n",
        "\n",
        "    time.sleep(1)"
      ],
      "metadata": {
        "id": "6xPZg3w6ybqz"
      },
      "execution_count": 5,
      "outputs": []
    },
    {
      "cell_type": "code",
      "source": [
        "\n",
        "#길이\n",
        "print(len(assists_list))\n",
        "print(len(kills_list))\n",
        "print(len(deaths_list))\n",
        "print(len(champExp_list))\n",
        "print(len(champName_list))\n",
        "print(len(indiPos_list))\n",
        "print(len(teamPos_list))\n",
        "print(len(lane_list))\n",
        "print(len(role_list))\n",
        "print(len(gold_list))\n",
        "print(len(tDDealt_list))\n",
        "print(len(tDDealtChamp_list))\n",
        "print(len(tDTaken_list))\n",
        "print(len(tMKilled_list))\n",
        "print(len(turKills_list))\n",
        "print(len(win_list))\n",
        "\n",
        "#내용\n",
        "print(assists_list)\n",
        "print(kills_list)\n",
        "print(deaths_list)\n",
        "print(champExp_list)\n",
        "print(champName_list)\n",
        "print(indiPos_list)\n",
        "print(teamPos_list)\n",
        "print(lane_list)\n",
        "print(role_list)\n",
        "print(gold_list)\n",
        "print(tDDealt_list)\n",
        "print(tDDealtChamp_list)\n",
        "print(tDTaken_list)\n",
        "print(tMKilled_list)\n",
        "print(turKills_list)\n",
        "print(win_list)"
      ],
      "metadata": {
        "id": "OVJXOg_xyfBZ"
      },
      "execution_count": null,
      "outputs": []
    },
    {
      "cell_type": "code",
      "source": [
        "matchdata_9= pd.DataFrame()\n",
        "matchdata_9['assists'] = assists_list\n",
        "matchdata_9['kills'] = kills_list\n",
        "matchdata_9['deaths'] = deaths_list\n",
        "matchdata_9['champExp'] = champExp_list #champ_experience_list\n",
        "matchdata_9['champName'] = champName_list #champion_name_list\n",
        "matchdata_9['indiPos'] = indiPos_list #individual_position_list\n",
        "matchdata_9['lane'] = lane_list\n",
        "matchdata_9['role'] = role_list \n",
        "matchdata_9['gold'] = gold_list    #gold_earned_list\n",
        "matchdata_9['teamPos'] = teamPos_list \n",
        "matchdata_9['tDDealt'] = tDDealt_list  #total_damage_dealt_list\n",
        "matchdata_9['tDDealtChamp'] = tDDealtChamp_list #total_damage_dealt_to_champions_list\n",
        "matchdata_9['tDTaken'] = tDTaken_list  #total_damage_taken_list\n",
        "matchdata_9['tMKilled'] = tMKilled_list   #total_minions_killed_list\n",
        "matchdata_9['turKills'] = turKills_list   #turret_kills_list\n",
        "matchdata_9['win'] = win_list \n",
        "\n",
        "print(matchdata_9.info())\n",
        "print(matchdata_9.head(20))"
      ],
      "metadata": {
        "id": "e7ujPc3Rynny"
      },
      "execution_count": null,
      "outputs": []
    },
    {
      "cell_type": "code",
      "source": [
        "matchdata_9.to_csv('matchdata_9(0326).csv', header=True, index=False)"
      ],
      "metadata": {
        "id": "I6DtroQnypIg"
      },
      "execution_count": 9,
      "outputs": []
    },
    {
      "cell_type": "markdown",
      "source": [
        "### **MATCH 10**"
      ],
      "metadata": {
        "id": "8IeYM6XLyp4S"
      }
    },
    {
      "cell_type": "code",
      "source": [
        "region = 'asia'\n",
        "# Empty lists to store the collected data\n",
        "# game_mode_list = [] 얘넨 나중에\n",
        "# game_type_list = []\n",
        "\n",
        "assists_list = []\n",
        "kills_list = []\n",
        "deaths_list = []\n",
        "champExp_list = [] #champ_experience_list\n",
        "champName_list = [] #champion_name_list\n",
        "indiPos_list = [] #individual_position_list\n",
        "lane_list = []\n",
        "role_list = []\n",
        "gold_list = []   #gold_earned_list\n",
        "teamPos_list = []\n",
        "tDDealt_list = []  #total_damage_dealt_list\n",
        "tDDealtChamp_list = [] #total_damage_dealt_to_champions_list\n",
        "tDTaken_list = []  #total_damage_taken_list\n",
        "tMKilled_list = []  #total_minions_killed_list\n",
        "turKills_list = []  #turret_kills_list\n",
        "win_list = []\n",
        "\n",
        "\n",
        "for i in range(0,2000): #########길이 수정 요망########\n",
        "    pair = match_id_df_10.iloc[i,:].to_list() #='='='='='='='='='='='='='='='==='=='='='='\n",
        "    puuid = pair[0]\n",
        "    match_id = pair[1]\n",
        "    url = f'https://asia.api.riotgames.com/lol/match/v5/matches/{match_id}?api_key={api_key}'\n",
        "\n",
        "    # Make the Riot API call\n",
        "    response = requests.get(url)\n",
        "    response_json = response.json()\n",
        "\n",
        "    \n",
        "    kills = None \n",
        "    assists = None  # set a default value\n",
        "    deaths = None \n",
        "    champExp = None \n",
        "    champName = None \n",
        "    indiPos = None \n",
        "    teamPos = None \n",
        "    lane = None \n",
        "    role = None \n",
        "    gold = None \n",
        "    tDDealt = None \n",
        "    tDDealtChamp = None \n",
        "    tDTaken = None \n",
        "    tMKilled = None\n",
        "    turKills = None\n",
        "    win = None\n",
        "    for participant in response_json['info']['participants']:\n",
        "      if participant['puuid'] == puuid and participant['teamPosition'] == 'MIDDLE': #게임에 참여한 참가자들 중 위에서 우리가 구한 puuid와 puuid 가 일치하고 individualPosition이 MIDDLE인 participants에 대해서만 정보 추출 \n",
        "        kills = participant['kills']\n",
        "        assists = participant['assists']\n",
        "        deaths = participant[\"deaths\"]\n",
        "        champExp = participant[\"champExperience\"]\n",
        "        champName = participant[\"championName\"]\n",
        "        indiPos = participant[\"individualPosition\"]\n",
        "        teamPos = participant[\"teamPosition\"]\n",
        "        lane = participant[\"lane\"]\n",
        "        role = participant[\"role\"]\n",
        "        gold = participant[\"goldEarned\"]\n",
        "        tDDealt = participant[\"totalDamageDealt\"]\n",
        "        tDDealtChamp = participant[\"totalDamageDealtToChampions\"]\n",
        "        tDTaken = participant[\"totalDamageTaken\"]\n",
        "        tMKilled = participant[\"totalMinionsKilled\"]\n",
        "        turKills = participant[\"turretKills\"]\n",
        "        win = participant[\"win\"]\n",
        "        break\n",
        "    assists_list.append(assists)  # append assists only if it was set to a non-default value : 근데 이렇게 하면 결측치는 그냥 삭제되어버림. 고쳐야 할듯?\n",
        "    kills_list.append(kills)\n",
        "    deaths_list.append(deaths)\n",
        "    champExp_list.append(champExp)\n",
        "    champName_list.append(champName)\n",
        "    indiPos_list.append(indiPos)\n",
        "    teamPos_list.append(teamPos)\n",
        "    lane_list.append(lane)\n",
        "    role_list.append(role)\n",
        "    gold_list.append(gold)\n",
        "    tDDealt_list.append(tDDealt)\n",
        "    tDDealtChamp_list.append(tDDealtChamp)\n",
        "    tDTaken_list.append(tDTaken)\n",
        "    tMKilled_list.append(tMKilled)\n",
        "    turKills_list.append(turKills)\n",
        "    win_list.append(win)\n",
        "\n",
        "    time.sleep(1)"
      ],
      "metadata": {
        "id": "3QKR5wIVysWD"
      },
      "execution_count": 11,
      "outputs": []
    },
    {
      "cell_type": "code",
      "source": [
        "#길이\n",
        "print(len(assists_list))\n",
        "print(len(kills_list))\n",
        "print(len(deaths_list))\n",
        "print(len(champExp_list))\n",
        "print(len(champName_list))\n",
        "print(len(indiPos_list))\n",
        "print(len(teamPos_list))\n",
        "print(len(lane_list))\n",
        "print(len(role_list))\n",
        "print(len(gold_list))\n",
        "print(len(tDDealt_list))\n",
        "print(len(tDDealtChamp_list))\n",
        "print(len(tDTaken_list))\n",
        "print(len(tMKilled_list))\n",
        "print(len(turKills_list))\n",
        "print(len(win_list))\n",
        "\n",
        "#내용\n",
        "print(assists_list)\n",
        "print(kills_list)\n",
        "print(deaths_list)\n",
        "print(champExp_list)\n",
        "print(champName_list)\n",
        "print(indiPos_list)\n",
        "print(teamPos_list)\n",
        "print(lane_list)\n",
        "print(role_list)\n",
        "print(gold_list)\n",
        "print(tDDealt_list)\n",
        "print(tDDealtChamp_list)\n",
        "print(tDTaken_list)\n",
        "print(tMKilled_list)\n",
        "print(turKills_list)\n",
        "print(win_list)"
      ],
      "metadata": {
        "id": "zSoEalm0y0Xh"
      },
      "execution_count": null,
      "outputs": []
    },
    {
      "cell_type": "code",
      "source": [
        "matchdata_10= pd.DataFrame()\n",
        "matchdata_10['assists'] = assists_list\n",
        "matchdata_10['kills'] = kills_list\n",
        "matchdata_10['deaths'] = deaths_list\n",
        "matchdata_10['champExp'] = champExp_list #champ_experience_list\n",
        "matchdata_10['champName'] = champName_list #champion_name_list\n",
        "matchdata_10['indiPos'] = indiPos_list #individual_position_list\n",
        "matchdata_10['lane'] = lane_list\n",
        "matchdata_10['role'] = role_list \n",
        "matchdata_10['gold'] = gold_list    #gold_earned_list\n",
        "matchdata_10['teamPos'] = teamPos_list \n",
        "matchdata_10['tDDealt'] = tDDealt_list  #total_damage_dealt_list\n",
        "matchdata_10['tDDealtChamp'] = tDDealtChamp_list #total_damage_dealt_to_champions_list\n",
        "matchdata_10['tDTaken'] = tDTaken_list  #total_damage_taken_list\n",
        "matchdata_10['tMKilled'] = tMKilled_list   #total_minions_killed_list\n",
        "matchdata_10['turKills'] = turKills_list   #turret_kills_list\n",
        "matchdata_10['win'] = win_list \n",
        "\n",
        "print(matchdata_10.info())\n",
        "print(matchdata_10.head(20))"
      ],
      "metadata": {
        "id": "7lVasQOwy5If"
      },
      "execution_count": null,
      "outputs": []
    },
    {
      "cell_type": "code",
      "source": [
        "matchdata_10.to_csv('matchdata_10(0326).csv', header=True, index=False)"
      ],
      "metadata": {
        "id": "Axtj2VVxzCCY"
      },
      "execution_count": 15,
      "outputs": []
    },
    {
      "cell_type": "markdown",
      "source": [
        "# **Match DATA 하나의 데이터프레임으로 통합하기**"
      ],
      "metadata": {
        "id": "7LNTh4q-0CTL"
      }
    },
    {
      "cell_type": "code",
      "source": [
        "# 불러오기 \n",
        "import pandas as pd\n",
        "matchdata_1 = pd.read_csv('/content/drive/MyDrive/LOL_ANALYSIS_0323/matchdata_1(0326).csv')\n",
        "matchdata_2 = pd.read_csv('/content/drive/MyDrive/LOL_ANALYSIS_0323/matchdata_2(0326).csv')\n",
        "matchdata_3 = pd.read_csv('/content/drive/MyDrive/LOL_ANALYSIS_0323/matchdata_3(0326).csv')\n",
        "matchdata_4 = pd.read_csv('/content/drive/MyDrive/LOL_ANALYSIS_0323/matchdata_4(0326).csv')\n",
        "matchdata_5 = pd.read_csv('/content/drive/MyDrive/LOL_ANALYSIS_0323/matchdata_5(0326).csv')\n",
        "matchdata_6 = pd.read_csv('/content/drive/MyDrive/LOL_ANALYSIS_0323/matchdata_6(0326).csv')\n",
        "matchdata_7 = pd.read_csv('/content/drive/MyDrive/LOL_ANALYSIS_0323/matchdata_7(0326).csv')\n",
        "matchdata_8 = pd.read_csv('/content/drive/MyDrive/LOL_ANALYSIS_0323/matchdata_8(0326).csv')\n",
        "matchdata_9 = pd.read_csv('/content/drive/MyDrive/LOL_ANALYSIS_0323/matchdata_9(0326).csv')\n",
        "matchdata_10 = pd.read_csv('/content/drive/MyDrive/LOL_ANALYSIS_0323/matchdata_10(0326).csv')\n"
      ],
      "metadata": {
        "id": "SJHzlCnI0Juj"
      },
      "execution_count": 3,
      "outputs": []
    },
    {
      "cell_type": "code",
      "source": [
        "GOLD1 = pd.concat([matchdata_1, matchdata_2, matchdata_3, matchdata_4, matchdata_5, matchdata_6, matchdata_7, matchdata_8, matchdata_9, matchdata_10])\n",
        "print(GOLD1.info())\n",
        "print(GOLD1.head(10))\n",
        "print(GOLD1.tail(10))"
      ],
      "metadata": {
        "colab": {
          "base_uri": "https://localhost:8080/"
        },
        "id": "1MjCECgG0imZ",
        "outputId": "ee6b06a7-52d6-4d2c-a9b6-7c259d1bd66c"
      },
      "execution_count": 4,
      "outputs": [
        {
          "output_type": "stream",
          "name": "stdout",
          "text": [
            "<class 'pandas.core.frame.DataFrame'>\n",
            "Int64Index: 20000 entries, 0 to 1999\n",
            "Data columns (total 16 columns):\n",
            " #   Column        Non-Null Count  Dtype  \n",
            "---  ------        --------------  -----  \n",
            " 0   assists       3505 non-null   float64\n",
            " 1   kills         3505 non-null   float64\n",
            " 2   deaths        3505 non-null   float64\n",
            " 3   champExp      3505 non-null   float64\n",
            " 4   champName     3505 non-null   object \n",
            " 5   indiPos       3505 non-null   object \n",
            " 6   lane          3505 non-null   object \n",
            " 7   role          3505 non-null   object \n",
            " 8   gold          3505 non-null   float64\n",
            " 9   teamPos       3505 non-null   object \n",
            " 10  tDDealt       3505 non-null   float64\n",
            " 11  tDDealtChamp  3505 non-null   float64\n",
            " 12  tDTaken       3505 non-null   float64\n",
            " 13  tMKilled      3505 non-null   float64\n",
            " 14  turKills      3505 non-null   float64\n",
            " 15  win           3505 non-null   object \n",
            "dtypes: float64(10), object(6)\n",
            "memory usage: 2.6+ MB\n",
            "None\n",
            "   assists  kills  deaths  champExp champName indiPos    lane     role  \\\n",
            "0      NaN    NaN     NaN       NaN       NaN     NaN     NaN      NaN   \n",
            "1      NaN    NaN     NaN       NaN       NaN     NaN     NaN      NaN   \n",
            "2      NaN    NaN     NaN       NaN       NaN     NaN     NaN      NaN   \n",
            "3      NaN    NaN     NaN       NaN       NaN     NaN     NaN      NaN   \n",
            "4      NaN    NaN     NaN       NaN       NaN     NaN     NaN      NaN   \n",
            "5     10.0   11.0     2.0   13110.0      Sett  MIDDLE  MIDDLE     SOLO   \n",
            "6      2.0    9.0     0.0    8716.0      Sett  MIDDLE    NONE  SUPPORT   \n",
            "7      0.0    2.0     3.0    7995.0     Garen  MIDDLE    NONE  SUPPORT   \n",
            "8      5.0    8.0     2.0   12688.0     Garen  MIDDLE  MIDDLE     SOLO   \n",
            "9      2.0    6.0     3.0   21625.0      Sett  MIDDLE  MIDDLE      DUO   \n",
            "\n",
            "      gold teamPos   tDDealt  tDDealtChamp  tDTaken  tMKilled  turKills    win  \n",
            "0      NaN     NaN       NaN           NaN      NaN       NaN       NaN    NaN  \n",
            "1      NaN     NaN       NaN           NaN      NaN       NaN       NaN    NaN  \n",
            "2      NaN     NaN       NaN           NaN      NaN       NaN       NaN    NaN  \n",
            "3      NaN     NaN       NaN           NaN      NaN       NaN       NaN    NaN  \n",
            "4      NaN     NaN       NaN           NaN      NaN       NaN       NaN    NaN  \n",
            "5  13096.0  MIDDLE  129264.0       28486.0  30670.0     152.0       2.0   True  \n",
            "6  10750.0  MIDDLE   99882.0       10026.0  11422.0     132.0       3.0   True  \n",
            "7   5659.0  MIDDLE   58604.0        5056.0   9121.0     114.0       0.0  False  \n",
            "8  11262.0  MIDDLE   99840.0       18053.0  20400.0     147.0       3.0   True  \n",
            "9  15372.0  MIDDLE  240132.0       15784.0  40154.0     278.0       3.0   True  \n",
            "      assists  kills  deaths  champExp champName indiPos    lane  role  \\\n",
            "1990      NaN    NaN     NaN       NaN       NaN     NaN     NaN   NaN   \n",
            "1991      NaN    NaN     NaN       NaN       NaN     NaN     NaN   NaN   \n",
            "1992      5.0    9.0     3.0    9871.0    Rumble  MIDDLE  MIDDLE  SOLO   \n",
            "1993      3.0    2.0     9.0    7904.0       Vex  MIDDLE  MIDDLE  SOLO   \n",
            "1994      NaN    NaN     NaN       NaN       NaN     NaN     NaN   NaN   \n",
            "1995      NaN    NaN     NaN       NaN       NaN     NaN     NaN   NaN   \n",
            "1996      NaN    NaN     NaN       NaN       NaN     NaN     NaN   NaN   \n",
            "1997      NaN    NaN     NaN       NaN       NaN     NaN     NaN   NaN   \n",
            "1998      NaN    NaN     NaN       NaN       NaN     NaN     NaN   NaN   \n",
            "1999      NaN    NaN     NaN       NaN       NaN     NaN     NaN   NaN   \n",
            "\n",
            "         gold teamPos   tDDealt  tDDealtChamp  tDTaken  tMKilled  turKills  \\\n",
            "1990      NaN     NaN       NaN           NaN      NaN       NaN       NaN   \n",
            "1991      NaN     NaN       NaN           NaN      NaN       NaN       NaN   \n",
            "1992  10568.0  MIDDLE  100236.0       16914.0  14095.0     132.0       1.0   \n",
            "1993   6110.0  MIDDLE   74825.0       15387.0  17505.0     110.0       0.0   \n",
            "1994      NaN     NaN       NaN           NaN      NaN       NaN       NaN   \n",
            "1995      NaN     NaN       NaN           NaN      NaN       NaN       NaN   \n",
            "1996      NaN     NaN       NaN           NaN      NaN       NaN       NaN   \n",
            "1997      NaN     NaN       NaN           NaN      NaN       NaN       NaN   \n",
            "1998      NaN     NaN       NaN           NaN      NaN       NaN       NaN   \n",
            "1999      NaN     NaN       NaN           NaN      NaN       NaN       NaN   \n",
            "\n",
            "        win  \n",
            "1990    NaN  \n",
            "1991    NaN  \n",
            "1992   True  \n",
            "1993  False  \n",
            "1994    NaN  \n",
            "1995    NaN  \n",
            "1996    NaN  \n",
            "1997    NaN  \n",
            "1998    NaN  \n",
            "1999    NaN  \n"
          ]
        }
      ]
    },
    {
      "cell_type": "code",
      "source": [
        "# 결측치 제거, GOLD제거  생각해보기 \n",
        "GOLD1 = GOLD1.dropna()"
      ],
      "metadata": {
        "id": "BMUHwhtK1uvX"
      },
      "execution_count": 6,
      "outputs": []
    },
    {
      "cell_type": "markdown",
      "source": [
        "# **Match DATA csv 파일로 저장**"
      ],
      "metadata": {
        "id": "K-0Jj0f51iLr"
      }
    },
    {
      "cell_type": "code",
      "source": [
        "GOLD1.to_csv('GOLD1.csv', header=True, index=False)"
      ],
      "metadata": {
        "id": "Bo941wCF1osi"
      },
      "execution_count": 7,
      "outputs": []
    }
  ],
  "metadata": {
    "colab": {
      "provenance": [],
      "toc_visible": true,
      "mount_file_id": "16H5gZS8d3GtSRfeTSHfSYCoppGPeCfRU",
      "authorship_tag": "ABX9TyMgzflCn7Vr3NMHTYWuQbHj",
      "include_colab_link": true
    },
    "gpuClass": "standard",
    "kernelspec": {
      "display_name": "Python 3",
      "name": "python3"
    },
    "language_info": {
      "name": "python"
    }
  },
  "nbformat": 4,
  "nbformat_minor": 0
}