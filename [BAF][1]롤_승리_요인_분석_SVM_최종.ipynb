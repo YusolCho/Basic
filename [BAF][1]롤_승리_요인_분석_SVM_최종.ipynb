{
  "cells": [
    {
      "cell_type": "markdown",
      "metadata": {
        "id": "view-in-github",
        "colab_type": "text"
      },
      "source": [
        "<a href=\"https://colab.research.google.com/github/YusolCho/Basic/blob/main/%5BBAF%5D%5B1%5D%E1%84%85%E1%85%A9%E1%86%AF_%E1%84%89%E1%85%B3%E1%86%BC%E1%84%85%E1%85%B5_%E1%84%8B%E1%85%AD%E1%84%8B%E1%85%B5%E1%86%AB_%E1%84%87%E1%85%AE%E1%86%AB%E1%84%89%E1%85%A5%E1%86%A8_SVM_%E1%84%8E%E1%85%AC%E1%84%8C%E1%85%A9%E1%86%BC.ipynb\" target=\"_parent\"><img src=\"https://colab.research.google.com/assets/colab-badge.svg\" alt=\"Open In Colab\"/></a>"
      ]
    },
    {
      "cell_type": "markdown",
      "id": "0aa42dd9",
      "metadata": {
        "id": "0aa42dd9"
      },
      "source": [
        "# 📌 패키지, 데이터 로드"
      ]
    },
    {
      "cell_type": "code",
      "execution_count": null,
      "id": "bf58791e",
      "metadata": {
        "id": "bf58791e"
      },
      "outputs": [],
      "source": [
        "# base\n",
        "import pandas as pd\n",
        "import numpy as np\n",
        "import matplotlib.pyplot as plt\n",
        "import seaborn as sns   \n",
        "\n",
        "# Standardize the data\n",
        "import sklearn\n",
        "from sklearn.preprocessing import StandardScaler, MinMaxScaler, RobustScaler\n",
        "\n",
        "# Data Split\n",
        "import fast_ml\n",
        "from fast_ml.model_development import train_valid_test_split\n",
        "\n",
        "# Modeling \n",
        "from sklearn.model_selection import train_test_split\n",
        "from sklearn.svm import SVC\n",
        "from sklearn.feature_selection import SelectFromModel\n",
        "\n",
        "# Hyperparameter tuning\n",
        "from sklearn.model_selection import StratifiedKFold, GridSearchCV, RandomizedSearchCV, cross_val_score\n",
        "from hyperopt import tpe, STATUS_OK, Trials, hp, fmin, space_eval\n",
        "\n",
        "# Feature Selection\n",
        "import eli5\n",
        "from eli5.sklearn import PermutationImportance\n",
        "\n",
        "# Model Evaluation\n",
        "from sklearn.metrics import f1_score,accuracy_score\n",
        "from sklearn.metrics import classification_report, confusion_matrix  \n",
        "\n",
        "# Load Data\n",
        "data = pd.read_csv('/Users/yusolcho/Desktop/baf/롤 추천 시스템/2차 피드백 이후 파일 모음집/GOLD_DATA.csv')\n",
        "data.drop('Unnamed: 0' ,axis=1, inplace = True)  # 불필요한 열 삭제 "
      ]
    },
    {
      "cell_type": "markdown",
      "id": "cf95b747",
      "metadata": {
        "id": "cf95b747"
      },
      "source": [
        "# 📌 챔피언 군집별로 데이터 나누기"
      ]
    },
    {
      "cell_type": "code",
      "execution_count": null,
      "id": "e56b7ee3",
      "metadata": {
        "id": "e56b7ee3"
      },
      "outputs": [],
      "source": [
        "cluster_1 =['Neeko', 'Ryze', 'Lux', 'Leblanc', 'Lissandra', 'Malzahar', 'Veigar', 'Vex', \n",
        "            'Vladimir', 'Viktor', 'Syndra', 'Ahri', 'AurelionSol', 'Azir', 'Annie', 'Anivia', 'Orianna', \n",
        "            'Xerath', 'Zoe', 'Ziggs', 'Cassiopeia', 'Kennen', 'Corki', 'Taliyah', 'TwistedFate']\n",
        "cluster_2 =['Akshan', 'Tristana']\n",
        "cluster_3 =['Galio', 'Gragas', 'Diana', 'Rumble', 'Malphite', 'Sylas', 'Swain', 'Singed', \n",
        "            'Akali', 'Ekko', 'Zac', 'Chogath', 'Kassadin', 'Katarina', 'Fizz']\n",
        "cluster_4 =['Renekton', 'Sett', 'Yasuo', 'Yone', 'Irelia', 'Zed', 'Jayce', 'KSante', \n",
        "            'Qiyana', 'Talon', 'Pantheon']\n",
        "\n",
        "data_1 = data[data['champName'].isin(cluster_1)]\n",
        "data_2 = data[data['champName'].isin(cluster_2)]\n",
        "data_3 = data[data['champName'].isin(cluster_3)]\n",
        "data_4 = data[data['champName'].isin(cluster_4)]"
      ]
    },
    {
      "cell_type": "markdown",
      "id": "49c69ea4",
      "metadata": {
        "id": "49c69ea4"
      },
      "source": [
        "# 📌 Train, Valid, Test 데이터 Split\n",
        "* 참고 : https://blog.naver.com/PostView.naver?blogId=siniphia&logNo=221396370872\n",
        "* https://towardsdatascience.com/how-to-split-data-into-three-sets-train-validation-and-test-and-why-e50d22d3e54c"
      ]
    },
    {
      "cell_type": "code",
      "execution_count": null,
      "id": "f0bcb4c3",
      "metadata": {
        "id": "f0bcb4c3"
      },
      "outputs": [],
      "source": [
        "# 🍊🍊🍊🍊🍊🍊🍊🍊🍊🍊🍊🍊🍊🍊🍊🍊🍊🍊🍊🍊\n",
        "X_train, Y_train, X_val, Y_val, X_test, Y_test = train_valid_test_split(data_1, target = 'win', \n",
        "                                        train_size=0.8, valid_size=0.1, test_size=0.1)"
      ]
    },
    {
      "cell_type": "code",
      "execution_count": null,
      "id": "525120dd",
      "metadata": {
        "id": "525120dd",
        "outputId": "b781abc1-9e92-467c-e498-6195ae2b95a9"
      },
      "outputs": [
        {
          "name": "stdout",
          "output_type": "stream",
          "text": [
            "훈련 데이터 개수 : 4536\n",
            "validation 데이터 개수 : 567\n",
            "테스트 데이터 개수 : 568\n"
          ]
        }
      ],
      "source": [
        "print('훈련 데이터 개수 :' ,len(X_train))\n",
        "print('validation 데이터 개수 :' ,len(X_val))\n",
        "print('테스트 데이터 개수 :' ,len(X_test))"
      ]
    },
    {
      "cell_type": "markdown",
      "id": "ba67b27a",
      "metadata": {
        "id": "ba67b27a"
      },
      "source": [
        "# 📌 Feature Scaling\n",
        "* **< 전처리된 데이터의 독립 변수들 >**\n",
        "* → 'assists', 'kills', 'deaths', 'champExp', 'champName', 'indiPos','lane', 'role', 'gold', \n",
        "* → 'tDDealt', 'tDDealtChamp', 'tDTaken','tMKilled', 'turKills', 'division', 'division_1', \n",
        "* → 'division_2','division_3', 'division_4', 'lane_BOTTOM', 'lane_JUNGLE', 'lane_MIDDLE','lane_NONE',\n",
        "* → 'lane_TOP', 'role_CARRY', 'role_DUO', 'role_NONE','role_SOLO', 'role_SUPPORT', 'indiPos_JUNGLE', \n",
        "* → 'indiPos_MIDDLE','indiPos_TOP', 'KDA', 'norm_tDDealt', 'norm_tDDealtChamp','norm_tDTaken',\n",
        "* → 'norm_tMKilled', 'norm_turKills', 'norm_totalAttack','norm_totalKills'\n",
        "\n",
        "\n",
        "* **< Scaling 거쳐야 하는 변수 >**\n",
        "* → 'assists', 'kills', 'deaths', 'champExp', 'gold', 'tDDealt', 'tDDealtChamp'\n",
        "* → 'tDTaken','tMKilled', 'turKills', 'KDA'\n",
        "\n",
        "\n",
        "* **< Scaling 거치지 않는 변수 >**\n",
        "* → **numeric 이 아님** : 'champName', 'indiPos','lane', 'role',  , \n",
        "* → **one-hot encoding 된 범주형 변수** : 'division', 'division_1', 'division_2','division_3', 'division_4', 'lane_BOTTOM', 'lane_JUNGLE', 'lane_MIDDLE','lane_NONE','lane_TOP', 'role_CARRY', 'role_DUO', 'role_NONE','role_SOLO', 'role_SUPPORT', 'indiPos_JUNGLE', 'indiPos_MIDDLE','indiPos_TOP', \n",
        "* → **파생 변수를 생성하기 위한 임시 변수** : 'norm_tDDealt', 'norm_tDDealtChamp','norm_tDTaken', 'norm_tMKilled', 'norm_turKills'\n",
        "* → **파생 변수를 생성하기 위한 임시 변수** : 'norm_totalAttack', 'norm_totalKills'\n",
        "\n",
        "\n",
        "* **< Scaling 방법 종류 >**\n",
        "1. Sklearn의 StandardScaler\n",
        "2. Sklearn의 MinMaxScaler\n",
        "3. Sklearn의 RobustScaler"
      ]
    },
    {
      "cell_type": "code",
      "execution_count": null,
      "id": "158b685a",
      "metadata": {
        "id": "158b685a"
      },
      "outputs": [],
      "source": [
        "# 스케일링(스탠다드)\n",
        "col_names = ['assists', 'kills', 'deaths', 'champExp', 'gold', 'tDDealt', 'tDDealtChamp',\n",
        "             'tDTaken','tMKilled', 'turKills', 'KDA']  # 스케일링 필요한 변수 정의 \n",
        "X_train_sub = X_train[col_names]  # 스케일링 필요한 변수만 X_train에서 뽑은 서브 데이터셋 생성\n",
        "X_val_sub = X_val[col_names]  # 스케일링 필요한 변수만 X_train에서 뽑은 서브 데이터셋 생성\n",
        "X_test_sub = X_test[col_names]  # 스케일링 필요한 변수만 X_test에서 뽑은 서브 데이터셋 생성\n",
        "sc = StandardScaler()\n",
        "X_train_sub_scaled = pd.DataFrame(sc.fit_transform(X_train_sub),\n",
        "                                  index = X_train_sub.index, columns = X_train_sub.columns) # 서브 데이터셋 스케일링\n",
        "X_val_sub_scaled = pd.DataFrame(sc.fit_transform(X_val_sub),\n",
        "                                  index = X_val_sub.index, columns = X_val_sub.columns) # 서브 데이터셋 스케일링\n",
        "X_test_sub_scaled = pd.DataFrame(sc.fit_transform(X_test_sub),\n",
        "                                  index = X_test_sub.index, columns = X_test_sub.columns) # 서브 데이터셋 스케일링\n",
        "\n",
        "# 원래 데이터에서 col_names의 변수를 스케일링 된 데이터셋의 변수로 대체시킨 최종 StandardScaled 데이터 생성(train)\n",
        "X_train_StandardScaled = X_train.copy()\n",
        "X_train_StandardScaled['assists'] = X_train_sub_scaled['assists']\n",
        "X_train_StandardScaled['kills'] = X_train_sub_scaled['kills']\n",
        "X_train_StandardScaled['deaths'] = X_train_sub_scaled['deaths']\n",
        "X_train_StandardScaled['champExp'] = X_train_sub_scaled['champExp']\n",
        "X_train_StandardScaled['gold'] = X_train_sub_scaled['gold']\n",
        "X_train_StandardScaled['tDDealt'] = X_train_sub_scaled['tDDealt']\n",
        "X_train_StandardScaled['tDDealtChamp'] = X_train_sub_scaled['tDDealtChamp']\n",
        "X_train_StandardScaled['tDTaken'] = X_train_sub_scaled['tDTaken']\n",
        "X_train_StandardScaled['tMKilled'] = X_train_sub_scaled['tMKilled']\n",
        "X_train_StandardScaled['turKills'] = X_train_sub_scaled['turKills']\n",
        "X_train_StandardScaled['KDA'] = X_train_sub_scaled['KDA']\n",
        "\n",
        "# 원래 데이터에서 col_names의 변수를 스케일링 된 데이터셋의 변수로 대체시킨 최종 StandardScaled 데이터 생성 (valid)\n",
        "X_val_StandardScaled = X_val.copy()\n",
        "X_val_StandardScaled['assists'] = X_val_sub_scaled['assists']\n",
        "X_val_StandardScaled['kills'] = X_val_sub_scaled['kills']\n",
        "X_val_StandardScaled['deaths'] = X_val_sub_scaled['deaths']\n",
        "X_val_StandardScaled['champExp'] = X_val_sub_scaled['champExp']\n",
        "X_val_StandardScaled['gold'] = X_val_sub_scaled['gold']\n",
        "X_val_StandardScaled['tDDealt'] = X_val_sub_scaled['tDDealt']\n",
        "X_val_StandardScaled['tDDealtChamp'] = X_val_sub_scaled['tDDealtChamp']\n",
        "X_val_StandardScaled['tDTaken'] = X_val_sub_scaled['tDTaken']\n",
        "X_val_StandardScaled['tMKilled'] = X_val_sub_scaled['tMKilled']\n",
        "X_val_StandardScaled['turKills'] = X_val_sub_scaled['turKills']\n",
        "X_val_StandardScaled['KDA'] = X_val_sub_scaled['KDA']\n",
        "\n",
        "# 원래 데이터에서 col_names의 변수를 스케일링 된 데이터셋의 변수로 대체시킨 최종 StandardScaled 데이터 생성 (test)\n",
        "X_test_StandardScaled = X_test.copy()\n",
        "X_test_StandardScaled['assists'] = X_test_sub_scaled['assists']\n",
        "X_test_StandardScaled['kills'] = X_test_sub_scaled['kills']\n",
        "X_test_StandardScaled['deaths'] = X_test_sub_scaled['deaths']\n",
        "X_test_StandardScaled['champExp'] = X_test_sub_scaled['champExp']\n",
        "X_test_StandardScaled['gold'] = X_test_sub_scaled['gold']\n",
        "X_test_StandardScaled['tDDealt'] = X_test_sub_scaled['tDDealt']\n",
        "X_test_StandardScaled['tDDealtChamp'] = X_test_sub_scaled['tDDealtChamp']\n",
        "X_test_StandardScaled['tDTaken'] = X_test_sub_scaled['tDTaken']\n",
        "X_test_StandardScaled['tMKilled'] = X_test_sub_scaled['tMKilled']\n",
        "X_test_StandardScaled['turKills'] = X_test_sub_scaled['turKills']\n",
        "X_test_StandardScaled['KDA'] = X_test_sub_scaled['KDA']"
      ]
    },
    {
      "cell_type": "code",
      "execution_count": null,
      "id": "9da8ea64",
      "metadata": {
        "id": "9da8ea64",
        "outputId": "b5d5fa4e-6212-497a-df0d-151713030965"
      },
      "outputs": [
        {
          "data": {
            "text/html": [
              "<div>\n",
              "<style scoped>\n",
              "    .dataframe tbody tr th:only-of-type {\n",
              "        vertical-align: middle;\n",
              "    }\n",
              "\n",
              "    .dataframe tbody tr th {\n",
              "        vertical-align: top;\n",
              "    }\n",
              "\n",
              "    .dataframe thead th {\n",
              "        text-align: right;\n",
              "    }\n",
              "</style>\n",
              "<table border=\"1\" class=\"dataframe\">\n",
              "  <thead>\n",
              "    <tr style=\"text-align: right;\">\n",
              "      <th></th>\n",
              "      <th>assists</th>\n",
              "      <th>kills</th>\n",
              "      <th>deaths</th>\n",
              "      <th>champExp</th>\n",
              "      <th>champName</th>\n",
              "      <th>indiPos</th>\n",
              "      <th>lane</th>\n",
              "      <th>role</th>\n",
              "      <th>gold</th>\n",
              "      <th>tDDealt</th>\n",
              "      <th>...</th>\n",
              "      <th>indiPos_MIDDLE</th>\n",
              "      <th>indiPos_TOP</th>\n",
              "      <th>KDA</th>\n",
              "      <th>norm_tDDealt</th>\n",
              "      <th>norm_tDDealtChamp</th>\n",
              "      <th>norm_tDTaken</th>\n",
              "      <th>norm_tMKilled</th>\n",
              "      <th>norm_turKills</th>\n",
              "      <th>norm_totalAttack</th>\n",
              "      <th>norm_totalKills</th>\n",
              "    </tr>\n",
              "  </thead>\n",
              "  <tbody>\n",
              "    <tr>\n",
              "      <th>2793</th>\n",
              "      <td>0.260496</td>\n",
              "      <td>0.248363</td>\n",
              "      <td>-1.119175</td>\n",
              "      <td>0.013373</td>\n",
              "      <td>Ahri</td>\n",
              "      <td>MIDDLE</td>\n",
              "      <td>MIDDLE</td>\n",
              "      <td>SOLO</td>\n",
              "      <td>-0.167603</td>\n",
              "      <td>-0.133602</td>\n",
              "      <td>...</td>\n",
              "      <td>1</td>\n",
              "      <td>0</td>\n",
              "      <td>0.975264</td>\n",
              "      <td>-0.163210</td>\n",
              "      <td>-0.282856</td>\n",
              "      <td>-0.711869</td>\n",
              "      <td>0.325499</td>\n",
              "      <td>0.003366</td>\n",
              "      <td>-0.829071</td>\n",
              "      <td>0.328865</td>\n",
              "    </tr>\n",
              "    <tr>\n",
              "      <th>6869</th>\n",
              "      <td>-0.619168</td>\n",
              "      <td>-0.708999</td>\n",
              "      <td>0.233858</td>\n",
              "      <td>-0.060357</td>\n",
              "      <td>Syndra</td>\n",
              "      <td>MIDDLE</td>\n",
              "      <td>MIDDLE</td>\n",
              "      <td>SOLO</td>\n",
              "      <td>-0.114258</td>\n",
              "      <td>0.118415</td>\n",
              "      <td>...</td>\n",
              "      <td>1</td>\n",
              "      <td>0</td>\n",
              "      <td>-0.624254</td>\n",
              "      <td>0.077808</td>\n",
              "      <td>-0.377294</td>\n",
              "      <td>-0.586825</td>\n",
              "      <td>0.825233</td>\n",
              "      <td>-0.819191</td>\n",
              "      <td>-0.880268</td>\n",
              "      <td>0.006042</td>\n",
              "    </tr>\n",
              "    <tr>\n",
              "      <th>612</th>\n",
              "      <td>1.140160</td>\n",
              "      <td>0.727044</td>\n",
              "      <td>0.233858</td>\n",
              "      <td>0.243309</td>\n",
              "      <td>Ahri</td>\n",
              "      <td>MIDDLE</td>\n",
              "      <td>MIDDLE</td>\n",
              "      <td>SOLO</td>\n",
              "      <td>0.270441</td>\n",
              "      <td>0.144203</td>\n",
              "      <td>...</td>\n",
              "      <td>1</td>\n",
              "      <td>0</td>\n",
              "      <td>-0.034958</td>\n",
              "      <td>0.102471</td>\n",
              "      <td>0.071483</td>\n",
              "      <td>-0.146055</td>\n",
              "      <td>0.242210</td>\n",
              "      <td>3.293593</td>\n",
              "      <td>3.563702</td>\n",
              "      <td>3.535803</td>\n",
              "    </tr>\n",
              "  </tbody>\n",
              "</table>\n",
              "<p>3 rows × 40 columns</p>\n",
              "</div>"
            ],
            "text/plain": [
              "       assists     kills    deaths  champExp champName indiPos    lane  role  \\\n",
              "2793  0.260496  0.248363 -1.119175  0.013373      Ahri  MIDDLE  MIDDLE  SOLO   \n",
              "6869 -0.619168 -0.708999  0.233858 -0.060357    Syndra  MIDDLE  MIDDLE  SOLO   \n",
              "612   1.140160  0.727044  0.233858  0.243309      Ahri  MIDDLE  MIDDLE  SOLO   \n",
              "\n",
              "          gold   tDDealt  ...  indiPos_MIDDLE  indiPos_TOP       KDA  \\\n",
              "2793 -0.167603 -0.133602  ...               1            0  0.975264   \n",
              "6869 -0.114258  0.118415  ...               1            0 -0.624254   \n",
              "612   0.270441  0.144203  ...               1            0 -0.034958   \n",
              "\n",
              "      norm_tDDealt  norm_tDDealtChamp  norm_tDTaken  norm_tMKilled  \\\n",
              "2793     -0.163210          -0.282856     -0.711869       0.325499   \n",
              "6869      0.077808          -0.377294     -0.586825       0.825233   \n",
              "612       0.102471           0.071483     -0.146055       0.242210   \n",
              "\n",
              "      norm_turKills  norm_totalAttack  norm_totalKills  \n",
              "2793       0.003366         -0.829071         0.328865  \n",
              "6869      -0.819191         -0.880268         0.006042  \n",
              "612        3.293593          3.563702         3.535803  \n",
              "\n",
              "[3 rows x 40 columns]"
            ]
          },
          "execution_count": 46,
          "metadata": {},
          "output_type": "execute_result"
        }
      ],
      "source": [
        "# 모델에 넣을 StandardScaled 된 훈련데이터\n",
        "X_train_StandardScaled.head(3)"
      ]
    },
    {
      "cell_type": "markdown",
      "id": "8ab8bcad",
      "metadata": {
        "id": "8ab8bcad"
      },
      "source": [
        "# 📌 모델 훈련 \n",
        "* **각기 다른 방법으로 스케일링된 3개의 데이터 셋 중 하나를 선택**\n",
        "* **그 데이터셋에서 훈련에 사용할 변수를 선택**\n",
        "* **우선 상관계수를 기반으로 select한 훈련데이터: 상관계수가 높은 변수들만 추출함**\n",
        "## Correlation Coefficient 확인"
      ]
    },
    {
      "cell_type": "code",
      "execution_count": null,
      "id": "ef7457da",
      "metadata": {
        "scrolled": true,
        "id": "ef7457da",
        "outputId": "f2de57fb-c1cf-4c4d-b08a-82ce725bbe84"
      },
      "outputs": [
        {
          "name": "stdout",
          "output_type": "stream",
          "text": [
            "<win 변수와의 상관계수>\n",
            "win                  1.000000\n",
            "KDA                  0.497781\n",
            "turKills             0.438147\n",
            "norm_turKills        0.438147\n",
            "assists              0.380861\n",
            "kills                0.331684\n",
            "norm_totalKills      0.316343\n",
            "gold                 0.277605\n",
            "champExp             0.250822\n",
            "norm_totalAttack     0.195827\n",
            "norm_tDDealtChamp    0.183266\n",
            "tDDealtChamp         0.183266\n",
            "norm_tDDealt         0.159571\n",
            "tDDealt              0.159571\n",
            "tMKilled             0.084522\n",
            "norm_tMKilled        0.084522\n",
            "lane_TOP             0.039585\n",
            "role_SUPPORT         0.025884\n",
            "role_DUO             0.025162\n",
            "division_3           0.023089\n",
            "division_1           0.018816\n",
            "lane_BOTTOM          0.015857\n",
            "indiPos_JUNGLE       0.008265\n",
            "lane_JUNGLE          0.002041\n",
            "role_NONE            0.002041\n",
            "division_2           0.000255\n",
            "indiPos_MIDDLE      -0.001767\n",
            "lane_NONE           -0.005215\n",
            "role_CARRY          -0.009152\n",
            "indiPos_TOP         -0.014146\n",
            "lane_MIDDLE         -0.021119\n",
            "division            -0.032247\n",
            "role_SOLO           -0.033459\n",
            "division_4          -0.045200\n",
            "norm_tDTaken        -0.105396\n",
            "tDTaken             -0.105396\n",
            "deaths              -0.352999\n",
            "Name: win, dtype: float64\n"
          ]
        }
      ],
      "source": [
        "#승패와의 상관계수 분석\n",
        "print('<win 변수와의 상관계수>')\n",
        "temp = pd.concat([X_train_StandardScaled, Y_train], axis=1)\n",
        "print(temp.corr()[\"win\"].sort_values(ascending=False))"
      ]
    },
    {
      "cell_type": "code",
      "execution_count": null,
      "id": "d185a383",
      "metadata": {
        "id": "d185a383"
      },
      "outputs": [],
      "source": [
        "correlation = temp.corr()['win']\n",
        "variable_list = correlation[(abs(correlation) > 0.15) & (abs(correlation) < 1)].index.tolist()"
      ]
    },
    {
      "cell_type": "markdown",
      "id": "fddadeae",
      "metadata": {
        "id": "fddadeae"
      },
      "source": [
        "### 🍊X_train_1, X_val_1, X_test_1은 스탠다드 스케일링 된 X데이터에서 | 상관계수 | >0.15 인 것만 추출한 것 \n",
        "### 🍊 model_1은 X_train_1에 훈련된, 기본 하이퍼파라미터(rbf, 0.01, 100)인 SVC 모델 "
      ]
    },
    {
      "cell_type": "code",
      "execution_count": null,
      "id": "1342b49e",
      "metadata": {
        "id": "1342b49e"
      },
      "outputs": [],
      "source": [
        "# 우선 상관계수를 기반으로 select한 훈련데이터: 상관계수 절댓값 0.15이상인 변수들만 추출함\n",
        "feature_selected = variable_list\n",
        "X_train_1 = X_train_StandardScaled[feature_selected]\n",
        "X_val_1 = X_val_StandardScaled[feature_selected]\n",
        "X_test_1 = X_test_StandardScaled[feature_selected]"
      ]
    },
    {
      "cell_type": "code",
      "execution_count": null,
      "id": "8d996724",
      "metadata": {
        "id": "8d996724",
        "outputId": "85ad1653-7544-4b64-e57b-f331ba09ca97"
      },
      "outputs": [
        {
          "data": {
            "text/plain": [
              "SVC(C=100, gamma=0.01)"
            ]
          },
          "execution_count": 54,
          "metadata": {},
          "output_type": "execute_result"
        }
      ],
      "source": [
        "model_1 = sklearn.svm.SVC(kernel='rbf', gamma=0.01, C = 100)  # 모델 객체 생성\n",
        "model_1.fit(X_train_1, Y_train)  # 데이터에 모델 훈련시키기 "
      ]
    },
    {
      "cell_type": "markdown",
      "id": "648ce0f3",
      "metadata": {
        "id": "648ce0f3"
      },
      "source": [
        "* rbf, linear의 정확도가 높게 나왔고 sigmoid는 매우 낮게 나옴 \n",
        "* poly 는 시간이 오래 걸렸다(중지시켰음)"
      ]
    },
    {
      "cell_type": "code",
      "execution_count": null,
      "id": "823c56c1",
      "metadata": {
        "id": "823c56c1",
        "outputId": "9ec9afdc-38fd-4214-f700-d3788ffae9b9"
      },
      "outputs": [
        {
          "name": "stdout",
          "output_type": "stream",
          "text": [
            "f1 score :  0.8518513910317025\n",
            "accuracy :  0.8518518518518519\n"
          ]
        }
      ],
      "source": [
        "# X_val 에 대한 accuracy 구하기\n",
        "pred = model_1.predict(X_val_1)  # X_test 를 모델에 집어넣고 예측\n",
        "print('f1 score : ', f1_score(Y_val,pred,average='macro'))\n",
        "print('accuracy : ', accuracy_score(Y_val,pred))"
      ]
    },
    {
      "cell_type": "markdown",
      "id": "2da08c41",
      "metadata": {
        "id": "2da08c41"
      },
      "source": [
        "# 📌 Hyperparameter 튜닝 \n",
        "**< 튜닝해야하는 파라미터 종류 >**\n",
        "1. Kernels : 'RBF', 'sigmoid' 'linear' 'poly' 등. 주로 'RBF(가우시안 커널)'이 많이 사용된다. \n",
        "2. C : 오차허용정도. 높을수록 오차를 허용하지 않아 정확하지만 과적합의 위험이 있음\n",
        "3. Gamma : Kernel이 'RBF', 'sigmoid', 'poly'일 때 설정하는 파라미터. 결정경계의 곡률을 조정. \n",
        "\n",
        "**< 파라미터 튜닝 방법 >**\n",
        "1. grid search : 그리드에 지정된 파라미터의 각 조합에 대해 모델을 평가하는 방식\n",
        "* Sklearn의 GridSearchCV를 사용\n",
        "2. random search\n",
        "3. Bayesian optimization\n",
        "\n",
        "**출처**\n",
        "* https://www.vebuso.com/2020/03/svm-hyperparameter-tuning-using-gridsearchcv/\n",
        "* https://medium.com/grabngoinfo/support-vector-machine-svm-hyperparameter-tuning-in-python-a65586289bcb"
      ]
    },
    {
      "cell_type": "code",
      "execution_count": null,
      "id": "21475d02",
      "metadata": {
        "id": "21475d02"
      },
      "outputs": [],
      "source": [
        "# 그리드 변수에 각 파라미터 값 담기(총 4*4*3=48개의 경우의 수, poly는 제외)\n",
        "param_grid = {'C': [1,33, 66, 100], \n",
        "              'gamma': [1,0.1,0.01,0.001],'kernel': ['rbf', 'linear']} "
      ]
    },
    {
      "cell_type": "code",
      "execution_count": null,
      "id": "197b8303",
      "metadata": {
        "scrolled": true,
        "id": "197b8303",
        "outputId": "a34a0401-4131-44ea-fd05-e1e12ac5849d"
      },
      "outputs": [
        {
          "name": "stdout",
          "output_type": "stream",
          "text": [
            "Fitting 5 folds for each of 32 candidates, totalling 160 fits\n",
            "[CV] END ...........................C=1, gamma=1, kernel=rbf; total time=   1.1s\n",
            "[CV] END ...........................C=1, gamma=1, kernel=rbf; total time=   1.1s\n",
            "[CV] END ...........................C=1, gamma=1, kernel=rbf; total time=   1.0s\n",
            "[CV] END ...........................C=1, gamma=1, kernel=rbf; total time=   1.1s\n",
            "[CV] END ...........................C=1, gamma=1, kernel=rbf; total time=   1.1s\n",
            "[CV] END ........................C=1, gamma=1, kernel=linear; total time=   0.6s\n",
            "[CV] END ........................C=1, gamma=1, kernel=linear; total time=   0.6s\n",
            "[CV] END ........................C=1, gamma=1, kernel=linear; total time=   0.6s\n",
            "[CV] END ........................C=1, gamma=1, kernel=linear; total time=   0.7s\n",
            "[CV] END ........................C=1, gamma=1, kernel=linear; total time=   0.9s\n",
            "[CV] END .........................C=1, gamma=0.1, kernel=rbf; total time=   0.7s\n",
            "[CV] END .........................C=1, gamma=0.1, kernel=rbf; total time=   0.6s\n",
            "[CV] END .........................C=1, gamma=0.1, kernel=rbf; total time=   0.6s\n",
            "[CV] END .........................C=1, gamma=0.1, kernel=rbf; total time=   0.6s\n",
            "[CV] END .........................C=1, gamma=0.1, kernel=rbf; total time=   0.5s\n",
            "[CV] END ......................C=1, gamma=0.1, kernel=linear; total time=   0.5s\n",
            "[CV] END ......................C=1, gamma=0.1, kernel=linear; total time=   0.5s\n",
            "[CV] END ......................C=1, gamma=0.1, kernel=linear; total time=   0.5s\n",
            "[CV] END ......................C=1, gamma=0.1, kernel=linear; total time=   0.5s\n",
            "[CV] END ......................C=1, gamma=0.1, kernel=linear; total time=   0.5s\n",
            "[CV] END ........................C=1, gamma=0.01, kernel=rbf; total time=   0.5s\n",
            "[CV] END ........................C=1, gamma=0.01, kernel=rbf; total time=   0.5s\n",
            "[CV] END ........................C=1, gamma=0.01, kernel=rbf; total time=   0.5s\n",
            "[CV] END ........................C=1, gamma=0.01, kernel=rbf; total time=   0.5s\n",
            "[CV] END ........................C=1, gamma=0.01, kernel=rbf; total time=   0.5s\n",
            "[CV] END .....................C=1, gamma=0.01, kernel=linear; total time=   0.5s\n",
            "[CV] END .....................C=1, gamma=0.01, kernel=linear; total time=   0.5s\n",
            "[CV] END .....................C=1, gamma=0.01, kernel=linear; total time=   0.5s\n",
            "[CV] END .....................C=1, gamma=0.01, kernel=linear; total time=   0.5s\n",
            "[CV] END .....................C=1, gamma=0.01, kernel=linear; total time=   0.5s\n",
            "[CV] END .......................C=1, gamma=0.001, kernel=rbf; total time=   0.7s\n",
            "[CV] END .......................C=1, gamma=0.001, kernel=rbf; total time=   0.7s\n",
            "[CV] END .......................C=1, gamma=0.001, kernel=rbf; total time=   0.7s\n",
            "[CV] END .......................C=1, gamma=0.001, kernel=rbf; total time=   0.7s\n",
            "[CV] END .......................C=1, gamma=0.001, kernel=rbf; total time=   0.8s\n",
            "[CV] END ....................C=1, gamma=0.001, kernel=linear; total time=   0.5s\n",
            "[CV] END ....................C=1, gamma=0.001, kernel=linear; total time=   0.6s\n",
            "[CV] END ....................C=1, gamma=0.001, kernel=linear; total time=   0.5s\n",
            "[CV] END ....................C=1, gamma=0.001, kernel=linear; total time=   0.5s\n",
            "[CV] END ....................C=1, gamma=0.001, kernel=linear; total time=   0.5s\n",
            "[CV] END ..........................C=33, gamma=1, kernel=rbf; total time=   1.1s\n",
            "[CV] END ..........................C=33, gamma=1, kernel=rbf; total time=   1.5s\n",
            "[CV] END ..........................C=33, gamma=1, kernel=rbf; total time=   1.1s\n",
            "[CV] END ..........................C=33, gamma=1, kernel=rbf; total time=   1.1s\n",
            "[CV] END ..........................C=33, gamma=1, kernel=rbf; total time=   1.1s\n",
            "[CV] END .......................C=33, gamma=1, kernel=linear; total time=   4.2s\n",
            "[CV] END .......................C=33, gamma=1, kernel=linear; total time=   4.5s\n",
            "[CV] END .......................C=33, gamma=1, kernel=linear; total time=   4.0s\n",
            "[CV] END .......................C=33, gamma=1, kernel=linear; total time=   4.9s\n",
            "[CV] END .......................C=33, gamma=1, kernel=linear; total time=   4.4s\n",
            "[CV] END ........................C=33, gamma=0.1, kernel=rbf; total time=   0.7s\n",
            "[CV] END ........................C=33, gamma=0.1, kernel=rbf; total time=   0.7s\n",
            "[CV] END ........................C=33, gamma=0.1, kernel=rbf; total time=   0.7s\n",
            "[CV] END ........................C=33, gamma=0.1, kernel=rbf; total time=   0.8s\n",
            "[CV] END ........................C=33, gamma=0.1, kernel=rbf; total time=   0.9s\n",
            "[CV] END .....................C=33, gamma=0.1, kernel=linear; total time=   4.4s\n",
            "[CV] END .....................C=33, gamma=0.1, kernel=linear; total time=   3.9s\n",
            "[CV] END .....................C=33, gamma=0.1, kernel=linear; total time=   4.6s\n",
            "[CV] END .....................C=33, gamma=0.1, kernel=linear; total time=   5.2s\n",
            "[CV] END .....................C=33, gamma=0.1, kernel=linear; total time=   4.6s\n",
            "[CV] END .......................C=33, gamma=0.01, kernel=rbf; total time=   0.5s\n",
            "[CV] END .......................C=33, gamma=0.01, kernel=rbf; total time=   0.6s\n",
            "[CV] END .......................C=33, gamma=0.01, kernel=rbf; total time=   0.5s\n",
            "[CV] END .......................C=33, gamma=0.01, kernel=rbf; total time=   0.6s\n",
            "[CV] END .......................C=33, gamma=0.01, kernel=rbf; total time=   0.5s\n",
            "[CV] END ....................C=33, gamma=0.01, kernel=linear; total time=   4.3s\n",
            "[CV] END ....................C=33, gamma=0.01, kernel=linear; total time=   4.1s\n",
            "[CV] END ....................C=33, gamma=0.01, kernel=linear; total time=   3.7s\n",
            "[CV] END ....................C=33, gamma=0.01, kernel=linear; total time=   5.1s\n",
            "[CV] END ....................C=33, gamma=0.01, kernel=linear; total time=   4.8s\n",
            "[CV] END ......................C=33, gamma=0.001, kernel=rbf; total time=   0.5s\n",
            "[CV] END ......................C=33, gamma=0.001, kernel=rbf; total time=   0.5s\n",
            "[CV] END ......................C=33, gamma=0.001, kernel=rbf; total time=   0.5s\n",
            "[CV] END ......................C=33, gamma=0.001, kernel=rbf; total time=   0.5s\n",
            "[CV] END ......................C=33, gamma=0.001, kernel=rbf; total time=   0.5s\n",
            "[CV] END ...................C=33, gamma=0.001, kernel=linear; total time=   4.0s\n",
            "[CV] END ...................C=33, gamma=0.001, kernel=linear; total time=   3.7s\n",
            "[CV] END ...................C=33, gamma=0.001, kernel=linear; total time=   4.1s\n",
            "[CV] END ...................C=33, gamma=0.001, kernel=linear; total time=   4.8s\n",
            "[CV] END ...................C=33, gamma=0.001, kernel=linear; total time=   4.2s\n",
            "[CV] END ..........................C=66, gamma=1, kernel=rbf; total time=   1.1s\n",
            "[CV] END ..........................C=66, gamma=1, kernel=rbf; total time=   1.1s\n",
            "[CV] END ..........................C=66, gamma=1, kernel=rbf; total time=   1.1s\n",
            "[CV] END ..........................C=66, gamma=1, kernel=rbf; total time=   1.1s\n",
            "[CV] END ..........................C=66, gamma=1, kernel=rbf; total time=   1.1s\n",
            "[CV] END .......................C=66, gamma=1, kernel=linear; total time=   7.8s\n",
            "[CV] END .......................C=66, gamma=1, kernel=linear; total time=   7.7s\n",
            "[CV] END .......................C=66, gamma=1, kernel=linear; total time=   6.1s\n",
            "[CV] END .......................C=66, gamma=1, kernel=linear; total time=  10.0s\n",
            "[CV] END .......................C=66, gamma=1, kernel=linear; total time=   7.4s\n",
            "[CV] END ........................C=66, gamma=0.1, kernel=rbf; total time=   0.9s\n",
            "[CV] END ........................C=66, gamma=0.1, kernel=rbf; total time=   0.9s\n",
            "[CV] END ........................C=66, gamma=0.1, kernel=rbf; total time=   0.8s\n",
            "[CV] END ........................C=66, gamma=0.1, kernel=rbf; total time=   0.9s\n",
            "[CV] END ........................C=66, gamma=0.1, kernel=rbf; total time=   0.9s\n",
            "[CV] END .....................C=66, gamma=0.1, kernel=linear; total time=   7.0s\n",
            "[CV] END .....................C=66, gamma=0.1, kernel=linear; total time=   7.2s\n",
            "[CV] END .....................C=66, gamma=0.1, kernel=linear; total time=   6.3s\n",
            "[CV] END .....................C=66, gamma=0.1, kernel=linear; total time=  10.2s\n",
            "[CV] END .....................C=66, gamma=0.1, kernel=linear; total time=   7.5s\n",
            "[CV] END .......................C=66, gamma=0.01, kernel=rbf; total time=   0.6s\n",
            "[CV] END .......................C=66, gamma=0.01, kernel=rbf; total time=   0.6s\n",
            "[CV] END .......................C=66, gamma=0.01, kernel=rbf; total time=   0.7s\n",
            "[CV] END .......................C=66, gamma=0.01, kernel=rbf; total time=   0.7s\n",
            "[CV] END .......................C=66, gamma=0.01, kernel=rbf; total time=   0.6s\n",
            "[CV] END ....................C=66, gamma=0.01, kernel=linear; total time=   7.1s\n",
            "[CV] END ....................C=66, gamma=0.01, kernel=linear; total time=   7.1s\n",
            "[CV] END ....................C=66, gamma=0.01, kernel=linear; total time=   6.0s\n",
            "[CV] END ....................C=66, gamma=0.01, kernel=linear; total time=  10.3s\n",
            "[CV] END ....................C=66, gamma=0.01, kernel=linear; total time=   7.1s\n",
            "[CV] END ......................C=66, gamma=0.001, kernel=rbf; total time=   0.5s\n",
            "[CV] END ......................C=66, gamma=0.001, kernel=rbf; total time=   0.5s\n",
            "[CV] END ......................C=66, gamma=0.001, kernel=rbf; total time=   0.5s\n",
            "[CV] END ......................C=66, gamma=0.001, kernel=rbf; total time=   0.5s\n",
            "[CV] END ......................C=66, gamma=0.001, kernel=rbf; total time=   0.5s\n",
            "[CV] END ...................C=66, gamma=0.001, kernel=linear; total time=   7.3s\n",
            "[CV] END ...................C=66, gamma=0.001, kernel=linear; total time=   6.9s\n",
            "[CV] END ...................C=66, gamma=0.001, kernel=linear; total time=   6.5s\n",
            "[CV] END ...................C=66, gamma=0.001, kernel=linear; total time=  10.2s\n",
            "[CV] END ...................C=66, gamma=0.001, kernel=linear; total time=   7.1s\n",
            "[CV] END .........................C=100, gamma=1, kernel=rbf; total time=   1.4s\n",
            "[CV] END .........................C=100, gamma=1, kernel=rbf; total time=   1.2s\n",
            "[CV] END .........................C=100, gamma=1, kernel=rbf; total time=   1.1s\n",
            "[CV] END .........................C=100, gamma=1, kernel=rbf; total time=   1.1s\n",
            "[CV] END .........................C=100, gamma=1, kernel=rbf; total time=   1.1s\n",
            "[CV] END ......................C=100, gamma=1, kernel=linear; total time=  10.2s\n",
            "[CV] END ......................C=100, gamma=1, kernel=linear; total time=   8.8s\n",
            "[CV] END ......................C=100, gamma=1, kernel=linear; total time=   9.0s\n",
            "[CV] END ......................C=100, gamma=1, kernel=linear; total time=  11.4s\n",
            "[CV] END ......................C=100, gamma=1, kernel=linear; total time=  11.4s\n",
            "[CV] END .......................C=100, gamma=0.1, kernel=rbf; total time=   1.1s\n",
            "[CV] END .......................C=100, gamma=0.1, kernel=rbf; total time=   1.1s\n",
            "[CV] END .......................C=100, gamma=0.1, kernel=rbf; total time=   1.0s\n",
            "[CV] END .......................C=100, gamma=0.1, kernel=rbf; total time=   1.3s\n",
            "[CV] END .......................C=100, gamma=0.1, kernel=rbf; total time=   1.2s\n",
            "[CV] END ....................C=100, gamma=0.1, kernel=linear; total time=  10.0s\n",
            "[CV] END ....................C=100, gamma=0.1, kernel=linear; total time=   9.3s\n",
            "[CV] END ....................C=100, gamma=0.1, kernel=linear; total time=   8.7s\n",
            "[CV] END ....................C=100, gamma=0.1, kernel=linear; total time=  11.0s\n",
            "[CV] END ....................C=100, gamma=0.1, kernel=linear; total time=  11.0s\n",
            "[CV] END ......................C=100, gamma=0.01, kernel=rbf; total time=   0.6s\n",
            "[CV] END ......................C=100, gamma=0.01, kernel=rbf; total time=   0.6s\n",
            "[CV] END ......................C=100, gamma=0.01, kernel=rbf; total time=   0.6s\n",
            "[CV] END ......................C=100, gamma=0.01, kernel=rbf; total time=   0.6s\n",
            "[CV] END ......................C=100, gamma=0.01, kernel=rbf; total time=   0.6s\n",
            "[CV] END ...................C=100, gamma=0.01, kernel=linear; total time=  10.3s\n",
            "[CV] END ...................C=100, gamma=0.01, kernel=linear; total time=   9.2s\n",
            "[CV] END ...................C=100, gamma=0.01, kernel=linear; total time=   9.1s\n",
            "[CV] END ...................C=100, gamma=0.01, kernel=linear; total time=  10.7s\n",
            "[CV] END ...................C=100, gamma=0.01, kernel=linear; total time=  11.1s\n",
            "[CV] END .....................C=100, gamma=0.001, kernel=rbf; total time=   0.5s\n",
            "[CV] END .....................C=100, gamma=0.001, kernel=rbf; total time=   0.5s\n",
            "[CV] END .....................C=100, gamma=0.001, kernel=rbf; total time=   0.5s\n",
            "[CV] END .....................C=100, gamma=0.001, kernel=rbf; total time=   0.5s\n",
            "[CV] END .....................C=100, gamma=0.001, kernel=rbf; total time=   0.5s\n",
            "[CV] END ..................C=100, gamma=0.001, kernel=linear; total time=  10.0s\n",
            "[CV] END ..................C=100, gamma=0.001, kernel=linear; total time=   9.0s\n",
            "[CV] END ..................C=100, gamma=0.001, kernel=linear; total time=   9.4s\n",
            "[CV] END ..................C=100, gamma=0.001, kernel=linear; total time=  11.0s\n",
            "[CV] END ..................C=100, gamma=0.001, kernel=linear; total time=  10.5s\n"
          ]
        },
        {
          "data": {
            "text/plain": [
              "GridSearchCV(estimator=SVC(),\n",
              "             param_grid={'C': [1, 33, 66, 100], 'gamma': [1, 0.1, 0.01, 0.001],\n",
              "                         'kernel': ['rbf', 'linear']},\n",
              "             verbose=2)"
            ]
          },
          "execution_count": 14,
          "metadata": {},
          "output_type": "execute_result"
        }
      ],
      "source": [
        "# (오래걸림)sklearn의 GridSearchCV를 이용해서 최적의 파라미터 그리드 서치 \n",
        "grid = GridSearchCV(SVC(),param_grid,refit=True,verbose=2)\n",
        "grid.fit(X_train_1,Y_train)"
      ]
    },
    {
      "cell_type": "code",
      "execution_count": null,
      "id": "d2c8b59a",
      "metadata": {
        "id": "d2c8b59a",
        "outputId": "229b930e-4925-43aa-f26a-c9d796d9b73c"
      },
      "outputs": [
        {
          "name": "stdout",
          "output_type": "stream",
          "text": [
            "SVC(C=33, gamma=0.01)\n"
          ]
        }
      ],
      "source": [
        "print(grid.best_estimator_)"
      ]
    },
    {
      "cell_type": "markdown",
      "id": "f2716296",
      "metadata": {
        "id": "f2716296"
      },
      "source": [
        "# 📌 Feature Selection "
      ]
    },
    {
      "cell_type": "markdown",
      "id": "8c03df16",
      "metadata": {
        "id": "8c03df16"
      },
      "source": [
        "## 변수 중요도 알아보기 \n",
        "* 출처 : https://www.baeldung.com/cs/ml-feature-importance"
      ]
    },
    {
      "cell_type": "code",
      "execution_count": null,
      "id": "869d2a01",
      "metadata": {
        "id": "869d2a01",
        "outputId": "f9b33080-6530-49ec-8f9c-1f868b1c0c81"
      },
      "outputs": [
        {
          "name": "stdout",
          "output_type": "stream",
          "text": [
            "0.8553571428571429\n",
            "0.855379188712522\n"
          ]
        }
      ],
      "source": [
        "# 🍊🍊🍊🍊🍊🍊🍊🍊🍊🍊🍊🍊🍊🍊🍊🍊🍊🍊🍊🍊\n",
        "# 🍊🍊🍊 model_tuned 에서 위의 GridSearch 결과를 바탕으로 hyperprarameter 값 조정할 것  🍊🍊🍊 🍊🍊🍊 \n",
        "model_2 = sklearn.svm.SVC(kernel='rbf', gamma=0.01, C=33)  # 모델 객체 생성 \n",
        "model_2.fit(X_train_1, Y_train)  # 데이터에 모델 훈련시키기 \n",
        "pred = model_2.predict(X_val_1)  # X_test 를 모델에 집어넣고 예측\n",
        "print(f1_score(Y_val,pred,average='macro'))\n",
        "print(accuracy_score(Y_val,pred))"
      ]
    },
    {
      "cell_type": "markdown",
      "id": "05430799",
      "metadata": {
        "id": "05430799"
      },
      "source": [
        "### Permutation Feature Importance\n",
        "* Permutation Importance는 모델을 학습시킨 뒤, 특정 feature의 데이터를 shuffle 했을 때, 검증 데이터 셋에 대한 예측성능을 확인하고 feature importance를 계산한다. 즉, shuffle 했을 때 모델의 성능이 떨어지면, 중요한 feature 인거고 성능이 그대로거나, 좋아지면 중요하지 않은 feature 이다. 예를 들어 축구팀에 있어서 한 선수를 빼고 대회를 진행했을 때 성적이 떨어지면 그 선수가 좋은선수, 성적이 그대로이거나 올라가면 그저 그런 선수거나 팀에 해가되는 선수라는 것이다. \n",
        "\n",
        " \n",
        "\n",
        "* Permutation Importance 장점\n",
        "\n",
        "1. 계산이 빠르다\n",
        "2. 사용범위가 넓고 이해하기 쉽다\n",
        "3. 일관된 feature의 중요도를 측정할 수 있다.\n",
        "\n",
        "* 참고 : https://hong-yp-ml-records.tistory.com/51"
      ]
    },
    {
      "cell_type": "code",
      "execution_count": null,
      "id": "9ffc4fc4",
      "metadata": {
        "id": "9ffc4fc4",
        "outputId": "7b2c85ba-ae12-4eb7-b232-800464fc0f06"
      },
      "outputs": [
        {
          "data": {
            "text/html": [
              "\n",
              "    <style>\n",
              "    table.eli5-weights tr:hover {\n",
              "        filter: brightness(85%);\n",
              "    }\n",
              "</style>\n",
              "\n",
              "\n",
              "\n",
              "    \n",
              "\n",
              "    \n",
              "\n",
              "    \n",
              "\n",
              "    \n",
              "\n",
              "    \n",
              "\n",
              "    \n",
              "\n",
              "\n",
              "    \n",
              "\n",
              "    \n",
              "\n",
              "    \n",
              "\n",
              "    \n",
              "\n",
              "    \n",
              "\n",
              "    \n",
              "\n",
              "\n",
              "    \n",
              "\n",
              "    \n",
              "\n",
              "    \n",
              "\n",
              "    \n",
              "\n",
              "    \n",
              "        <table class=\"eli5-weights eli5-feature-importances\" style=\"border-collapse: collapse; border: none; margin-top: 0em; table-layout: auto;\">\n",
              "    <thead>\n",
              "    <tr style=\"border: none;\">\n",
              "        <th style=\"padding: 0 1em 0 0.5em; text-align: right; border: none;\">Weight</th>\n",
              "        <th style=\"padding: 0 0.5em 0 0.5em; text-align: left; border: none;\">Feature</th>\n",
              "    </tr>\n",
              "    </thead>\n",
              "    <tbody>\n",
              "    \n",
              "        <tr style=\"background-color: hsl(120, 100.00%, 80.00%); border: none;\">\n",
              "            <td style=\"padding: 0 1em 0 0.5em; text-align: right; border: none;\">\n",
              "                0.2156\n",
              "                \n",
              "                    &plusmn; 0.0191\n",
              "                \n",
              "            </td>\n",
              "            <td style=\"padding: 0 0.5em 0 0.5em; text-align: left; border: none;\">\n",
              "                champExp\n",
              "            </td>\n",
              "        </tr>\n",
              "    \n",
              "        <tr style=\"background-color: hsl(120, 100.00%, 80.21%); border: none;\">\n",
              "            <td style=\"padding: 0 1em 0 0.5em; text-align: right; border: none;\">\n",
              "                0.2124\n",
              "                \n",
              "                    &plusmn; 0.0306\n",
              "                \n",
              "            </td>\n",
              "            <td style=\"padding: 0 0.5em 0 0.5em; text-align: left; border: none;\">\n",
              "                norm_totalAttack\n",
              "            </td>\n",
              "        </tr>\n",
              "    \n",
              "        <tr style=\"background-color: hsl(120, 100.00%, 86.33%); border: none;\">\n",
              "            <td style=\"padding: 0 1em 0 0.5em; text-align: right; border: none;\">\n",
              "                0.1252\n",
              "                \n",
              "                    &plusmn; 0.0278\n",
              "                \n",
              "            </td>\n",
              "            <td style=\"padding: 0 0.5em 0 0.5em; text-align: left; border: none;\">\n",
              "                turKills\n",
              "            </td>\n",
              "        </tr>\n",
              "    \n",
              "        <tr style=\"background-color: hsl(120, 100.00%, 89.15%); border: none;\">\n",
              "            <td style=\"padding: 0 1em 0 0.5em; text-align: right; border: none;\">\n",
              "                0.0900\n",
              "                \n",
              "                    &plusmn; 0.0289\n",
              "                \n",
              "            </td>\n",
              "            <td style=\"padding: 0 0.5em 0 0.5em; text-align: left; border: none;\">\n",
              "                norm_turKills\n",
              "            </td>\n",
              "        </tr>\n",
              "    \n",
              "        <tr style=\"background-color: hsl(120, 100.00%, 92.84%); border: none;\">\n",
              "            <td style=\"padding: 0 1em 0 0.5em; text-align: right; border: none;\">\n",
              "                0.0497\n",
              "                \n",
              "                    &plusmn; 0.0220\n",
              "                \n",
              "            </td>\n",
              "            <td style=\"padding: 0 0.5em 0 0.5em; text-align: left; border: none;\">\n",
              "                KDA\n",
              "            </td>\n",
              "        </tr>\n",
              "    \n",
              "        <tr style=\"background-color: hsl(120, 100.00%, 93.16%); border: none;\">\n",
              "            <td style=\"padding: 0 1em 0 0.5em; text-align: right; border: none;\">\n",
              "                0.0466\n",
              "                \n",
              "                    &plusmn; 0.0203\n",
              "                \n",
              "            </td>\n",
              "            <td style=\"padding: 0 0.5em 0 0.5em; text-align: left; border: none;\">\n",
              "                assists\n",
              "            </td>\n",
              "        </tr>\n",
              "    \n",
              "        <tr style=\"background-color: hsl(120, 100.00%, 95.25%); border: none;\">\n",
              "            <td style=\"padding: 0 1em 0 0.5em; text-align: right; border: none;\">\n",
              "                0.0277\n",
              "                \n",
              "                    &plusmn; 0.0162\n",
              "                \n",
              "            </td>\n",
              "            <td style=\"padding: 0 0.5em 0 0.5em; text-align: left; border: none;\">\n",
              "                tDDealt\n",
              "            </td>\n",
              "        </tr>\n",
              "    \n",
              "        <tr style=\"background-color: hsl(120, 100.00%, 95.26%); border: none;\">\n",
              "            <td style=\"padding: 0 1em 0 0.5em; text-align: right; border: none;\">\n",
              "                0.0276\n",
              "                \n",
              "                    &plusmn; 0.0124\n",
              "                \n",
              "            </td>\n",
              "            <td style=\"padding: 0 0.5em 0 0.5em; text-align: left; border: none;\">\n",
              "                kills\n",
              "            </td>\n",
              "        </tr>\n",
              "    \n",
              "        <tr style=\"background-color: hsl(120, 100.00%, 95.39%); border: none;\">\n",
              "            <td style=\"padding: 0 1em 0 0.5em; text-align: right; border: none;\">\n",
              "                0.0265\n",
              "                \n",
              "                    &plusmn; 0.0184\n",
              "                \n",
              "            </td>\n",
              "            <td style=\"padding: 0 0.5em 0 0.5em; text-align: left; border: none;\">\n",
              "                norm_totalKills\n",
              "            </td>\n",
              "        </tr>\n",
              "    \n",
              "        <tr style=\"background-color: hsl(120, 100.00%, 95.69%); border: none;\">\n",
              "            <td style=\"padding: 0 1em 0 0.5em; text-align: right; border: none;\">\n",
              "                0.0241\n",
              "                \n",
              "                    &plusmn; 0.0084\n",
              "                \n",
              "            </td>\n",
              "            <td style=\"padding: 0 0.5em 0 0.5em; text-align: left; border: none;\">\n",
              "                norm_tDDealt\n",
              "            </td>\n",
              "        </tr>\n",
              "    \n",
              "        <tr style=\"background-color: hsl(120, 100.00%, 97.24%); border: none;\">\n",
              "            <td style=\"padding: 0 1em 0 0.5em; text-align: right; border: none;\">\n",
              "                0.0127\n",
              "                \n",
              "                    &plusmn; 0.0214\n",
              "                \n",
              "            </td>\n",
              "            <td style=\"padding: 0 0.5em 0 0.5em; text-align: left; border: none;\">\n",
              "                deaths\n",
              "            </td>\n",
              "        </tr>\n",
              "    \n",
              "        <tr style=\"background-color: hsl(120, 100.00%, 97.52%); border: none;\">\n",
              "            <td style=\"padding: 0 1em 0 0.5em; text-align: right; border: none;\">\n",
              "                0.0109\n",
              "                \n",
              "                    &plusmn; 0.0091\n",
              "                \n",
              "            </td>\n",
              "            <td style=\"padding: 0 0.5em 0 0.5em; text-align: left; border: none;\">\n",
              "                gold\n",
              "            </td>\n",
              "        </tr>\n",
              "    \n",
              "        <tr style=\"background-color: hsl(120, 100.00%, 98.42%); border: none;\">\n",
              "            <td style=\"padding: 0 1em 0 0.5em; text-align: right; border: none;\">\n",
              "                0.0057\n",
              "                \n",
              "                    &plusmn; 0.0115\n",
              "                \n",
              "            </td>\n",
              "            <td style=\"padding: 0 0.5em 0 0.5em; text-align: left; border: none;\">\n",
              "                tDDealtChamp\n",
              "            </td>\n",
              "        </tr>\n",
              "    \n",
              "        <tr style=\"background-color: hsl(120, 100.00%, 99.20%); border: none;\">\n",
              "            <td style=\"padding: 0 1em 0 0.5em; text-align: right; border: none;\">\n",
              "                0.0022\n",
              "                \n",
              "                    &plusmn; 0.0052\n",
              "                \n",
              "            </td>\n",
              "            <td style=\"padding: 0 0.5em 0 0.5em; text-align: left; border: none;\">\n",
              "                norm_tDDealtChamp\n",
              "            </td>\n",
              "        </tr>\n",
              "    \n",
              "    \n",
              "    </tbody>\n",
              "</table>\n",
              "    \n",
              "\n",
              "    \n",
              "\n",
              "\n",
              "    \n",
              "\n",
              "    \n",
              "\n",
              "    \n",
              "\n",
              "    \n",
              "\n",
              "    \n",
              "\n",
              "    \n",
              "\n",
              "\n",
              "\n"
            ],
            "text/plain": [
              "<IPython.core.display.HTML object>"
            ]
          },
          "execution_count": 21,
          "metadata": {},
          "output_type": "execute_result"
        }
      ],
      "source": [
        "perm = PermutationImportance(model_2, scoring = \"f1\", random_state = 42).fit(X_val_1, Y_val)\n",
        "eli5.show_weights(perm, top = 80, feature_names = X_val_1.columns.tolist())"
      ]
    },
    {
      "cell_type": "markdown",
      "id": "3de34e2a",
      "metadata": {
        "id": "3de34e2a"
      },
      "source": [
        "* 결과는 Weight와 Feature로 이루어져 있는데 Weight를 보면 +-로 이루어져 있음을 알 수 있다.\n",
        "* 높이 있을수록 (weight가 +일수록) 중요한 변수이고 밑에 있을수록 (weight가 -일수록) 중요하지 않은 변수이다.\n",
        "\n",
        "* **상관계수값에 따른 변수 중요도와 차이가 있음!**"
      ]
    },
    {
      "cell_type": "code",
      "execution_count": null,
      "id": "1b300aa6",
      "metadata": {
        "id": "1b300aa6"
      },
      "outputs": [],
      "source": [
        "# permutation feature selection을 기반으로 select한 훈련데이터(tDDealt, gold, KDA 삭제)\n",
        "feature_selected =[\n",
        "'champExp',\n",
        "'norm_totalAttack',\n",
        "'turKills',\n",
        "'norm_turKills',\n",
        "'KDA',\n",
        "'assists',\n",
        "'tDDealt',\n",
        "'kills',\n",
        "'norm_totalKills',\n",
        "'norm_tDDealt',\n",
        "'deaths',\n",
        "'gold',\n",
        "'tDDealtChamp']\n",
        "X_train_2 = X_train_1[feature_selected]\n",
        "X_val_2 = X_val_1[feature_selected]\n",
        "X_test_2 = X_test_1[feature_selected]"
      ]
    },
    {
      "cell_type": "code",
      "execution_count": null,
      "id": "6d5889a1",
      "metadata": {
        "id": "6d5889a1",
        "outputId": "b3e85c04-2f96-4f75-b125-4950d71a7134"
      },
      "outputs": [
        {
          "name": "stdout",
          "output_type": "stream",
          "text": [
            "0.8536082345951292\n",
            "0.8536155202821869\n"
          ]
        }
      ],
      "source": [
        "model_3 = sklearn.svm.SVC(kernel='rbf', gamma=0.01, C=33)  # 모델 객체 생성 \n",
        "model_3.fit(X_train_2, Y_train)  # 데이터에 모델 훈련시키기 \n",
        "pred = model_3.predict(X_val_2)  # X_test 를 모델에 집어넣고 예측\n",
        "print(f1_score(Y_val,pred,average='macro'))\n",
        "print(accuracy_score(Y_val,pred))"
      ]
    },
    {
      "cell_type": "code",
      "execution_count": null,
      "id": "6deef415",
      "metadata": {
        "scrolled": true,
        "id": "6deef415",
        "outputId": "d537c180-6566-4da3-c512-67000512f099"
      },
      "outputs": [
        {
          "name": "stdout",
          "output_type": "stream",
          "text": [
            "f1 score :  0.8536082345951292\n",
            "accuracy :  0.8536155202821869\n"
          ]
        }
      ],
      "source": [
        "# X_test 에 대한 accuracy 구하기\n",
        "pred = model_3.predict(X_val_2)  # X_test 를 모델에 집어넣고 예측\n",
        "print('f1 score : ', f1_score(Y_val,pred,average='macro'))\n",
        "print('accuracy : ', accuracy_score(Y_val,pred))"
      ]
    },
    {
      "cell_type": "code",
      "execution_count": null,
      "id": "63cc9b71",
      "metadata": {
        "id": "63cc9b71",
        "outputId": "68c04f78-df1e-48d4-ff15-90c5170257a5"
      },
      "outputs": [
        {
          "name": "stdout",
          "output_type": "stream",
          "text": [
            "[[244  49]\n",
            " [ 34 240]]\n",
            "              precision    recall  f1-score   support\n",
            "\n",
            "           0       0.88      0.83      0.85       293\n",
            "           1       0.83      0.88      0.85       274\n",
            "\n",
            "    accuracy                           0.85       567\n",
            "   macro avg       0.85      0.85      0.85       567\n",
            "weighted avg       0.85      0.85      0.85       567\n",
            "\n"
          ]
        }
      ],
      "source": [
        "model_predictions = model_3.predict(X_val_2)\n",
        "print(confusion_matrix(Y_val,model_predictions))\n",
        "print(classification_report( Y_val,model_predictions))#Output"
      ]
    }
  ],
  "metadata": {
    "kernelspec": {
      "display_name": "Python 3 (ipykernel)",
      "language": "python",
      "name": "python3"
    },
    "language_info": {
      "codemirror_mode": {
        "name": "ipython",
        "version": 3
      },
      "file_extension": ".py",
      "mimetype": "text/x-python",
      "name": "python",
      "nbconvert_exporter": "python",
      "pygments_lexer": "ipython3",
      "version": "3.9.12"
    },
    "toc": {
      "base_numbering": 1,
      "nav_menu": {},
      "number_sections": true,
      "sideBar": true,
      "skip_h1_title": false,
      "title_cell": "Table of Contents",
      "title_sidebar": "Contents",
      "toc_cell": false,
      "toc_position": {
        "height": "calc(100% - 180px)",
        "left": "10px",
        "top": "150px",
        "width": "320px"
      },
      "toc_section_display": true,
      "toc_window_display": true
    },
    "colab": {
      "provenance": [],
      "toc_visible": true,
      "include_colab_link": true
    }
  },
  "nbformat": 4,
  "nbformat_minor": 5
}