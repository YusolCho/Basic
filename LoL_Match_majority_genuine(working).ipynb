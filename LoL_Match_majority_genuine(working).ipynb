{
  "nbformat": 4,
  "nbformat_minor": 0,
  "metadata": {
    "colab": {
      "provenance": [],
      "toc_visible": true,
      "mount_file_id": "1Qm9kEdcHsRlW9-Y-27HDf7ze1Fly--hy",
      "authorship_tag": "ABX9TyPW5GAQffwHuagX5ReTpAAQ",
      "include_colab_link": true
    },
    "kernelspec": {
      "name": "python3",
      "display_name": "Python 3"
    },
    "language_info": {
      "name": "python"
    },
    "gpuClass": "standard"
  },
  "cells": [
    {
      "cell_type": "markdown",
      "metadata": {
        "id": "view-in-github",
        "colab_type": "text"
      },
      "source": [
        "<a href=\"https://colab.research.google.com/github/YusolCho/Basic/blob/main/LoL_Match_majority_genuine(working).ipynb\" target=\"_parent\"><img src=\"https://colab.research.google.com/assets/colab-badge.svg\" alt=\"Open In Colab\"/></a>"
      ]
    },
    {
      "cell_type": "code",
      "source": [],
      "metadata": {
        "id": "2lYOTKM4zNDT"
      },
      "execution_count": null,
      "outputs": []
    },
    {
      "cell_type": "markdown",
      "source": [
        "# puuidlist.csv 파일을 puuid_list 리스트로 불러오기 \n"
      ],
      "metadata": {
        "id": "7NCtywc31IPU"
      }
    },
    {
      "cell_type": "code",
      "execution_count": null,
      "metadata": {
        "id": "fW-b22Nrt-BW"
      },
      "outputs": [],
      "source": [
        "import csv \n",
        "\n",
        "puuid_list = []\n",
        "\n",
        "with open('/content/puuidfile.csv','r',newline='') as f:\n",
        "    reader = csv.reader(f)\n",
        "    for row in reader:\n",
        "        puuid_list.append(row)\n",
        "\n",
        "print(puuid_list)"
      ]
    },
    {
      "cell_type": "code",
      "source": [
        "# 중복 괄호 제거용 코드\n",
        "a = []  \n",
        "a.extend(puuid_list[0])  \n",
        "print(a) "
      ],
      "metadata": {
        "id": "HCCRVBK80oLh"
      },
      "execution_count": null,
      "outputs": []
    },
    {
      "cell_type": "code",
      "source": [
        "puuid_list = a\n",
        "print(puuid_list)"
      ],
      "metadata": {
        "id": "4X7XksgU0xrk"
      },
      "execution_count": null,
      "outputs": []
    },
    {
      "cell_type": "markdown",
      "source": [
        "# 각 puuid 마다 match id 100개 불러오기\n",
        "* 가능..할까..\n"
      ],
      "metadata": {
        "id": "I-7yQXWv1WAa"
      }
    },
    {
      "cell_type": "markdown",
      "source": [
        "* puuid 하나로 여래개의 매치가 안불러와진다\n",
        "# **summon id, name, puuid 까지 다시 불러오자. 양을 늘려야한다.**"
      ],
      "metadata": {
        "id": "i4zow5OWyZVT"
      }
    },
    {
      "cell_type": "code",
      "source": [
        "# rank GOLD division I 는 205개가 전부인 걸 모르고 만든 잘못된 코드. \n",
        "import requests\n",
        "import pandas as pd\n",
        "\n",
        "# Replace {api_key} with your Riot API key\n",
        "api_key = 'RGAPI-3f7de791-cd0b-4876-8d0a-d75cc191ae1f'\n",
        "\n",
        "# Set up the base URL for the Riot API\n",
        "base_url = 'https://{region}.api.riotgames.com'\n",
        "\n",
        "# Set up the region and rank/division criteria\n",
        "rank = 'GOLD'\n",
        "division = 'I'\n",
        "region = 'kr'\n",
        "\n",
        "# Set up an empty list to store the user data\n",
        "user_data = []\n",
        "\n",
        "# Make requests until we've collected data for 10000 players\n",
        "while len(user_data) < 10000:\n",
        "    # Make a request to the League API for users who meet the criteria\n",
        "    league_url = base_url.format(region=region) + '/lol/league-exp/v4/entries/RANKED_SOLO_5x5/{tier}/{division}'\n",
        "    headers = {'X-Riot-Token': api_key}\n",
        "    response = requests.get(league_url.format(tier=rank, division=division), headers=headers)\n",
        "    league_data = response.json()\n",
        "    print(f\"Response: {response.text}\")\n",
        "    print(f\"League data type: {type(league_data)}\")\n",
        "    \n",
        "    # If there's no data left, break the loop\n",
        "    if not league_data:\n",
        "        break\n",
        "    \n",
        "    # Iterate over each user and collect their data\n",
        "    for user in league_data:\n",
        "        user_dict = {\n",
        "            'summoner_id': user['summonerId'],\n",
        "            'summoner_name': user['summonerName']\n",
        "        }\n",
        "        user_data.append(user_dict)\n",
        "        \n",
        "        # If we've collected data for 10000 players, break the loop\n",
        "        if len(user_data) == 10000:\n",
        "            break\n",
        "    \n",
        "    # Increment the page number for the next request\n",
        "    params['page'] += 1\n",
        "\n",
        "# Convert the list of user data to a pandas DataFrame\n",
        "df = pd.DataFrame(user_data)\n",
        "\n",
        "# Print the DataFrame\n",
        "print(df)\n",
        "   \n"
      ],
      "metadata": {
        "id": "R1SWOl-_yTxQ"
      },
      "execution_count": null,
      "outputs": []
    },
    {
      "cell_type": "code",
      "source": [
        "df.loc[df['summoner_name'] == '응애소나'] #예상대로임. 한국에 GOlD 유저 중 division이 I인 건 205개가 전부였던 것... "
      ],
      "metadata": {
        "id": "iigZhyLl1Z4W"
      },
      "execution_count": null,
      "outputs": []
    },
    {
      "cell_type": "markdown",
      "source": [
        "# 그렇다면 division I, II, III, IV에 대해 모두 만들어봐야할 것 같다. "
      ],
      "metadata": {
        "id": "-2I4AtR62Lc-"
      }
    },
    {
      "cell_type": "code",
      "source": [
        "import requests\n",
        "import pandas as pd\n",
        "\n",
        "# Replace {api_key} with your Riot API key\n",
        "api_key = 'RGAPI-3f7de791-cd0b-4876-8d0a-d75cc191ae1f'\n",
        "\n",
        "# Set up the base URL for the Riot API\n",
        "base_url = 'https://{region}.api.riotgames.com'\n",
        "\n",
        "# Set up the regions you're interested in\n",
        "regions = ['kr']\n",
        "\n",
        "# Set up the rank and division criteria\n",
        "rank = 'GOLD'\n",
        "division = 'I'\n",
        "\n",
        "# Set up an empty list to store the user data\n",
        "user_data_1 = []\n",
        "\n",
        "# Iterate over each region\n",
        "for region in regions:\n",
        "    # Set up the League API endpoint URL\n",
        "    league_url = base_url.format(region=region) + '/lol/league-exp/v4/entries/RANKED_SOLO_5x5/{tier}/{division}'\n",
        "    # Set up the headers for the API requests\n",
        "    headers = {'X-Riot-Token': api_key}\n",
        "    \n",
        "    # Make a request to the League API for users who meet the criteria\n",
        "    response = requests.get(league_url.format(tier=rank, division=division), headers=headers)\n",
        "    league_data = response.json()\n",
        "   \n",
        "\n",
        "    \n",
        "    # Iterate over each user and collect their data\n",
        "    for user in league_data:\n",
        "        user_dict_1 = {\n",
        "            'summoner_id' : user['summonerId'],\n",
        "            'summoner_name': user['summonerName'],\n",
        "#            'wins': user['wins'],\n",
        "#           'losses': user['losses'],\n",
        "#            'win_ratio': user['wins'] / (user['wins'] + user['losses'])\n",
        "        }\n",
        "        user_data_1.append(user_dict_1)\n",
        "\n",
        "# Convert the list of user data to a pandas DataFrame\n",
        "df_1 = pd.DataFrame(user_data_1)\n",
        "\n",
        "# Print the DataFrame\n",
        "print(df_1)"
      ],
      "metadata": {
        "colab": {
          "base_uri": "https://localhost:8080/"
        },
        "id": "e_R5wJlS2-cR",
        "outputId": "6762f679-e745-44fb-81a5-735473a45a9d"
      },
      "execution_count": null,
      "outputs": [
        {
          "output_type": "stream",
          "name": "stdout",
          "text": [
            "                                          summoner_id    summoner_name\n",
            "0    xn87B73DmRFH_2m42rX7B9eTe9kWWMKMSG97yXO2UlMf2lep           J꾸짖을 갈\n",
            "1    QPi-8CUDhm_mYttzQKpDR3EYhgRraB05V-DpX21HVmwN3DYG              푸 투\n",
            "2    wO6e2sgb8s5qexhWcAOV60yTn6cppq4kVTNLnB4P9HqhKqGP         마법소녀 모야삡\n",
            "3    avNBhDDrbGeoKshj0k4RBSgKU7zXgJA0p60UbXvDFgNLtvkh             응애소나\n",
            "4    YRpk_hdXNUS_7QNh3h9VV5ReoiMcxvLSMK1_PTsWYdNyDarA            막타의호흡\n",
            "..                                                ...              ...\n",
            "200  ikUYIrmsZaj7GaMkfQQhun9IrSMU0Cd-daJU4pslu1WyrE8y  Black Kimchi AD\n",
            "201  ddJdZucVKT6mxHiW6g6MZqDcjYUriLHYPp9ePSyR8kTgmQtN           llbdll\n",
            "202  qO5A-9YbwdIXEb9IxEvuReJg7k8DPEJnWnQwdjTtw-tHOPJY          그녀가 울었다\n",
            "203   LrZnXxVcBvdR7oLJ1g_bK8dynpfQXLqnED2ab_cVifc0C28            방패형미드\n",
            "204   x1Zj_f-Oc0p6Bwt5Ae4LB1bjwpowHB_50p5iomHaiiYQY_o              아펠몬\n",
            "\n",
            "[205 rows x 2 columns]\n"
          ]
        }
      ]
    },
    {
      "cell_type": "code",
      "source": [
        "import requests\n",
        "import pandas as pd\n",
        "\n",
        "# Replace {api_key} with your Riot API key\n",
        "api_key = 'RGAPI-3f7de791-cd0b-4876-8d0a-d75cc191ae1f'\n",
        "\n",
        "# Set up the base URL for the Riot API\n",
        "base_url = 'https://{region}.api.riotgames.com'\n",
        "\n",
        "# Set up the regions you're interested in\n",
        "regions = ['kr']\n",
        "\n",
        "# Set up the rank and division criteria\n",
        "rank = 'GOLD'\n",
        "division = 'II'\n",
        "\n",
        "# Set up an empty list to store the user data\n",
        "user_data_2 = []\n",
        "\n",
        "# Iterate over each region\n",
        "for region in regions:\n",
        "    # Set up the League API endpoint URL\n",
        "    league_url = base_url.format(region=region) + '/lol/league-exp/v4/entries/RANKED_SOLO_5x5/{tier}/{division}'\n",
        "    # Set up the headers for the API requests\n",
        "    headers = {'X-Riot-Token': api_key}\n",
        "    \n",
        "    # Make a request to the League API for users who meet the criteria\n",
        "    response = requests.get(league_url.format(tier=rank, division=division), headers=headers)\n",
        "    league_data = response.json()\n",
        "   \n",
        "\n",
        "    \n",
        "    # Iterate over each user and collect their data\n",
        "    for user in league_data:\n",
        "        user_dict_2 = {\n",
        "            'summoner_id' : user['summonerId'],\n",
        "            'summoner_name': user['summonerName'],\n",
        "#            'wins': user['wins'],\n",
        "#           'losses': user['losses'],\n",
        "#            'win_ratio': user['wins'] / (user['wins'] + user['losses'])\n",
        "        }\n",
        "        user_data_2.append(user_dict_2)\n",
        "\n",
        "# Convert the list of user data to a pandas DataFrame\n",
        "df_2 = pd.DataFrame(user_data_2)\n",
        "\n",
        "# Print the DataFrame\n",
        "print(df_2)"
      ],
      "metadata": {
        "colab": {
          "base_uri": "https://localhost:8080/"
        },
        "id": "f8FABQfc3QjD",
        "outputId": "100564ad-d3e3-4934-e1fd-20f4b1e16a4f"
      },
      "execution_count": null,
      "outputs": [
        {
          "output_type": "stream",
          "name": "stdout",
          "text": [
            "                                          summoner_id     summoner_name\n",
            "0    dvPo35tCj1LM_Kj6haByu0C_GtbBoAfB3ozdqGDklpU9wp4l             어푸 어푸\n",
            "1    BhUmjcY5E5QBkthb3cITEO6nAAmi55o39tGq5UXRH3imfLBF            꽃등심스테끼\n",
            "2    wkkCFP1Pgsd3FdoFVCykuwHhcHVTlco33eBGbfdsEWeXfb9j             김워윅워윅\n",
            "3    q6iXg79PQFxpRgnBGFbOnjYcLCC6sCTWwYKnkYqyTh5elP_Y               강바우\n",
            "4    G6Mep5vNiEyrTNB44RjoOA1OncoFydEKPKsbvtrmmYgYDcHO  서울시립대학교공식홍보대사엄준식\n",
            "..                                                ...               ...\n",
            "200  diVVKLZkrNaZlPJ3Sfh2YoCeZ_T2txJc_f4mwYHASsKUto_Z               엉 습\n",
            "201  sDLUxmQQqB2vDjaiEnZy0DlJB7SXXoSzKLBJ33iHzs_jbDmz       sorry my ad\n",
            "202   L-f8iF1SlM5lTAyGZN4RXSPywJqjhalwN0OPtLeESyB2oWU          세상에서제일많이\n",
            "203  hWMljqyVljr6YV5bsem0ZAEOOD6kj16KoI1KzkgnPmCcE5RD   원거리딜러만합니다원딜만합니다\n",
            "204  9DPjnsBLCTpNULupmhVL07sQfkOJUCvN11TiZ6UOFeGXMSC0               류 창\n",
            "\n",
            "[205 rows x 2 columns]\n"
          ]
        }
      ]
    },
    {
      "cell_type": "code",
      "source": [
        "import requests\n",
        "import pandas as pd\n",
        "\n",
        "# Replace {api_key} with your Riot API key\n",
        "api_key = 'RGAPI-3f7de791-cd0b-4876-8d0a-d75cc191ae1f'\n",
        "\n",
        "# Set up the base URL for the Riot API\n",
        "base_url = 'https://{region}.api.riotgames.com'\n",
        "\n",
        "# Set up the regions you're interested in\n",
        "regions = ['kr']\n",
        "\n",
        "# Set up the rank and division criteria\n",
        "rank = 'GOLD'\n",
        "division = 'III'\n",
        "\n",
        "# Set up an empty list to store the user data\n",
        "user_data_3 = []\n",
        "\n",
        "# Iterate over each region\n",
        "for region in regions:\n",
        "    # Set up the League API endpoint URL\n",
        "    league_url = base_url.format(region=region) + '/lol/league-exp/v4/entries/RANKED_SOLO_5x5/{tier}/{division}'\n",
        "    # Set up the headers for the API requests\n",
        "    headers = {'X-Riot-Token': api_key}\n",
        "    \n",
        "    # Make a request to the League API for users who meet the criteria\n",
        "    response = requests.get(league_url.format(tier=rank, division=division), headers=headers)\n",
        "    league_data = response.json()\n",
        "   \n",
        "\n",
        "    \n",
        "    # Iterate over each user and collect their data\n",
        "    for user in league_data:\n",
        "        user_dict_3 = {\n",
        "            'summoner_id' : user['summonerId'],\n",
        "            'summoner_name': user['summonerName'],\n",
        "#            'wins': user['wins'],\n",
        "#           'losses': user['losses'],\n",
        "#            'win_ratio': user['wins'] / (user['wins'] + user['losses'])\n",
        "        }\n",
        "        user_data_3.append(user_dict_3)\n",
        "\n",
        "# Convert the list of user data to a pandas DataFrame\n",
        "df_3 = pd.DataFrame(user_data_3)\n",
        "\n",
        "# Print the DataFrame\n",
        "print(df_3)"
      ],
      "metadata": {
        "colab": {
          "base_uri": "https://localhost:8080/"
        },
        "id": "3K-ySqm93aq4",
        "outputId": "9d0c792a-c128-4d09-9c61-662476b3ed11"
      },
      "execution_count": null,
      "outputs": [
        {
          "output_type": "stream",
          "name": "stdout",
          "text": [
            "                                          summoner_id     summoner_name\n",
            "0    4VjvrC8IobwvHnW4Q995vxPxQ5lVr7sWj9MT9slgVZqnmlY3  IlIIIlllIIlllIII\n",
            "1    UAm8UctYqu5xOxT-ZT2hjp2wo6ZuoT51nPpmDyftY0MwpPrr            몰가룰루라칸\n",
            "2    slSoD_EJxgNae3ulTlrQUDOoIHeL243GBsDRMHZncLtm6foc          정글시키면갱없음\n",
            "3    x9HRnXZ6NU2ZgBgtoViXMWA03ZvY3JFgihbEHjVoX99lYSIF               엄사단\n",
            "4    Kl07rSZ5Cw5l-z-KRJPPbI__RNnVvkETg_dU6E301tnonCBc             g1 타잔\n",
            "..                                                ...               ...\n",
            "200  wHuIH2CHYDgmLymj6g-PPbR-ZBgpCRMQVeIveM465KyZyR4L          핑크와드좀사라고\n",
            "201   VzpEaUCh8XFGCYjHatrtNNCBpYaXXjfivbAjmD7hMJ254NU               영도닝\n",
            "202   S-LTzp7noNOMNhzLlyRNWyzGJFCq3GOuCg-k2pCMk_wCrqk           유체화와 점멸\n",
            "203   iQOtBHzVv4jQzLlHt1d6YaK-XhoTrZuRHbwRU-imhc3_rMo             샤코샤코샥\n",
            "204   0WO4Kz3qV6AFhmgq-NHQfZuXtsKLSpOPHy5dIFeucG2g6K0    dariousdaegari\n",
            "\n",
            "[205 rows x 2 columns]\n"
          ]
        }
      ]
    },
    {
      "cell_type": "code",
      "source": [
        "import requests\n",
        "import pandas as pd\n",
        "\n",
        "# Replace {api_key} with your Riot API key\n",
        "api_key = 'RGAPI-3f7de791-cd0b-4876-8d0a-d75cc191ae1f'\n",
        "\n",
        "# Set up the base URL for the Riot API\n",
        "base_url = 'https://{region}.api.riotgames.com'\n",
        "\n",
        "# Set up the regions you're interested in\n",
        "regions = ['kr']\n",
        "\n",
        "# Set up the rank and division criteria\n",
        "rank = 'GOLD'\n",
        "division = 'IV'\n",
        "\n",
        "# Set up an empty list to store the user data\n",
        "user_data_4= []\n",
        "\n",
        "# Iterate over each region\n",
        "for region in regions:\n",
        "    # Set up the League API endpoint URL\n",
        "    league_url = base_url.format(region=region) + '/lol/league-exp/v4/entries/RANKED_SOLO_5x5/{tier}/{division}'\n",
        "    # Set up the headers for the API requests\n",
        "    headers = {'X-Riot-Token': api_key}\n",
        "    \n",
        "    # Make a request to the League API for users who meet the criteria\n",
        "    response = requests.get(league_url.format(tier=rank, division=division), headers=headers)\n",
        "    league_data = response.json()\n",
        "   \n",
        "\n",
        "    \n",
        "    # Iterate over each user and collect their data\n",
        "    for user in league_data:\n",
        "        user_dict_4 = {\n",
        "            'summoner_id' : user['summonerId'],\n",
        "            'summoner_name': user['summonerName'],\n",
        "#            'wins': user['wins'],\n",
        "#           'losses': user['losses'],\n",
        "#            'win_ratio': user['wins'] / (user['wins'] + user['losses'])\n",
        "        }\n",
        "        user_data_4.append(user_dict_4)\n",
        "\n",
        "# Convert the list of user data to a pandas DataFrame\n",
        "df_4 = pd.DataFrame(user_data_4)\n",
        "\n",
        "# Print the DataFrame\n",
        "print(df_4)"
      ],
      "metadata": {
        "colab": {
          "base_uri": "https://localhost:8080/"
        },
        "id": "qWaTOE-o3grN",
        "outputId": "1ec95e63-91b3-4a89-f1dd-b582601a7023"
      },
      "execution_count": null,
      "outputs": [
        {
          "output_type": "stream",
          "name": "stdout",
          "text": [
            "                                          summoner_id     summoner_name\n",
            "0    3_EZ-Fxm_pDn2i5K0DKLGMoKBFTPMQb1154vsbJrncpn-yvr  llJJllJJllJJllJJ\n",
            "1    so2Zp2O0OBDU-OvMp59chSkDhdbznq_X64deHKURvOoy34b4   Louise Saunders\n",
            "2    F4dmnRffBTeNAYvZoO0XU1ohb3LMETzT-NCgN_A_M_LnZUvG              까까보조\n",
            "3    Qj6hUm-q0-2Y--O_ggsCesr6CEsRnUoytbrU-mqil9Ah5ORl            따라갈게 진\n",
            "4    S_icUvnjcwYmND_EW0lGtVu9IVfrD07lR4RbVkXCkFSuQRUK              흥콘망콘\n",
            "..                                                ...               ...\n",
            "200   zIDaKOuphmZwbwALh2YSedyg_BkpdUuIxhe8nlhTHHTx2Oc              9947\n",
            "201   sXBgS3cITUDBetjXjBhl_MSkFs8cKtB3gdorZ9zTANa8dWM           원딜권익위원장\n",
            "202  HkGDt23kWtteDpxRi4CtMQcPydUvHbCZNlYns-w8SDPn7Ysc     can i love yu\n",
            "203  sk8JiSljFI5CQVb_VYocdyyYIZUeNI4n56wHTzpd0M9Z_pQV               김우뱅\n",
            "204   fcW_mQEAKAVWQZZA613POVxIgZ8TWHFHvp3ibOLDcOhHoTM        The Videri\n",
            "\n",
            "[205 rows x 2 columns]\n"
          ]
        }
      ]
    },
    {
      "cell_type": "code",
      "source": [
        "# df_1 부터 df_4까지 세로로 합치기 \n",
        "df_gold = pd.concat([df_1, df_2, df_3, df_4])   # row 합치기"
      ],
      "metadata": {
        "id": "8tA5F9JW3rBS"
      },
      "execution_count": null,
      "outputs": []
    },
    {
      "cell_type": "code",
      "source": [
        "print(df_gold.head())\n",
        "print(df_gold.tail())"
      ],
      "metadata": {
        "colab": {
          "base_uri": "https://localhost:8080/"
        },
        "id": "c07yw9M43-jp",
        "outputId": "4ab0e547-526b-4ffc-c0fb-71379f5b73c5"
      },
      "execution_count": null,
      "outputs": [
        {
          "output_type": "stream",
          "name": "stdout",
          "text": [
            "                                        summoner_id summoner_name\n",
            "0  xn87B73DmRFH_2m42rX7B9eTe9kWWMKMSG97yXO2UlMf2lep        J꾸짖을 갈\n",
            "1  QPi-8CUDhm_mYttzQKpDR3EYhgRraB05V-DpX21HVmwN3DYG           푸 투\n",
            "2  wO6e2sgb8s5qexhWcAOV60yTn6cppq4kVTNLnB4P9HqhKqGP      마법소녀 모야삡\n",
            "3  avNBhDDrbGeoKshj0k4RBSgKU7zXgJA0p60UbXvDFgNLtvkh          응애소나\n",
            "4  YRpk_hdXNUS_7QNh3h9VV5ReoiMcxvLSMK1_PTsWYdNyDarA         막타의호흡\n",
            "                                          summoner_id  summoner_name\n",
            "200   zIDaKOuphmZwbwALh2YSedyg_BkpdUuIxhe8nlhTHHTx2Oc           9947\n",
            "201   sXBgS3cITUDBetjXjBhl_MSkFs8cKtB3gdorZ9zTANa8dWM        원딜권익위원장\n",
            "202  HkGDt23kWtteDpxRi4CtMQcPydUvHbCZNlYns-w8SDPn7Ysc  can i love yu\n",
            "203  sk8JiSljFI5CQVb_VYocdyyYIZUeNI4n56wHTzpd0M9Z_pQV            김우뱅\n",
            "204   fcW_mQEAKAVWQZZA613POVxIgZ8TWHFHvp3ibOLDcOhHoTM     The Videri\n"
          ]
        }
      ]
    },
    {
      "cell_type": "code",
      "source": [
        "df_gold.info()"
      ],
      "metadata": {
        "colab": {
          "base_uri": "https://localhost:8080/"
        },
        "id": "jGDO6AM84H47",
        "outputId": "86d353ba-a3ce-4ca3-ff00-ebf892f1455c"
      },
      "execution_count": null,
      "outputs": [
        {
          "output_type": "stream",
          "name": "stdout",
          "text": [
            "<class 'pandas.core.frame.DataFrame'>\n",
            "Int64Index: 820 entries, 0 to 204\n",
            "Data columns (total 2 columns):\n",
            " #   Column         Non-Null Count  Dtype \n",
            "---  ------         --------------  ----- \n",
            " 0   summoner_id    820 non-null    object\n",
            " 1   summoner_name  820 non-null    object\n",
            "dtypes: object(2)\n",
            "memory usage: 19.2+ KB\n"
          ]
        }
      ]
    },
    {
      "cell_type": "code",
      "source": [
        "df_gold.reset_index(drop = True) # 인덱스가 이상하길래 초기화시켰다. "
      ],
      "metadata": {
        "colab": {
          "base_uri": "https://localhost:8080/",
          "height": 424
        },
        "id": "bX5s6pmB4XlI",
        "outputId": "5e54f036-a950-45e6-9792-1bbb7b9b53c6"
      },
      "execution_count": 37,
      "outputs": [
        {
          "output_type": "execute_result",
          "data": {
            "text/plain": [
              "                                          summoner_id  summoner_name\n",
              "0    xn87B73DmRFH_2m42rX7B9eTe9kWWMKMSG97yXO2UlMf2lep         J꾸짖을 갈\n",
              "1    QPi-8CUDhm_mYttzQKpDR3EYhgRraB05V-DpX21HVmwN3DYG            푸 투\n",
              "2    wO6e2sgb8s5qexhWcAOV60yTn6cppq4kVTNLnB4P9HqhKqGP       마법소녀 모야삡\n",
              "3    avNBhDDrbGeoKshj0k4RBSgKU7zXgJA0p60UbXvDFgNLtvkh           응애소나\n",
              "4    YRpk_hdXNUS_7QNh3h9VV5ReoiMcxvLSMK1_PTsWYdNyDarA          막타의호흡\n",
              "..                                                ...            ...\n",
              "815   zIDaKOuphmZwbwALh2YSedyg_BkpdUuIxhe8nlhTHHTx2Oc           9947\n",
              "816   sXBgS3cITUDBetjXjBhl_MSkFs8cKtB3gdorZ9zTANa8dWM        원딜권익위원장\n",
              "817  HkGDt23kWtteDpxRi4CtMQcPydUvHbCZNlYns-w8SDPn7Ysc  can i love yu\n",
              "818  sk8JiSljFI5CQVb_VYocdyyYIZUeNI4n56wHTzpd0M9Z_pQV            김우뱅\n",
              "819   fcW_mQEAKAVWQZZA613POVxIgZ8TWHFHvp3ibOLDcOhHoTM     The Videri\n",
              "\n",
              "[820 rows x 2 columns]"
            ],
            "text/html": [
              "\n",
              "  <div id=\"df-f3f12fca-9174-4043-98d8-c82d6404153c\">\n",
              "    <div class=\"colab-df-container\">\n",
              "      <div>\n",
              "<style scoped>\n",
              "    .dataframe tbody tr th:only-of-type {\n",
              "        vertical-align: middle;\n",
              "    }\n",
              "\n",
              "    .dataframe tbody tr th {\n",
              "        vertical-align: top;\n",
              "    }\n",
              "\n",
              "    .dataframe thead th {\n",
              "        text-align: right;\n",
              "    }\n",
              "</style>\n",
              "<table border=\"1\" class=\"dataframe\">\n",
              "  <thead>\n",
              "    <tr style=\"text-align: right;\">\n",
              "      <th></th>\n",
              "      <th>summoner_id</th>\n",
              "      <th>summoner_name</th>\n",
              "    </tr>\n",
              "  </thead>\n",
              "  <tbody>\n",
              "    <tr>\n",
              "      <th>0</th>\n",
              "      <td>xn87B73DmRFH_2m42rX7B9eTe9kWWMKMSG97yXO2UlMf2lep</td>\n",
              "      <td>J꾸짖을 갈</td>\n",
              "    </tr>\n",
              "    <tr>\n",
              "      <th>1</th>\n",
              "      <td>QPi-8CUDhm_mYttzQKpDR3EYhgRraB05V-DpX21HVmwN3DYG</td>\n",
              "      <td>푸 투</td>\n",
              "    </tr>\n",
              "    <tr>\n",
              "      <th>2</th>\n",
              "      <td>wO6e2sgb8s5qexhWcAOV60yTn6cppq4kVTNLnB4P9HqhKqGP</td>\n",
              "      <td>마법소녀 모야삡</td>\n",
              "    </tr>\n",
              "    <tr>\n",
              "      <th>3</th>\n",
              "      <td>avNBhDDrbGeoKshj0k4RBSgKU7zXgJA0p60UbXvDFgNLtvkh</td>\n",
              "      <td>응애소나</td>\n",
              "    </tr>\n",
              "    <tr>\n",
              "      <th>4</th>\n",
              "      <td>YRpk_hdXNUS_7QNh3h9VV5ReoiMcxvLSMK1_PTsWYdNyDarA</td>\n",
              "      <td>막타의호흡</td>\n",
              "    </tr>\n",
              "    <tr>\n",
              "      <th>...</th>\n",
              "      <td>...</td>\n",
              "      <td>...</td>\n",
              "    </tr>\n",
              "    <tr>\n",
              "      <th>815</th>\n",
              "      <td>zIDaKOuphmZwbwALh2YSedyg_BkpdUuIxhe8nlhTHHTx2Oc</td>\n",
              "      <td>9947</td>\n",
              "    </tr>\n",
              "    <tr>\n",
              "      <th>816</th>\n",
              "      <td>sXBgS3cITUDBetjXjBhl_MSkFs8cKtB3gdorZ9zTANa8dWM</td>\n",
              "      <td>원딜권익위원장</td>\n",
              "    </tr>\n",
              "    <tr>\n",
              "      <th>817</th>\n",
              "      <td>HkGDt23kWtteDpxRi4CtMQcPydUvHbCZNlYns-w8SDPn7Ysc</td>\n",
              "      <td>can i love yu</td>\n",
              "    </tr>\n",
              "    <tr>\n",
              "      <th>818</th>\n",
              "      <td>sk8JiSljFI5CQVb_VYocdyyYIZUeNI4n56wHTzpd0M9Z_pQV</td>\n",
              "      <td>김우뱅</td>\n",
              "    </tr>\n",
              "    <tr>\n",
              "      <th>819</th>\n",
              "      <td>fcW_mQEAKAVWQZZA613POVxIgZ8TWHFHvp3ibOLDcOhHoTM</td>\n",
              "      <td>The Videri</td>\n",
              "    </tr>\n",
              "  </tbody>\n",
              "</table>\n",
              "<p>820 rows × 2 columns</p>\n",
              "</div>\n",
              "      <button class=\"colab-df-convert\" onclick=\"convertToInteractive('df-f3f12fca-9174-4043-98d8-c82d6404153c')\"\n",
              "              title=\"Convert this dataframe to an interactive table.\"\n",
              "              style=\"display:none;\">\n",
              "        \n",
              "  <svg xmlns=\"http://www.w3.org/2000/svg\" height=\"24px\"viewBox=\"0 0 24 24\"\n",
              "       width=\"24px\">\n",
              "    <path d=\"M0 0h24v24H0V0z\" fill=\"none\"/>\n",
              "    <path d=\"M18.56 5.44l.94 2.06.94-2.06 2.06-.94-2.06-.94-.94-2.06-.94 2.06-2.06.94zm-11 1L8.5 8.5l.94-2.06 2.06-.94-2.06-.94L8.5 2.5l-.94 2.06-2.06.94zm10 10l.94 2.06.94-2.06 2.06-.94-2.06-.94-.94-2.06-.94 2.06-2.06.94z\"/><path d=\"M17.41 7.96l-1.37-1.37c-.4-.4-.92-.59-1.43-.59-.52 0-1.04.2-1.43.59L10.3 9.45l-7.72 7.72c-.78.78-.78 2.05 0 2.83L4 21.41c.39.39.9.59 1.41.59.51 0 1.02-.2 1.41-.59l7.78-7.78 2.81-2.81c.8-.78.8-2.07 0-2.86zM5.41 20L4 18.59l7.72-7.72 1.47 1.35L5.41 20z\"/>\n",
              "  </svg>\n",
              "      </button>\n",
              "      \n",
              "  <style>\n",
              "    .colab-df-container {\n",
              "      display:flex;\n",
              "      flex-wrap:wrap;\n",
              "      gap: 12px;\n",
              "    }\n",
              "\n",
              "    .colab-df-convert {\n",
              "      background-color: #E8F0FE;\n",
              "      border: none;\n",
              "      border-radius: 50%;\n",
              "      cursor: pointer;\n",
              "      display: none;\n",
              "      fill: #1967D2;\n",
              "      height: 32px;\n",
              "      padding: 0 0 0 0;\n",
              "      width: 32px;\n",
              "    }\n",
              "\n",
              "    .colab-df-convert:hover {\n",
              "      background-color: #E2EBFA;\n",
              "      box-shadow: 0px 1px 2px rgba(60, 64, 67, 0.3), 0px 1px 3px 1px rgba(60, 64, 67, 0.15);\n",
              "      fill: #174EA6;\n",
              "    }\n",
              "\n",
              "    [theme=dark] .colab-df-convert {\n",
              "      background-color: #3B4455;\n",
              "      fill: #D2E3FC;\n",
              "    }\n",
              "\n",
              "    [theme=dark] .colab-df-convert:hover {\n",
              "      background-color: #434B5C;\n",
              "      box-shadow: 0px 1px 3px 1px rgba(0, 0, 0, 0.15);\n",
              "      filter: drop-shadow(0px 1px 2px rgba(0, 0, 0, 0.3));\n",
              "      fill: #FFFFFF;\n",
              "    }\n",
              "  </style>\n",
              "\n",
              "      <script>\n",
              "        const buttonEl =\n",
              "          document.querySelector('#df-f3f12fca-9174-4043-98d8-c82d6404153c button.colab-df-convert');\n",
              "        buttonEl.style.display =\n",
              "          google.colab.kernel.accessAllowed ? 'block' : 'none';\n",
              "\n",
              "        async function convertToInteractive(key) {\n",
              "          const element = document.querySelector('#df-f3f12fca-9174-4043-98d8-c82d6404153c');\n",
              "          const dataTable =\n",
              "            await google.colab.kernel.invokeFunction('convertToInteractive',\n",
              "                                                     [key], {});\n",
              "          if (!dataTable) return;\n",
              "\n",
              "          const docLinkHtml = 'Like what you see? Visit the ' +\n",
              "            '<a target=\"_blank\" href=https://colab.research.google.com/notebooks/data_table.ipynb>data table notebook</a>'\n",
              "            + ' to learn more about interactive tables.';\n",
              "          element.innerHTML = '';\n",
              "          dataTable['output_type'] = 'display_data';\n",
              "          await google.colab.output.renderOutput(dataTable, element);\n",
              "          const docLink = document.createElement('div');\n",
              "          docLink.innerHTML = docLinkHtml;\n",
              "          element.appendChild(docLink);\n",
              "        }\n",
              "      </script>\n",
              "    </div>\n",
              "  </div>\n",
              "  "
            ]
          },
          "metadata": {},
          "execution_count": 37
        }
      ]
    },
    {
      "cell_type": "markdown",
      "source": [
        "# 데이터프레임 csv 파일로 저장하기 "
      ],
      "metadata": {
        "id": "uyMMtnNl5GUe"
      }
    },
    {
      "cell_type": "code",
      "source": [
        "import pandas as pd \n",
        "import requests \n",
        "import json\n",
        "import csv"
      ],
      "metadata": {
        "id": "EpySZPkGcS6P"
      },
      "execution_count": 4,
      "outputs": []
    },
    {
      "cell_type": "code",
      "source": [
        "df_gold.to_csv('/content/drive/My Drive/df_gold_file.csv', header=True, index=False)  # 저장"
      ],
      "metadata": {
        "id": "iOVjDAnp5Tqi"
      },
      "execution_count": 46,
      "outputs": []
    },
    {
      "cell_type": "code",
      "source": [
        "df_gold = pd.read_csv('/content/drive/MyDrive/df_gold_file.csv')  # 불러오기 "
      ],
      "metadata": {
        "id": "CKOuXejX7FUP"
      },
      "execution_count": 5,
      "outputs": []
    },
    {
      "cell_type": "markdown",
      "source": [
        "# summoner id 만 따로 리스트로 뽑기 "
      ],
      "metadata": {
        "id": "8MSVU-uxeq0n"
      }
    },
    {
      "cell_type": "code",
      "source": [
        "summoner_id_list = df_gold['summoner_id'].tolist()\n",
        "print(summoner_id_list)"
      ],
      "metadata": {
        "id": "9N6wQGEqfF73"
      },
      "execution_count": null,
      "outputs": []
    },
    {
      "cell_type": "markdown",
      "source": [
        "# 추출된 summoner id 에 해당되는 puuid 추출(완)(puuid 820개)"
      ],
      "metadata": {
        "id": "J5N4Z7DVeZ68"
      }
    },
    {
      "cell_type": "code",
      "source": [
        "pip install retrying"
      ],
      "metadata": {
        "colab": {
          "base_uri": "https://localhost:8080/"
        },
        "id": "96iLtH07fNSU",
        "outputId": "5ae09bd3-7b7d-4c39-f829-56c1930be846"
      },
      "execution_count": 7,
      "outputs": [
        {
          "output_type": "stream",
          "name": "stdout",
          "text": [
            "Looking in indexes: https://pypi.org/simple, https://us-python.pkg.dev/colab-wheels/public/simple/\n",
            "Collecting retrying\n",
            "  Downloading retrying-1.3.4-py3-none-any.whl (11 kB)\n",
            "Requirement already satisfied: six>=1.7.0 in /usr/local/lib/python3.9/dist-packages (from retrying) (1.16.0)\n",
            "Installing collected packages: retrying\n",
            "Successfully installed retrying-1.3.4\n"
          ]
        }
      ]
    },
    {
      "cell_type": "code",
      "source": [
        "import requests\n",
        "import time\n",
        "import retrying\n",
        "\n",
        "api_key = 'RGAPI-3f7de791-cd0b-4876-8d0a-d75cc191ae1f'\n",
        "\n",
        "# Set up the base URL for the Riot API\n",
        "base_url = 'https://kr.api.riotgames.com'\n",
        "\n",
        "# Set up the regions \n",
        "regions = ['kr']\n",
        "\n",
        "# Set up an empty list to store the puuids\n",
        "puuid_list = []\n",
        "\n",
        "# Set up rate limit variables\n",
        "RATE_LIMIT_RETRIES = 5\n",
        "RATE_LIMIT_BACKOFF_FACTOR = 2\n",
        "\n",
        "# Set up retries variables\n",
        "RETRIES = 5\n",
        "BACKOFF_FACTOR = 2\n",
        "\n",
        "# Define a function to make a request to the Riot API with retries and rate limiting\n",
        "@retrying.retry(wait_exponential_multiplier=1000, wait_exponential_max=10000, stop_max_attempt_number=RETRIES)\n",
        "def request_riot_api(url, headers):\n",
        "    response = requests.get(url, headers=headers)\n",
        "    if response.status_code == 429:\n",
        "        retry_after = int(response.headers['Retry-After'])\n",
        "        time.sleep(retry_after + 1)\n",
        "        raise Exception('Rate limit exceeded, retrying...')\n",
        "    elif response.status_code != 200:\n",
        "        raise Exception(f'Request failed with status code {response.status_code}: {response.content.decode()}')\n",
        "    return response.json()\n",
        "\n",
        "# Iterate over each region\n",
        "for region in regions:\n",
        "    # Set up the Summoner API endpoint URL\n",
        "    summoner_url = base_url.format(region=region) + '/lol/summoner/v4/summoners/{encryptedSummonerId}'\n",
        "    \n",
        "    # Set up the headers for the API requests\n",
        "    headers = {'X-Riot-Token': api_key}\n",
        "    \n",
        "    # Iterate over each summoner ID in the list\n",
        "    for summoner_id in summoner_id_list:\n",
        "        # Make a request to the Summoner API for the corresponding puuid\n",
        "        for i in range(RATE_LIMIT_RETRIES):\n",
        "            try:\n",
        "                summoner_data = request_riot_api(summoner_url.format(encryptedSummonerId=summoner_id), headers)\n",
        "                break\n",
        "            except Exception as e:\n",
        "                print(e)\n",
        "                print(f'Retrying in {BACKOFF_FACTOR ** i} seconds...')\n",
        "                time.sleep(BACKOFF_FACTOR ** i)\n",
        "\n",
        "        # Append the puuid to the list\n",
        "        puuid_list.append(summoner_data['puuid'])\n",
        "\n",
        "# Print the resulting puuid list\n",
        "print(puuid_list)"
      ],
      "metadata": {
        "id": "nGY6CDHueZfp"
      },
      "execution_count": null,
      "outputs": []
    },
    {
      "cell_type": "code",
      "source": [],
      "metadata": {
        "id": "CwKX2VGh5l9p"
      },
      "execution_count": null,
      "outputs": []
    },
    {
      "cell_type": "markdown",
      "source": [
        "# 저장된 puuid list 불러오기 \n",
        "* puuid_list_mini 만들기 "
      ],
      "metadata": {
        "id": "zZOkpgxK5md4"
      }
    },
    {
      "cell_type": "code",
      "source": [
        "import csv\n",
        "import requests\n",
        "import json\n",
        "import pandas as pd"
      ],
      "metadata": {
        "id": "q-6XMPUTKTol"
      },
      "execution_count": 2,
      "outputs": []
    },
    {
      "cell_type": "code",
      "source": [
        "import csv\n",
        "\n",
        "with open('/content/drive/MyDrive/LOL_ANALYSIS_0323/puuidfile_genuine.csv','r',newline='') as f:\n",
        "    reader = csv.reader(f)\n",
        "    puuid_list = [row for row in reader]\n",
        "\n",
        "puuid_list = puuid_list[0]\n",
        "\n",
        "print(puuid_list)\n",
        "\n"
      ],
      "metadata": {
        "id": "YxQU9f6kiQw3"
      },
      "execution_count": null,
      "outputs": []
    },
    {
      "cell_type": "code",
      "source": [
        "puuid_list_mini = puuid_list[0:2]\n",
        "print(puuid_list_mini)\n",
        "print(len(puuid_list_mini))"
      ],
      "metadata": {
        "id": "MmmPmd5KUdZT"
      },
      "execution_count": null,
      "outputs": []
    },
    {
      "cell_type": "code",
      "source": [
        "puuid_list_semimini = puuid_list[0:30]\n",
        "print(puuid_list_semimini)\n",
        "print(len(puuid_list_semimini))"
      ],
      "metadata": {
        "id": "xaOEUNQo8bJt"
      },
      "execution_count": null,
      "outputs": []
    },
    {
      "cell_type": "markdown",
      "source": [
        "# 각 puuid 당 10개의 match id를 추출해보자"
      ],
      "metadata": {
        "id": "dUhE8IRldcXK"
      }
    },
    {
      "cell_type": "code",
      "source": [
        "# puuid_list_mini(2명의 puuid보유)에 대해 적용\n",
        "import requests\n",
        "import time\n",
        "import json\n",
        "\n",
        "# Replace {api_key} with your Riot API key\n",
        "api_key = 'RGAPI-54d97388-b370-49d4-84c7-23b9109043b0'\n",
        "\n",
        "match_id_mini = []\n",
        "\n",
        "for puuid in puuid_list_mini:\n",
        "    # Get the match list for the current user\n",
        "    response = requests.get(f'https://asia.api.riotgames.com/lol/match/v5/matches/by-puuid/{puuid}/ids',\n",
        "                            headers={'X-Riot-Token': api_key})\n",
        "    \n",
        "    # Check if the response was successful\n",
        "    if response.status_code != 200:\n",
        "        print(f'Error getting match list for puuid {puuid}: {response.text}')\n",
        "        continue\n",
        "    \n",
        "    # Extract up to 10 match IDs for the current user\n",
        "    match_ids = response.json()[:10]\n",
        "    \n",
        "    # Add the match IDs to the final list\n",
        "    match_id_mini.extend(match_ids)\n",
        "\n",
        "print(match_id_mini)"
      ],
      "metadata": {
        "id": "QJ-z6iYe885G"
      },
      "execution_count": null,
      "outputs": []
    },
    {
      "cell_type": "code",
      "source": [
        "# 그냥 puuid_list 에 대해 적용\n",
        "\n",
        "api_key = 'RGAPI-54d97388-b370-49d4-84c7-23b9109043b0'\n",
        "match_id_list = []\n",
        "\n",
        "# Define the maximum number of requests per second and the time to wait between each batch of requests\n",
        "MAX_REQUESTS_PER_SECOND = 5\n",
        "WAIT_TIME_BETWEEN_BATCHES = 1 / MAX_REQUESTS_PER_SECOND\n",
        "\n",
        "# Loop through each puuid in the list\n",
        "for puuid in puuid_list:\n",
        "    # Get the match list for the current user\n",
        "    response = requests.get(f'https://asia.api.riotgames.com/lol/match/v5/matches/by-puuid/{puuid}/ids?start=0&count=10',\n",
        "                            headers={'X-Riot-Token': api_key})\n",
        "    \n",
        "    # Check if the response was successful\n",
        "    if response.status_code != 200:\n",
        "        print(f'Error getting match list for puuid {puuid}: {response.text}')\n",
        "        continue\n",
        "    \n",
        "    # Extract up to 10 match IDs for the current user\n",
        "    match_ids = response.json()\n",
        "    \n",
        "    # Add the match IDs to the final list\n",
        "    match_id_list.extend(match_ids)\n",
        "    \n",
        "    # Sleep for a short time to avoid hitting the rate limit\n",
        "    time.sleep(WAIT_TIME_BETWEEN_BATCHES)\n",
        "\n",
        "print(match_id_list)\n"
      ],
      "metadata": {
        "id": "e6iPuMay-S8f"
      },
      "execution_count": null,
      "outputs": []
    },
    {
      "cell_type": "markdown",
      "source": [
        "# 추출된 match_id list 를 csv 파일로 저장"
      ],
      "metadata": {
        "id": "EM_V5yy1F9KN"
      }
    },
    {
      "cell_type": "code",
      "source": [
        "import csv\n",
        "f = open('matchidfile_genuine.csv', 'w')\n",
        "writer = csv.writer(f)\n",
        "writer.writerow(match_id_list)\n",
        "f.close()"
      ],
      "metadata": {
        "id": "a8Ux53yFGEpC"
      },
      "execution_count": 20,
      "outputs": []
    },
    {
      "cell_type": "code",
      "source": [
        "import csv\n",
        "\n",
        "with open('/content/drive/MyDrive/LOL_ANALYSIS_0323/matchidfile_genuine.csv','r',newline='') as f:\n",
        "    reader = csv.reader(f)\n",
        "    match_id_list = [row for row in reader]\n",
        "\n",
        "match_id_list = match_id_list[0]\n",
        "\n",
        "print(match_id_list)\n",
        "\n"
      ],
      "metadata": {
        "id": "Tdepcw2mSkBm"
      },
      "execution_count": null,
      "outputs": []
    },
    {
      "cell_type": "markdown",
      "source": [
        "# puuid 와 match id를 하나의 데이터프레임으로 합치기 "
      ],
      "metadata": {
        "id": "KAVAO_fFGoaS"
      }
    },
    {
      "cell_type": "code",
      "source": [
        "print(len(match_id_list))\n",
        "print(len(puuid_list))"
      ],
      "metadata": {
        "colab": {
          "base_uri": "https://localhost:8080/"
        },
        "id": "KVDWTqZeG6iz",
        "outputId": "eecdcd4a-5a93-4360-e01b-c4fe593d4cbd"
      },
      "execution_count": 17,
      "outputs": [
        {
          "output_type": "stream",
          "name": "stdout",
          "text": [
            "8200\n",
            "820\n"
          ]
        }
      ]
    },
    {
      "cell_type": "code",
      "source": [
        "from itertools import chain, repeat\n",
        "\n",
        "puuid_list_10times = list(chain.from_iterable((repeat(number, 10) for number in puuid_list))) # 각 puuid 10번 반복한 리스트 \n",
        "print(puuid_list_10times)   # check \n",
        "print(len(puuid_list_10times))"
      ],
      "metadata": {
        "id": "nw_uHtl4EZa1"
      },
      "execution_count": null,
      "outputs": []
    },
    {
      "cell_type": "code",
      "source": [
        "import pandas as pd\n",
        "# create a DataFrame with puuid and match_id as column\n",
        "match_id_df = pd.DataFrame()\n",
        "match_id_df['puuid'] = puuid_list_10times\n",
        "match_id_df['match_id'] = match_id_list"
      ],
      "metadata": {
        "id": "bRQNhBoa_2a9"
      },
      "execution_count": 19,
      "outputs": []
    },
    {
      "cell_type": "code",
      "source": [],
      "metadata": {
        "id": "4Ty-3Xs6Tadt"
      },
      "execution_count": null,
      "outputs": []
    },
    {
      "cell_type": "markdown",
      "source": [
        "# match_id_df_mini 를 만들고 잘 되는지 테스트 해보자."
      ],
      "metadata": {
        "id": "1v6XPkCoHOM6"
      }
    },
    {
      "cell_type": "code",
      "source": [
        "match_id_df_mini = match_id_df.iloc[0:3000,]\n",
        "print(match_id_df_mini)"
      ],
      "metadata": {
        "id": "EftFOu_RHP_f"
      },
      "execution_count": null,
      "outputs": []
    },
    {
      "cell_type": "code",
      "source": [
        "match_id_df"
      ],
      "metadata": {
        "id": "EdJCPKTzI_Ej"
      },
      "execution_count": null,
      "outputs": []
    },
    {
      "cell_type": "code",
      "source": [
        "import requests\n",
        "import json\n",
        "import time\n",
        "\n",
        "api_key = 'RGAPI-54d97388-b370-49d4-84c7-23b9109043b0'\n",
        "region = 'asia'\n",
        "# Empty lists to store the collected data\n",
        "# game_mode_list = [] 얘넨 나중에\n",
        "# game_type_list = []\n",
        "assists_list = []\n",
        "kills_list = []\n",
        "deaths_list = []\n",
        "champExp_list = [] #champ_experience_list\n",
        "champName_list = [] #champion_name_list\n",
        "indiPos_list = [] #individual_position_list\n",
        "lane_list = []\n",
        "role_list = []\n",
        "gold_list = []   #gold_earned_list\n",
        "teamPos_list = []\n",
        "tDDealt_list = []  #total_damage_dealt_list\n",
        "tDDealtChamp_list = [] #total_damage_dealt_to_champions_list\n",
        "tDTaken_list = []  #total_damage_taken_list\n",
        "tMKilled_list = []  #total_minions_killed_list\n",
        "turKills_list = []  #turret_kills_list\n",
        "win_list = []\n",
        "\n",
        "\n",
        "for i in range(0,8200): #########길이 수정 요망########\n",
        "    pair = match_id_df.iloc[i,:].to_list()\n",
        "    puuid = pair[0]\n",
        "    match_id = pair[1]\n",
        "    url = f'https://asia.api.riotgames.com/lol/match/v5/matches/{match_id}?api_key={api_key}'\n",
        "\n",
        "    # Make the Riot API call\n",
        "    response = requests.get(url)\n",
        "    response_json = response.json()\n",
        "\n",
        "    assists = None  # set a default value for assists\n",
        "    for participant in response_json['info']['participants']:\n",
        "        if participant['puuid'] == puuid:\n",
        "          #if participant['individualPosition'] == 'MIDDLE':\n",
        "            assists = participant['assists']\n",
        "            kills = participant['kills']\n",
        "            deaths = participant[\"deaths\"]\n",
        "            champExp = participant[\"champExperience\"]\n",
        "            champName = participant[\"championName\"]\n",
        "            indiPos = participant[\"individualPosition\"]\n",
        "            teamPos = participant[\"teamPosition\"]\n",
        "            lane = participant[\"lane\"]\n",
        "            role = participant[\"role\"]\n",
        "            gold = participant[\"goldEarned\"]\n",
        "            tDDealt = participant[\"totalDamageDealt\"]\n",
        "            tDDealtChamp = participant[\"totalDamageDealtToChampions\"]\n",
        "            tDTaken = participant[\"totalDamageTaken\"]\n",
        "            tMKilled = participant[\"totalMinionsKilled\"]\n",
        "            turKills = participant[\"turretKills\"]\n",
        "            win = participant[\"win\"]\n",
        "            break\n",
        "\n",
        "    if assists is not None:\n",
        "        assists_list.append(assists)  # append assists only if it was set to a non-default value\n",
        "    if kills is not None:\n",
        "        kills_list.append(kills)\n",
        "    if deaths is not None:\n",
        "        deaths_list.append(deaths)\n",
        "    if champExp is not None:\n",
        "        champExp_list.append(champExp)\n",
        "    if champName is not None:\n",
        "        champName_list.append(champName)\n",
        "    if indiPos is not None:\n",
        "        indiPos_list.append(indiPos)\n",
        "    if teamPos is not None:\n",
        "        teamPos_list.append(teamPos)\n",
        "    if lane is not None:\n",
        "        lane_list.append(lane)\n",
        "    if role is not None:\n",
        "        role_list.append(role)\n",
        "    if gold is not None:\n",
        "        gold_list.append(gold)\n",
        "    if tDDealt is not None:\n",
        "        tDDealt_list.append(tDDealt)\n",
        "    if tDDealtChamp is not None:\n",
        "        tDDealtChamp_list.append(tDDealtChamp)\n",
        "    if tDTaken is not None:\n",
        "        tDTaken_list.append(tDTaken)\n",
        "    if tMKilled is not None:\n",
        "        tMKilled_list.append(tMKilled)\n",
        "    if turKills is not None:\n",
        "        turKills_list.append(turKills)\n",
        "    if win is not None:\n",
        "        win_list.append(win)\n",
        "\n",
        "    time.sleep(1)"
      ],
      "metadata": {
        "id": "ZGPIfPwXAOhu"
      },
      "execution_count": 23,
      "outputs": []
    },
    {
      "cell_type": "code",
      "source": [
        "# 잘 추출되었는지 확인\n",
        "print(assists_list)"
      ],
      "metadata": {
        "id": "Mfc-9-5sJGVL"
      },
      "execution_count": null,
      "outputs": []
    },
    {
      "cell_type": "code",
      "source": [
        "final_df = pd.DataFrame()\n",
        "#final_df['assists'] = assists_list\n",
        "final_df['kills'] = kills_list\n",
        "final_df['deaths'] = deaths_list\n",
        "final_df['champExp'] = champExp_list #champ_experience_list\n",
        "final_df['champName'] = champName_list #champion_name_list\n",
        "final_df['indiPos'] = indiPos_list #individual_position_list\n",
        "final_df['lane'] = lane_list\n",
        "final_df['role'] = role_list \n",
        "final_df['gold'] = gold_list    #gold_earned_list\n",
        "final_df['teamPos'] = teamPos_list \n",
        "final_df['tDDealt'] = tDDealt_list  #total_damage_dealt_list\n",
        "final_df['tDDealtChamp'] = tDDealtChamp_list #total_damage_dealt_to_champions_list\n",
        "final_df['tDTaken'] = tDTaken_list  #total_damage_taken_list\n",
        "final_df['tMKilled'] = tMKilled_list   #total_minions_killed_list\n",
        "final_df['turKills'] = turKills_list   #turret_kills_list\n",
        "final_df['win'] = win_list "
      ],
      "metadata": {
        "id": "gIemAOENdfFe"
      },
      "execution_count": 39,
      "outputs": []
    },
    {
      "cell_type": "markdown",
      "source": [
        "# 전체 포지션에 대한 데이터 csv 파일로 저장 "
      ],
      "metadata": {
        "id": "3XzoVT1oYOrd"
      }
    },
    {
      "cell_type": "code",
      "source": [
        "final_df.to_csv('matchdata_majority_final.csv', header=True, index=False)"
      ],
      "metadata": {
        "id": "nwrUHipEsCWz"
      },
      "execution_count": 40,
      "outputs": []
    },
    {
      "cell_type": "markdown",
      "source": [
        "# MIDDLE 포지션에 해당되는 유저만 CSV 파일로 데이터 저장 \n",
        "* teamPos, indiPos, lane 중에서 indiPos(individual Position)을 기준으로 뽑았다. "
      ],
      "metadata": {
        "id": "oeHib5SBYN3r"
      }
    },
    {
      "cell_type": "code",
      "source": [
        "print(final_df.head())\n",
        "print((final_df.loc[final_df['indiPos'] == 'MIDDLE']).info())"
      ],
      "metadata": {
        "colab": {
          "base_uri": "https://localhost:8080/"
        },
        "id": "6JPRFcUPSeiP",
        "outputId": "f8de0aff-b3e2-4641-f65d-fd5d0a732bed"
      },
      "execution_count": 66,
      "outputs": [
        {
          "output_type": "stream",
          "name": "stdout",
          "text": [
            "   kills  deaths  champExp champName indiPos    lane   role   gold teamPos  \\\n",
            "0      2       2     10214    Ezreal  BOTTOM  BOTTOM  CARRY   8854  BOTTOM   \n",
            "1      5       5     11307     Varus  BOTTOM  BOTTOM  CARRY  11829  BOTTOM   \n",
            "2     18      12     20641     Xayah  BOTTOM  BOTTOM  CARRY  23063  BOTTOM   \n",
            "3      7       5     13471   Chogath  BOTTOM  BOTTOM  CARRY  11099  BOTTOM   \n",
            "4      4      13      8939      Jinx  BOTTOM  BOTTOM  CARRY   9495  BOTTOM   \n",
            "\n",
            "   tDDealt  tDDealtChamp  tDTaken  tMKilled  turKills    win  \n",
            "0   112695         17186     9713       171         0  False  \n",
            "1   125807         13443    21688       211         0  False  \n",
            "2   430571         73732    31385       278         3   True  \n",
            "3   102283         24570    31040       116         2   True  \n",
            "4    71372         12389    19782       133         0  False  \n",
            "<class 'pandas.core.frame.DataFrame'>\n",
            "Int64Index: 1271 entries, 15 to 8189\n",
            "Data columns (total 15 columns):\n",
            " #   Column        Non-Null Count  Dtype \n",
            "---  ------        --------------  ----- \n",
            " 0   kills         1271 non-null   int64 \n",
            " 1   deaths        1271 non-null   int64 \n",
            " 2   champExp      1271 non-null   int64 \n",
            " 3   champName     1271 non-null   object\n",
            " 4   indiPos       1271 non-null   object\n",
            " 5   lane          1271 non-null   object\n",
            " 6   role          1271 non-null   object\n",
            " 7   gold          1271 non-null   int64 \n",
            " 8   teamPos       1271 non-null   object\n",
            " 9   tDDealt       1271 non-null   int64 \n",
            " 10  tDDealtChamp  1271 non-null   int64 \n",
            " 11  tDTaken       1271 non-null   int64 \n",
            " 12  tMKilled      1271 non-null   int64 \n",
            " 13  turKills      1271 non-null   int64 \n",
            " 14  win           1271 non-null   bool  \n",
            "dtypes: bool(1), int64(9), object(5)\n",
            "memory usage: 150.2+ KB\n",
            "None\n"
          ]
        }
      ]
    },
    {
      "cell_type": "code",
      "source": [
        "mid = final_df.loc[final_df['indiPos'] == 'MIDDLE']   "
      ],
      "metadata": {
        "id": "ZsxQw-TCXG3l"
      },
      "execution_count": 55,
      "outputs": []
    },
    {
      "cell_type": "code",
      "source": [
        "mid.info()"
      ],
      "metadata": {
        "colab": {
          "base_uri": "https://localhost:8080/"
        },
        "id": "wdeZojNlXNGW",
        "outputId": "98504998-f3b1-4f6a-c565-ef501780de78"
      },
      "execution_count": 56,
      "outputs": [
        {
          "output_type": "stream",
          "name": "stdout",
          "text": [
            "<class 'pandas.core.frame.DataFrame'>\n",
            "Int64Index: 1271 entries, 15 to 8189\n",
            "Data columns (total 15 columns):\n",
            " #   Column        Non-Null Count  Dtype \n",
            "---  ------        --------------  ----- \n",
            " 0   kills         1271 non-null   int64 \n",
            " 1   deaths        1271 non-null   int64 \n",
            " 2   champExp      1271 non-null   int64 \n",
            " 3   champName     1271 non-null   object\n",
            " 4   indiPos       1271 non-null   object\n",
            " 5   lane          1271 non-null   object\n",
            " 6   role          1271 non-null   object\n",
            " 7   gold          1271 non-null   int64 \n",
            " 8   teamPos       1271 non-null   object\n",
            " 9   tDDealt       1271 non-null   int64 \n",
            " 10  tDDealtChamp  1271 non-null   int64 \n",
            " 11  tDTaken       1271 non-null   int64 \n",
            " 12  tMKilled      1271 non-null   int64 \n",
            " 13  turKills      1271 non-null   int64 \n",
            " 14  win           1271 non-null   bool  \n",
            "dtypes: bool(1), int64(9), object(5)\n",
            "memory usage: 150.2+ KB\n"
          ]
        }
      ]
    },
    {
      "cell_type": "code",
      "source": [
        "mid.to_csv('matchdata_majority_final_mid.csv', header=True, index=False)"
      ],
      "metadata": {
        "id": "fpx9DBuWYvq_"
      },
      "execution_count": 67,
      "outputs": []
    }
  ]
}